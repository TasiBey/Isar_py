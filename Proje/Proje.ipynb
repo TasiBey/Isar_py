{
 "cells": [
  {
   "cell_type": "code",
   "execution_count": 2,
   "metadata": {},
   "outputs": [],
   "source": [
    "import pandas as pd\n",
    "import numpy as np\n",
    "from bokeh.plotting import figure, output_notebook, show\n",
    "import plotly.graph_objects as go\n",
    "import plotly.express as px\n",
    "import matplotlib.pyplot as plt\n",
    "import seaborn as sns"
   ]
  },
  {
   "cell_type": "code",
   "execution_count": 3,
   "metadata": {},
   "outputs": [],
   "source": [
    "import pandas as pd\n",
    "\n",
    "paths = ['C:/Users/Ali Arda/Desktop/Dosyalar/Kodlar/İsar/Proje/DataSet_Global2000/aroissues-forbes-global-2000-2008-2019/G2000_{}.xlsx'.format(i) for i in range(8, 23)]\n",
    "dfs = [pd.read_excel(path).head(200) for path in paths]\n",
    "\n",
    "\n",
    "years = range(2008, 2023)\n",
    "for i, df in enumerate(dfs):\n",
    "    df['Year'] = years[i]\n",
    "\n",
    "\n",
    "data_set = pd.concat(dfs, ignore_index=True)\n",
    "\n",
    "data_set.drop(['Rank_nr'], axis= 1, inplace=True)\n"
   ]
  },
  {
   "cell_type": "code",
   "execution_count": 7,
   "metadata": {},
   "outputs": [
    {
     "data": {
      "application/vnd.plotly.v1+json": {
       "config": {
        "plotlyServerURL": "https://plot.ly"
       },
       "data": [
        {
         "hovertemplate": "Yıl=%{x}<br>Trilyon Dolar=%{y}<extra></extra>",
         "legendgroup": "",
         "line": {
          "color": "#636efa",
          "dash": "solid"
         },
         "marker": {
          "symbol": "circle"
         },
         "mode": "lines",
         "name": "",
         "orientation": "v",
         "showlegend": false,
         "type": "scatter",
         "x": [
          2008,
          2009,
          2010,
          2011,
          2012,
          2013,
          2014,
          2015,
          2016,
          2017,
          2018,
          2019,
          2020,
          2021,
          2022
         ],
         "xaxis": "x",
         "y": [
          18.9929,
          10.30064,
          15.56874,
          17.628332,
          17.915271,
          18.91277,
          21.325376,
          22.793821,
          21.55599,
          23.693488,
          27.957345,
          28.742427399999997,
          30.181314,
          42.944143,
          41.955546
         ],
         "yaxis": "y"
        }
       ],
       "layout": {
        "legend": {
         "tracegroupgap": 0
        },
        "template": {
         "data": {
          "bar": [
           {
            "error_x": {
             "color": "#2a3f5f"
            },
            "error_y": {
             "color": "#2a3f5f"
            },
            "marker": {
             "line": {
              "color": "#E5ECF6",
              "width": 0.5
             },
             "pattern": {
              "fillmode": "overlay",
              "size": 10,
              "solidity": 0.2
             }
            },
            "type": "bar"
           }
          ],
          "barpolar": [
           {
            "marker": {
             "line": {
              "color": "#E5ECF6",
              "width": 0.5
             },
             "pattern": {
              "fillmode": "overlay",
              "size": 10,
              "solidity": 0.2
             }
            },
            "type": "barpolar"
           }
          ],
          "carpet": [
           {
            "aaxis": {
             "endlinecolor": "#2a3f5f",
             "gridcolor": "white",
             "linecolor": "white",
             "minorgridcolor": "white",
             "startlinecolor": "#2a3f5f"
            },
            "baxis": {
             "endlinecolor": "#2a3f5f",
             "gridcolor": "white",
             "linecolor": "white",
             "minorgridcolor": "white",
             "startlinecolor": "#2a3f5f"
            },
            "type": "carpet"
           }
          ],
          "choropleth": [
           {
            "colorbar": {
             "outlinewidth": 0,
             "ticks": ""
            },
            "type": "choropleth"
           }
          ],
          "contour": [
           {
            "colorbar": {
             "outlinewidth": 0,
             "ticks": ""
            },
            "colorscale": [
             [
              0,
              "#0d0887"
             ],
             [
              0.1111111111111111,
              "#46039f"
             ],
             [
              0.2222222222222222,
              "#7201a8"
             ],
             [
              0.3333333333333333,
              "#9c179e"
             ],
             [
              0.4444444444444444,
              "#bd3786"
             ],
             [
              0.5555555555555556,
              "#d8576b"
             ],
             [
              0.6666666666666666,
              "#ed7953"
             ],
             [
              0.7777777777777778,
              "#fb9f3a"
             ],
             [
              0.8888888888888888,
              "#fdca26"
             ],
             [
              1,
              "#f0f921"
             ]
            ],
            "type": "contour"
           }
          ],
          "contourcarpet": [
           {
            "colorbar": {
             "outlinewidth": 0,
             "ticks": ""
            },
            "type": "contourcarpet"
           }
          ],
          "heatmap": [
           {
            "colorbar": {
             "outlinewidth": 0,
             "ticks": ""
            },
            "colorscale": [
             [
              0,
              "#0d0887"
             ],
             [
              0.1111111111111111,
              "#46039f"
             ],
             [
              0.2222222222222222,
              "#7201a8"
             ],
             [
              0.3333333333333333,
              "#9c179e"
             ],
             [
              0.4444444444444444,
              "#bd3786"
             ],
             [
              0.5555555555555556,
              "#d8576b"
             ],
             [
              0.6666666666666666,
              "#ed7953"
             ],
             [
              0.7777777777777778,
              "#fb9f3a"
             ],
             [
              0.8888888888888888,
              "#fdca26"
             ],
             [
              1,
              "#f0f921"
             ]
            ],
            "type": "heatmap"
           }
          ],
          "heatmapgl": [
           {
            "colorbar": {
             "outlinewidth": 0,
             "ticks": ""
            },
            "colorscale": [
             [
              0,
              "#0d0887"
             ],
             [
              0.1111111111111111,
              "#46039f"
             ],
             [
              0.2222222222222222,
              "#7201a8"
             ],
             [
              0.3333333333333333,
              "#9c179e"
             ],
             [
              0.4444444444444444,
              "#bd3786"
             ],
             [
              0.5555555555555556,
              "#d8576b"
             ],
             [
              0.6666666666666666,
              "#ed7953"
             ],
             [
              0.7777777777777778,
              "#fb9f3a"
             ],
             [
              0.8888888888888888,
              "#fdca26"
             ],
             [
              1,
              "#f0f921"
             ]
            ],
            "type": "heatmapgl"
           }
          ],
          "histogram": [
           {
            "marker": {
             "pattern": {
              "fillmode": "overlay",
              "size": 10,
              "solidity": 0.2
             }
            },
            "type": "histogram"
           }
          ],
          "histogram2d": [
           {
            "colorbar": {
             "outlinewidth": 0,
             "ticks": ""
            },
            "colorscale": [
             [
              0,
              "#0d0887"
             ],
             [
              0.1111111111111111,
              "#46039f"
             ],
             [
              0.2222222222222222,
              "#7201a8"
             ],
             [
              0.3333333333333333,
              "#9c179e"
             ],
             [
              0.4444444444444444,
              "#bd3786"
             ],
             [
              0.5555555555555556,
              "#d8576b"
             ],
             [
              0.6666666666666666,
              "#ed7953"
             ],
             [
              0.7777777777777778,
              "#fb9f3a"
             ],
             [
              0.8888888888888888,
              "#fdca26"
             ],
             [
              1,
              "#f0f921"
             ]
            ],
            "type": "histogram2d"
           }
          ],
          "histogram2dcontour": [
           {
            "colorbar": {
             "outlinewidth": 0,
             "ticks": ""
            },
            "colorscale": [
             [
              0,
              "#0d0887"
             ],
             [
              0.1111111111111111,
              "#46039f"
             ],
             [
              0.2222222222222222,
              "#7201a8"
             ],
             [
              0.3333333333333333,
              "#9c179e"
             ],
             [
              0.4444444444444444,
              "#bd3786"
             ],
             [
              0.5555555555555556,
              "#d8576b"
             ],
             [
              0.6666666666666666,
              "#ed7953"
             ],
             [
              0.7777777777777778,
              "#fb9f3a"
             ],
             [
              0.8888888888888888,
              "#fdca26"
             ],
             [
              1,
              "#f0f921"
             ]
            ],
            "type": "histogram2dcontour"
           }
          ],
          "mesh3d": [
           {
            "colorbar": {
             "outlinewidth": 0,
             "ticks": ""
            },
            "type": "mesh3d"
           }
          ],
          "parcoords": [
           {
            "line": {
             "colorbar": {
              "outlinewidth": 0,
              "ticks": ""
             }
            },
            "type": "parcoords"
           }
          ],
          "pie": [
           {
            "automargin": true,
            "type": "pie"
           }
          ],
          "scatter": [
           {
            "fillpattern": {
             "fillmode": "overlay",
             "size": 10,
             "solidity": 0.2
            },
            "type": "scatter"
           }
          ],
          "scatter3d": [
           {
            "line": {
             "colorbar": {
              "outlinewidth": 0,
              "ticks": ""
             }
            },
            "marker": {
             "colorbar": {
              "outlinewidth": 0,
              "ticks": ""
             }
            },
            "type": "scatter3d"
           }
          ],
          "scattercarpet": [
           {
            "marker": {
             "colorbar": {
              "outlinewidth": 0,
              "ticks": ""
             }
            },
            "type": "scattercarpet"
           }
          ],
          "scattergeo": [
           {
            "marker": {
             "colorbar": {
              "outlinewidth": 0,
              "ticks": ""
             }
            },
            "type": "scattergeo"
           }
          ],
          "scattergl": [
           {
            "marker": {
             "colorbar": {
              "outlinewidth": 0,
              "ticks": ""
             }
            },
            "type": "scattergl"
           }
          ],
          "scattermapbox": [
           {
            "marker": {
             "colorbar": {
              "outlinewidth": 0,
              "ticks": ""
             }
            },
            "type": "scattermapbox"
           }
          ],
          "scatterpolar": [
           {
            "marker": {
             "colorbar": {
              "outlinewidth": 0,
              "ticks": ""
             }
            },
            "type": "scatterpolar"
           }
          ],
          "scatterpolargl": [
           {
            "marker": {
             "colorbar": {
              "outlinewidth": 0,
              "ticks": ""
             }
            },
            "type": "scatterpolargl"
           }
          ],
          "scatterternary": [
           {
            "marker": {
             "colorbar": {
              "outlinewidth": 0,
              "ticks": ""
             }
            },
            "type": "scatterternary"
           }
          ],
          "surface": [
           {
            "colorbar": {
             "outlinewidth": 0,
             "ticks": ""
            },
            "colorscale": [
             [
              0,
              "#0d0887"
             ],
             [
              0.1111111111111111,
              "#46039f"
             ],
             [
              0.2222222222222222,
              "#7201a8"
             ],
             [
              0.3333333333333333,
              "#9c179e"
             ],
             [
              0.4444444444444444,
              "#bd3786"
             ],
             [
              0.5555555555555556,
              "#d8576b"
             ],
             [
              0.6666666666666666,
              "#ed7953"
             ],
             [
              0.7777777777777778,
              "#fb9f3a"
             ],
             [
              0.8888888888888888,
              "#fdca26"
             ],
             [
              1,
              "#f0f921"
             ]
            ],
            "type": "surface"
           }
          ],
          "table": [
           {
            "cells": {
             "fill": {
              "color": "#EBF0F8"
             },
             "line": {
              "color": "white"
             }
            },
            "header": {
             "fill": {
              "color": "#C8D4E3"
             },
             "line": {
              "color": "white"
             }
            },
            "type": "table"
           }
          ]
         },
         "layout": {
          "annotationdefaults": {
           "arrowcolor": "#2a3f5f",
           "arrowhead": 0,
           "arrowwidth": 1
          },
          "autotypenumbers": "strict",
          "coloraxis": {
           "colorbar": {
            "outlinewidth": 0,
            "ticks": ""
           }
          },
          "colorscale": {
           "diverging": [
            [
             0,
             "#8e0152"
            ],
            [
             0.1,
             "#c51b7d"
            ],
            [
             0.2,
             "#de77ae"
            ],
            [
             0.3,
             "#f1b6da"
            ],
            [
             0.4,
             "#fde0ef"
            ],
            [
             0.5,
             "#f7f7f7"
            ],
            [
             0.6,
             "#e6f5d0"
            ],
            [
             0.7,
             "#b8e186"
            ],
            [
             0.8,
             "#7fbc41"
            ],
            [
             0.9,
             "#4d9221"
            ],
            [
             1,
             "#276419"
            ]
           ],
           "sequential": [
            [
             0,
             "#0d0887"
            ],
            [
             0.1111111111111111,
             "#46039f"
            ],
            [
             0.2222222222222222,
             "#7201a8"
            ],
            [
             0.3333333333333333,
             "#9c179e"
            ],
            [
             0.4444444444444444,
             "#bd3786"
            ],
            [
             0.5555555555555556,
             "#d8576b"
            ],
            [
             0.6666666666666666,
             "#ed7953"
            ],
            [
             0.7777777777777778,
             "#fb9f3a"
            ],
            [
             0.8888888888888888,
             "#fdca26"
            ],
            [
             1,
             "#f0f921"
            ]
           ],
           "sequentialminus": [
            [
             0,
             "#0d0887"
            ],
            [
             0.1111111111111111,
             "#46039f"
            ],
            [
             0.2222222222222222,
             "#7201a8"
            ],
            [
             0.3333333333333333,
             "#9c179e"
            ],
            [
             0.4444444444444444,
             "#bd3786"
            ],
            [
             0.5555555555555556,
             "#d8576b"
            ],
            [
             0.6666666666666666,
             "#ed7953"
            ],
            [
             0.7777777777777778,
             "#fb9f3a"
            ],
            [
             0.8888888888888888,
             "#fdca26"
            ],
            [
             1,
             "#f0f921"
            ]
           ]
          },
          "colorway": [
           "#636efa",
           "#EF553B",
           "#00cc96",
           "#ab63fa",
           "#FFA15A",
           "#19d3f3",
           "#FF6692",
           "#B6E880",
           "#FF97FF",
           "#FECB52"
          ],
          "font": {
           "color": "#2a3f5f"
          },
          "geo": {
           "bgcolor": "white",
           "lakecolor": "white",
           "landcolor": "#E5ECF6",
           "showlakes": true,
           "showland": true,
           "subunitcolor": "white"
          },
          "hoverlabel": {
           "align": "left"
          },
          "hovermode": "closest",
          "mapbox": {
           "style": "light"
          },
          "paper_bgcolor": "white",
          "plot_bgcolor": "#E5ECF6",
          "polar": {
           "angularaxis": {
            "gridcolor": "white",
            "linecolor": "white",
            "ticks": ""
           },
           "bgcolor": "#E5ECF6",
           "radialaxis": {
            "gridcolor": "white",
            "linecolor": "white",
            "ticks": ""
           }
          },
          "scene": {
           "xaxis": {
            "backgroundcolor": "#E5ECF6",
            "gridcolor": "white",
            "gridwidth": 2,
            "linecolor": "white",
            "showbackground": true,
            "ticks": "",
            "zerolinecolor": "white"
           },
           "yaxis": {
            "backgroundcolor": "#E5ECF6",
            "gridcolor": "white",
            "gridwidth": 2,
            "linecolor": "white",
            "showbackground": true,
            "ticks": "",
            "zerolinecolor": "white"
           },
           "zaxis": {
            "backgroundcolor": "#E5ECF6",
            "gridcolor": "white",
            "gridwidth": 2,
            "linecolor": "white",
            "showbackground": true,
            "ticks": "",
            "zerolinecolor": "white"
           }
          },
          "shapedefaults": {
           "line": {
            "color": "#2a3f5f"
           }
          },
          "ternary": {
           "aaxis": {
            "gridcolor": "white",
            "linecolor": "white",
            "ticks": ""
           },
           "baxis": {
            "gridcolor": "white",
            "linecolor": "white",
            "ticks": ""
           },
           "bgcolor": "#E5ECF6",
           "caxis": {
            "gridcolor": "white",
            "linecolor": "white",
            "ticks": ""
           }
          },
          "title": {
           "x": 0.05
          },
          "xaxis": {
           "automargin": true,
           "gridcolor": "white",
           "linecolor": "white",
           "ticks": "",
           "title": {
            "standoff": 15
           },
           "zerolinecolor": "white",
           "zerolinewidth": 2
          },
          "yaxis": {
           "automargin": true,
           "gridcolor": "white",
           "linecolor": "white",
           "ticks": "",
           "title": {
            "standoff": 15
           },
           "zerolinecolor": "white",
           "zerolinewidth": 2
          }
         }
        },
        "title": {
         "text": "Top 200 Toplam Piyasa Değeri (Trilyon Dolar)"
        },
        "xaxis": {
         "anchor": "y",
         "domain": [
          0,
          1
         ],
         "title": {
          "text": "Yıl"
         }
        },
        "yaxis": {
         "anchor": "x",
         "domain": [
          0,
          1
         ],
         "title": {
          "text": "Trilyon Dolar"
         }
        }
       }
      }
     },
     "metadata": {},
     "output_type": "display_data"
    }
   ],
   "source": [
    "import pandas as pd\n",
    "import plotly.express as px\n",
    "\n",
    "\n",
    "market_values = data_set.groupby('Year')['Market_Value'].sum().reset_index()\n",
    "\n",
    "\n",
    "market_values['Market_Value'] = market_values['Market_Value'] / 10**6\n",
    "\n",
    "\n",
    "fig = px.line(market_values, x='Year', y='Market_Value', title='Top 200 Toplam Piyasa Değeri (Trilyon Dolar)',\n",
    "              labels={'Year': 'Yıl', 'Market_Value': 'Trilyon Dolar'})\n",
    "\n",
    "fig.show()"
   ]
  },
  {
   "cell_type": "code",
   "execution_count": 9,
   "metadata": {},
   "outputs": [
    {
     "data": {
      "application/vnd.plotly.v1+json": {
       "config": {
        "plotlyServerURL": "https://plot.ly"
       },
       "data": [
        {
         "mode": "lines",
         "name": "American Firms",
         "type": "scatter",
         "x": [
          2008,
          2009,
          2010,
          2011,
          2012,
          2013,
          2014,
          2015,
          2016,
          2017,
          2018,
          2019,
          2020,
          2021,
          2022
         ],
         "y": [
          35.34889353389951,
          40.48816384224669,
          39.51411610701958,
          39.70515758382586,
          43.304357494787546,
          46.28402396899026,
          50.754579895801136,
          52.0669088346355,
          56.48220749777671,
          57.22322521698789,
          56.54074448056494,
          59.12667278756004,
          60.93161815287432,
          62.149578814507954,
          62.30184443315313
         ]
        },
        {
         "mode": "lines",
         "name": "Chinese Firms",
         "type": "scatter",
         "x": [
          2008,
          2009,
          2010,
          2011,
          2012,
          2013,
          2014,
          2015,
          2016,
          2017,
          2018,
          2019,
          2020,
          2021,
          2022
         ],
         "y": [
          10.541676100016321,
          10.333629755044345,
          9.680487952139993,
          9.399488278301089,
          8.792342577458081,
          8.192073398026837,
          6.314636609455326,
          12.381649395246194,
          10.119126980481992,
          9.24732989925333,
          11.274765182459207,
          10.685817719069894,
          9.810477436469466,
          10.293627235732705,
          6.688822497983937
         ]
        },
        {
         "mode": "lines",
         "name": "UK Firms",
         "type": "scatter",
         "x": [
          2008,
          2009,
          2010,
          2011,
          2012,
          2013,
          2014,
          2015,
          2016,
          2017,
          2018,
          2019,
          2020,
          2021,
          2022
         ],
         "y": [
          7.213906249177324,
          6.659003712390686,
          7.169559000921076,
          7.963544140194319,
          7.881281840503557,
          7.578271189254668,
          7.310225151481503,
          5.719321916233351,
          5.541930572430216,
          4.055126877055839,
          3.7908284924766638,
          3.5841231697779294,
          2.743753966444271,
          1.952885635650012,
          3.2562226695846124
         ]
        }
       ],
       "layout": {
        "template": {
         "data": {
          "bar": [
           {
            "error_x": {
             "color": "#2a3f5f"
            },
            "error_y": {
             "color": "#2a3f5f"
            },
            "marker": {
             "line": {
              "color": "#E5ECF6",
              "width": 0.5
             },
             "pattern": {
              "fillmode": "overlay",
              "size": 10,
              "solidity": 0.2
             }
            },
            "type": "bar"
           }
          ],
          "barpolar": [
           {
            "marker": {
             "line": {
              "color": "#E5ECF6",
              "width": 0.5
             },
             "pattern": {
              "fillmode": "overlay",
              "size": 10,
              "solidity": 0.2
             }
            },
            "type": "barpolar"
           }
          ],
          "carpet": [
           {
            "aaxis": {
             "endlinecolor": "#2a3f5f",
             "gridcolor": "white",
             "linecolor": "white",
             "minorgridcolor": "white",
             "startlinecolor": "#2a3f5f"
            },
            "baxis": {
             "endlinecolor": "#2a3f5f",
             "gridcolor": "white",
             "linecolor": "white",
             "minorgridcolor": "white",
             "startlinecolor": "#2a3f5f"
            },
            "type": "carpet"
           }
          ],
          "choropleth": [
           {
            "colorbar": {
             "outlinewidth": 0,
             "ticks": ""
            },
            "type": "choropleth"
           }
          ],
          "contour": [
           {
            "colorbar": {
             "outlinewidth": 0,
             "ticks": ""
            },
            "colorscale": [
             [
              0,
              "#0d0887"
             ],
             [
              0.1111111111111111,
              "#46039f"
             ],
             [
              0.2222222222222222,
              "#7201a8"
             ],
             [
              0.3333333333333333,
              "#9c179e"
             ],
             [
              0.4444444444444444,
              "#bd3786"
             ],
             [
              0.5555555555555556,
              "#d8576b"
             ],
             [
              0.6666666666666666,
              "#ed7953"
             ],
             [
              0.7777777777777778,
              "#fb9f3a"
             ],
             [
              0.8888888888888888,
              "#fdca26"
             ],
             [
              1,
              "#f0f921"
             ]
            ],
            "type": "contour"
           }
          ],
          "contourcarpet": [
           {
            "colorbar": {
             "outlinewidth": 0,
             "ticks": ""
            },
            "type": "contourcarpet"
           }
          ],
          "heatmap": [
           {
            "colorbar": {
             "outlinewidth": 0,
             "ticks": ""
            },
            "colorscale": [
             [
              0,
              "#0d0887"
             ],
             [
              0.1111111111111111,
              "#46039f"
             ],
             [
              0.2222222222222222,
              "#7201a8"
             ],
             [
              0.3333333333333333,
              "#9c179e"
             ],
             [
              0.4444444444444444,
              "#bd3786"
             ],
             [
              0.5555555555555556,
              "#d8576b"
             ],
             [
              0.6666666666666666,
              "#ed7953"
             ],
             [
              0.7777777777777778,
              "#fb9f3a"
             ],
             [
              0.8888888888888888,
              "#fdca26"
             ],
             [
              1,
              "#f0f921"
             ]
            ],
            "type": "heatmap"
           }
          ],
          "heatmapgl": [
           {
            "colorbar": {
             "outlinewidth": 0,
             "ticks": ""
            },
            "colorscale": [
             [
              0,
              "#0d0887"
             ],
             [
              0.1111111111111111,
              "#46039f"
             ],
             [
              0.2222222222222222,
              "#7201a8"
             ],
             [
              0.3333333333333333,
              "#9c179e"
             ],
             [
              0.4444444444444444,
              "#bd3786"
             ],
             [
              0.5555555555555556,
              "#d8576b"
             ],
             [
              0.6666666666666666,
              "#ed7953"
             ],
             [
              0.7777777777777778,
              "#fb9f3a"
             ],
             [
              0.8888888888888888,
              "#fdca26"
             ],
             [
              1,
              "#f0f921"
             ]
            ],
            "type": "heatmapgl"
           }
          ],
          "histogram": [
           {
            "marker": {
             "pattern": {
              "fillmode": "overlay",
              "size": 10,
              "solidity": 0.2
             }
            },
            "type": "histogram"
           }
          ],
          "histogram2d": [
           {
            "colorbar": {
             "outlinewidth": 0,
             "ticks": ""
            },
            "colorscale": [
             [
              0,
              "#0d0887"
             ],
             [
              0.1111111111111111,
              "#46039f"
             ],
             [
              0.2222222222222222,
              "#7201a8"
             ],
             [
              0.3333333333333333,
              "#9c179e"
             ],
             [
              0.4444444444444444,
              "#bd3786"
             ],
             [
              0.5555555555555556,
              "#d8576b"
             ],
             [
              0.6666666666666666,
              "#ed7953"
             ],
             [
              0.7777777777777778,
              "#fb9f3a"
             ],
             [
              0.8888888888888888,
              "#fdca26"
             ],
             [
              1,
              "#f0f921"
             ]
            ],
            "type": "histogram2d"
           }
          ],
          "histogram2dcontour": [
           {
            "colorbar": {
             "outlinewidth": 0,
             "ticks": ""
            },
            "colorscale": [
             [
              0,
              "#0d0887"
             ],
             [
              0.1111111111111111,
              "#46039f"
             ],
             [
              0.2222222222222222,
              "#7201a8"
             ],
             [
              0.3333333333333333,
              "#9c179e"
             ],
             [
              0.4444444444444444,
              "#bd3786"
             ],
             [
              0.5555555555555556,
              "#d8576b"
             ],
             [
              0.6666666666666666,
              "#ed7953"
             ],
             [
              0.7777777777777778,
              "#fb9f3a"
             ],
             [
              0.8888888888888888,
              "#fdca26"
             ],
             [
              1,
              "#f0f921"
             ]
            ],
            "type": "histogram2dcontour"
           }
          ],
          "mesh3d": [
           {
            "colorbar": {
             "outlinewidth": 0,
             "ticks": ""
            },
            "type": "mesh3d"
           }
          ],
          "parcoords": [
           {
            "line": {
             "colorbar": {
              "outlinewidth": 0,
              "ticks": ""
             }
            },
            "type": "parcoords"
           }
          ],
          "pie": [
           {
            "automargin": true,
            "type": "pie"
           }
          ],
          "scatter": [
           {
            "fillpattern": {
             "fillmode": "overlay",
             "size": 10,
             "solidity": 0.2
            },
            "type": "scatter"
           }
          ],
          "scatter3d": [
           {
            "line": {
             "colorbar": {
              "outlinewidth": 0,
              "ticks": ""
             }
            },
            "marker": {
             "colorbar": {
              "outlinewidth": 0,
              "ticks": ""
             }
            },
            "type": "scatter3d"
           }
          ],
          "scattercarpet": [
           {
            "marker": {
             "colorbar": {
              "outlinewidth": 0,
              "ticks": ""
             }
            },
            "type": "scattercarpet"
           }
          ],
          "scattergeo": [
           {
            "marker": {
             "colorbar": {
              "outlinewidth": 0,
              "ticks": ""
             }
            },
            "type": "scattergeo"
           }
          ],
          "scattergl": [
           {
            "marker": {
             "colorbar": {
              "outlinewidth": 0,
              "ticks": ""
             }
            },
            "type": "scattergl"
           }
          ],
          "scattermapbox": [
           {
            "marker": {
             "colorbar": {
              "outlinewidth": 0,
              "ticks": ""
             }
            },
            "type": "scattermapbox"
           }
          ],
          "scatterpolar": [
           {
            "marker": {
             "colorbar": {
              "outlinewidth": 0,
              "ticks": ""
             }
            },
            "type": "scatterpolar"
           }
          ],
          "scatterpolargl": [
           {
            "marker": {
             "colorbar": {
              "outlinewidth": 0,
              "ticks": ""
             }
            },
            "type": "scatterpolargl"
           }
          ],
          "scatterternary": [
           {
            "marker": {
             "colorbar": {
              "outlinewidth": 0,
              "ticks": ""
             }
            },
            "type": "scatterternary"
           }
          ],
          "surface": [
           {
            "colorbar": {
             "outlinewidth": 0,
             "ticks": ""
            },
            "colorscale": [
             [
              0,
              "#0d0887"
             ],
             [
              0.1111111111111111,
              "#46039f"
             ],
             [
              0.2222222222222222,
              "#7201a8"
             ],
             [
              0.3333333333333333,
              "#9c179e"
             ],
             [
              0.4444444444444444,
              "#bd3786"
             ],
             [
              0.5555555555555556,
              "#d8576b"
             ],
             [
              0.6666666666666666,
              "#ed7953"
             ],
             [
              0.7777777777777778,
              "#fb9f3a"
             ],
             [
              0.8888888888888888,
              "#fdca26"
             ],
             [
              1,
              "#f0f921"
             ]
            ],
            "type": "surface"
           }
          ],
          "table": [
           {
            "cells": {
             "fill": {
              "color": "#EBF0F8"
             },
             "line": {
              "color": "white"
             }
            },
            "header": {
             "fill": {
              "color": "#C8D4E3"
             },
             "line": {
              "color": "white"
             }
            },
            "type": "table"
           }
          ]
         },
         "layout": {
          "annotationdefaults": {
           "arrowcolor": "#2a3f5f",
           "arrowhead": 0,
           "arrowwidth": 1
          },
          "autotypenumbers": "strict",
          "coloraxis": {
           "colorbar": {
            "outlinewidth": 0,
            "ticks": ""
           }
          },
          "colorscale": {
           "diverging": [
            [
             0,
             "#8e0152"
            ],
            [
             0.1,
             "#c51b7d"
            ],
            [
             0.2,
             "#de77ae"
            ],
            [
             0.3,
             "#f1b6da"
            ],
            [
             0.4,
             "#fde0ef"
            ],
            [
             0.5,
             "#f7f7f7"
            ],
            [
             0.6,
             "#e6f5d0"
            ],
            [
             0.7,
             "#b8e186"
            ],
            [
             0.8,
             "#7fbc41"
            ],
            [
             0.9,
             "#4d9221"
            ],
            [
             1,
             "#276419"
            ]
           ],
           "sequential": [
            [
             0,
             "#0d0887"
            ],
            [
             0.1111111111111111,
             "#46039f"
            ],
            [
             0.2222222222222222,
             "#7201a8"
            ],
            [
             0.3333333333333333,
             "#9c179e"
            ],
            [
             0.4444444444444444,
             "#bd3786"
            ],
            [
             0.5555555555555556,
             "#d8576b"
            ],
            [
             0.6666666666666666,
             "#ed7953"
            ],
            [
             0.7777777777777778,
             "#fb9f3a"
            ],
            [
             0.8888888888888888,
             "#fdca26"
            ],
            [
             1,
             "#f0f921"
            ]
           ],
           "sequentialminus": [
            [
             0,
             "#0d0887"
            ],
            [
             0.1111111111111111,
             "#46039f"
            ],
            [
             0.2222222222222222,
             "#7201a8"
            ],
            [
             0.3333333333333333,
             "#9c179e"
            ],
            [
             0.4444444444444444,
             "#bd3786"
            ],
            [
             0.5555555555555556,
             "#d8576b"
            ],
            [
             0.6666666666666666,
             "#ed7953"
            ],
            [
             0.7777777777777778,
             "#fb9f3a"
            ],
            [
             0.8888888888888888,
             "#fdca26"
            ],
            [
             1,
             "#f0f921"
            ]
           ]
          },
          "colorway": [
           "#636efa",
           "#EF553B",
           "#00cc96",
           "#ab63fa",
           "#FFA15A",
           "#19d3f3",
           "#FF6692",
           "#B6E880",
           "#FF97FF",
           "#FECB52"
          ],
          "font": {
           "color": "#2a3f5f"
          },
          "geo": {
           "bgcolor": "white",
           "lakecolor": "white",
           "landcolor": "#E5ECF6",
           "showlakes": true,
           "showland": true,
           "subunitcolor": "white"
          },
          "hoverlabel": {
           "align": "left"
          },
          "hovermode": "closest",
          "mapbox": {
           "style": "light"
          },
          "paper_bgcolor": "white",
          "plot_bgcolor": "#E5ECF6",
          "polar": {
           "angularaxis": {
            "gridcolor": "white",
            "linecolor": "white",
            "ticks": ""
           },
           "bgcolor": "#E5ECF6",
           "radialaxis": {
            "gridcolor": "white",
            "linecolor": "white",
            "ticks": ""
           }
          },
          "scene": {
           "xaxis": {
            "backgroundcolor": "#E5ECF6",
            "gridcolor": "white",
            "gridwidth": 2,
            "linecolor": "white",
            "showbackground": true,
            "ticks": "",
            "zerolinecolor": "white"
           },
           "yaxis": {
            "backgroundcolor": "#E5ECF6",
            "gridcolor": "white",
            "gridwidth": 2,
            "linecolor": "white",
            "showbackground": true,
            "ticks": "",
            "zerolinecolor": "white"
           },
           "zaxis": {
            "backgroundcolor": "#E5ECF6",
            "gridcolor": "white",
            "gridwidth": 2,
            "linecolor": "white",
            "showbackground": true,
            "ticks": "",
            "zerolinecolor": "white"
           }
          },
          "shapedefaults": {
           "line": {
            "color": "#2a3f5f"
           }
          },
          "ternary": {
           "aaxis": {
            "gridcolor": "white",
            "linecolor": "white",
            "ticks": ""
           },
           "baxis": {
            "gridcolor": "white",
            "linecolor": "white",
            "ticks": ""
           },
           "bgcolor": "#E5ECF6",
           "caxis": {
            "gridcolor": "white",
            "linecolor": "white",
            "ticks": ""
           }
          },
          "title": {
           "x": 0.05
          },
          "xaxis": {
           "automargin": true,
           "gridcolor": "white",
           "linecolor": "white",
           "ticks": "",
           "title": {
            "standoff": 15
           },
           "zerolinecolor": "white",
           "zerolinewidth": 2
          },
          "yaxis": {
           "automargin": true,
           "gridcolor": "white",
           "linecolor": "white",
           "ticks": "",
           "title": {
            "standoff": 15
           },
           "zerolinecolor": "white",
           "zerolinewidth": 2
          }
         }
        },
        "title": {
         "text": "Ülkelerin Top 200deki Payı (Piyasa Değerine Göre)"
        },
        "xaxis": {
         "title": {
          "text": "Yıl"
         }
        },
        "yaxis": {
         "title": {
          "text": "Yüzde (%)"
         }
        }
       }
      }
     },
     "metadata": {},
     "output_type": "display_data"
    }
   ],
   "source": [
    "import plotly.graph_objects as go\n",
    "\n",
    "total_market_value = data_set.groupby(['Year'])['Market_Value'].sum()\n",
    "american_market_value = data_set[data_set['Country'] == 'United States'].groupby(['Year'])['Market_Value'].sum()\n",
    "chinese_market_value = data_set[data_set['Country'] == 'China'].groupby(['Year'])['Market_Value'].sum()\n",
    "uk_market_value = data_set[data_set['Country'] == 'United Kingdom'].groupby(['Year'])['Market_Value'].sum()\n",
    "\n",
    "# Calculate the proportions\n",
    "american_proportion = american_market_value / total_market_value\n",
    "chinese_proportion = chinese_market_value / total_market_value\n",
    "uk_proportion = uk_market_value/ total_market_value\n",
    "\n",
    "# Create a figure with two traces\n",
    "fig = go.Figure()\n",
    "\n",
    "fig.add_trace(go.Scatter(x=total_market_value.index, y=american_proportion*100, mode='lines', name='American Firms'))\n",
    "fig.add_trace(go.Scatter(x=total_market_value.index, y=chinese_proportion*100, mode='lines', name='Chinese Firms'))\n",
    "fig.add_trace(go.Scatter(x=total_market_value.index, y=uk_proportion*100, mode='lines', name='UK Firms'))\n",
    "\n",
    "# Update layout\n",
    "fig.update_layout(\n",
    "    title='Ülkelerin Top 200deki Payı (Piyasa Değerine Göre)',\n",
    "    xaxis_title='Yıl',\n",
    "    yaxis_title='Yüzde (%)',\n",
    ")\n",
    "\n",
    "# Show the figure\n",
    "fig.show()"
   ]
  },
  {
   "cell_type": "code",
   "execution_count": 50,
   "metadata": {},
   "outputs": [
    {
     "data": {
      "application/vnd.plotly.v1+json": {
       "config": {
        "plotlyServerURL": "https://plot.ly"
       },
       "data": [
        {
         "mode": "lines",
         "name": "Petrol",
         "type": "scatter",
         "x": [
          2008,
          2009,
          2010,
          2011,
          2012,
          2013,
          2014,
          2015,
          2016,
          2017,
          2018,
          2019,
          2020,
          2021,
          2022
         ],
         "y": [
          18.550037119133993,
          18.709808322589662,
          17.09194192979008,
          18.439055946983526,
          17.541604589737993,
          14.181550349314245,
          12.499127799669276,
          9.397827595469844,
          8.7340641742736,
          8.838010680402988,
          9.18733162966655,
          8.168948180069162,
          9.250657542610636,
          7.0222241948104545,
          10.363476142105267
         ]
        },
        {
         "mode": "lines",
         "name": "Tech",
         "type": "scatter",
         "x": [
          2008,
          2009,
          2010,
          2011,
          2012,
          2013,
          2014,
          2015,
          2016,
          2017,
          2018,
          2019,
          2020,
          2021,
          2022
         ],
         "y": [
          9.651185442981324,
          9.793080818279252,
          10.186373463748511,
          9.48107285476584,
          11.494936359042518,
          10.212961929955263,
          11.287754082272688,
          12.129576695368453,
          13.533310230706174,
          14.726261494297505,
          16.912621709965663,
          19.090469721426523,
          21.717765502191188,
          25.88524353600443,
          22.582213564804995
         ]
        },
        {
         "mode": "lines",
         "name": "Perakende",
         "type": "scatter",
         "x": [
          2008,
          2009,
          2010,
          2011,
          2012,
          2013,
          2014,
          2015,
          2016,
          2017,
          2018,
          2019,
          2020,
          2021,
          2022
         ],
         "y": [
          2.059243190876591,
          3.815102750897031,
          3.585839316476478,
          2.3295170524358175,
          2.874609041638276,
          4.100451705382131,
          3.948061689510187,
          4.649856643166585,
          4.912486042162759,
          5.070169491296511,
          7.7682448029310365,
          8.387141303173301,
          9.60778911083858,
          9.83836375544856,
          7.509576922202371
         ]
        },
        {
         "mode": "lines",
         "name": "Finans",
         "type": "scatter",
         "x": [
          2008,
          2009,
          2010,
          2011,
          2012,
          2013,
          2014,
          2015,
          2016,
          2017,
          2018,
          2019,
          2020,
          2021,
          2022
         ],
         "y": [
          19.813456607469107,
          15.152747790428556,
          22.475614596942332,
          21.926493102126738,
          20.12959223446857,
          21.653047121072163,
          21.186707329333842,
          20.9818836429399,
          18.52922551921763,
          19.687852628536582,
          20.375164379879422,
          16.083683314791987,
          11.879807486181681,
          10.67946099192153,
          12.539388713949762
         ]
        }
       ],
       "layout": {
        "template": {
         "data": {
          "bar": [
           {
            "error_x": {
             "color": "#2a3f5f"
            },
            "error_y": {
             "color": "#2a3f5f"
            },
            "marker": {
             "line": {
              "color": "#E5ECF6",
              "width": 0.5
             },
             "pattern": {
              "fillmode": "overlay",
              "size": 10,
              "solidity": 0.2
             }
            },
            "type": "bar"
           }
          ],
          "barpolar": [
           {
            "marker": {
             "line": {
              "color": "#E5ECF6",
              "width": 0.5
             },
             "pattern": {
              "fillmode": "overlay",
              "size": 10,
              "solidity": 0.2
             }
            },
            "type": "barpolar"
           }
          ],
          "carpet": [
           {
            "aaxis": {
             "endlinecolor": "#2a3f5f",
             "gridcolor": "white",
             "linecolor": "white",
             "minorgridcolor": "white",
             "startlinecolor": "#2a3f5f"
            },
            "baxis": {
             "endlinecolor": "#2a3f5f",
             "gridcolor": "white",
             "linecolor": "white",
             "minorgridcolor": "white",
             "startlinecolor": "#2a3f5f"
            },
            "type": "carpet"
           }
          ],
          "choropleth": [
           {
            "colorbar": {
             "outlinewidth": 0,
             "ticks": ""
            },
            "type": "choropleth"
           }
          ],
          "contour": [
           {
            "colorbar": {
             "outlinewidth": 0,
             "ticks": ""
            },
            "colorscale": [
             [
              0,
              "#0d0887"
             ],
             [
              0.1111111111111111,
              "#46039f"
             ],
             [
              0.2222222222222222,
              "#7201a8"
             ],
             [
              0.3333333333333333,
              "#9c179e"
             ],
             [
              0.4444444444444444,
              "#bd3786"
             ],
             [
              0.5555555555555556,
              "#d8576b"
             ],
             [
              0.6666666666666666,
              "#ed7953"
             ],
             [
              0.7777777777777778,
              "#fb9f3a"
             ],
             [
              0.8888888888888888,
              "#fdca26"
             ],
             [
              1,
              "#f0f921"
             ]
            ],
            "type": "contour"
           }
          ],
          "contourcarpet": [
           {
            "colorbar": {
             "outlinewidth": 0,
             "ticks": ""
            },
            "type": "contourcarpet"
           }
          ],
          "heatmap": [
           {
            "colorbar": {
             "outlinewidth": 0,
             "ticks": ""
            },
            "colorscale": [
             [
              0,
              "#0d0887"
             ],
             [
              0.1111111111111111,
              "#46039f"
             ],
             [
              0.2222222222222222,
              "#7201a8"
             ],
             [
              0.3333333333333333,
              "#9c179e"
             ],
             [
              0.4444444444444444,
              "#bd3786"
             ],
             [
              0.5555555555555556,
              "#d8576b"
             ],
             [
              0.6666666666666666,
              "#ed7953"
             ],
             [
              0.7777777777777778,
              "#fb9f3a"
             ],
             [
              0.8888888888888888,
              "#fdca26"
             ],
             [
              1,
              "#f0f921"
             ]
            ],
            "type": "heatmap"
           }
          ],
          "heatmapgl": [
           {
            "colorbar": {
             "outlinewidth": 0,
             "ticks": ""
            },
            "colorscale": [
             [
              0,
              "#0d0887"
             ],
             [
              0.1111111111111111,
              "#46039f"
             ],
             [
              0.2222222222222222,
              "#7201a8"
             ],
             [
              0.3333333333333333,
              "#9c179e"
             ],
             [
              0.4444444444444444,
              "#bd3786"
             ],
             [
              0.5555555555555556,
              "#d8576b"
             ],
             [
              0.6666666666666666,
              "#ed7953"
             ],
             [
              0.7777777777777778,
              "#fb9f3a"
             ],
             [
              0.8888888888888888,
              "#fdca26"
             ],
             [
              1,
              "#f0f921"
             ]
            ],
            "type": "heatmapgl"
           }
          ],
          "histogram": [
           {
            "marker": {
             "pattern": {
              "fillmode": "overlay",
              "size": 10,
              "solidity": 0.2
             }
            },
            "type": "histogram"
           }
          ],
          "histogram2d": [
           {
            "colorbar": {
             "outlinewidth": 0,
             "ticks": ""
            },
            "colorscale": [
             [
              0,
              "#0d0887"
             ],
             [
              0.1111111111111111,
              "#46039f"
             ],
             [
              0.2222222222222222,
              "#7201a8"
             ],
             [
              0.3333333333333333,
              "#9c179e"
             ],
             [
              0.4444444444444444,
              "#bd3786"
             ],
             [
              0.5555555555555556,
              "#d8576b"
             ],
             [
              0.6666666666666666,
              "#ed7953"
             ],
             [
              0.7777777777777778,
              "#fb9f3a"
             ],
             [
              0.8888888888888888,
              "#fdca26"
             ],
             [
              1,
              "#f0f921"
             ]
            ],
            "type": "histogram2d"
           }
          ],
          "histogram2dcontour": [
           {
            "colorbar": {
             "outlinewidth": 0,
             "ticks": ""
            },
            "colorscale": [
             [
              0,
              "#0d0887"
             ],
             [
              0.1111111111111111,
              "#46039f"
             ],
             [
              0.2222222222222222,
              "#7201a8"
             ],
             [
              0.3333333333333333,
              "#9c179e"
             ],
             [
              0.4444444444444444,
              "#bd3786"
             ],
             [
              0.5555555555555556,
              "#d8576b"
             ],
             [
              0.6666666666666666,
              "#ed7953"
             ],
             [
              0.7777777777777778,
              "#fb9f3a"
             ],
             [
              0.8888888888888888,
              "#fdca26"
             ],
             [
              1,
              "#f0f921"
             ]
            ],
            "type": "histogram2dcontour"
           }
          ],
          "mesh3d": [
           {
            "colorbar": {
             "outlinewidth": 0,
             "ticks": ""
            },
            "type": "mesh3d"
           }
          ],
          "parcoords": [
           {
            "line": {
             "colorbar": {
              "outlinewidth": 0,
              "ticks": ""
             }
            },
            "type": "parcoords"
           }
          ],
          "pie": [
           {
            "automargin": true,
            "type": "pie"
           }
          ],
          "scatter": [
           {
            "fillpattern": {
             "fillmode": "overlay",
             "size": 10,
             "solidity": 0.2
            },
            "type": "scatter"
           }
          ],
          "scatter3d": [
           {
            "line": {
             "colorbar": {
              "outlinewidth": 0,
              "ticks": ""
             }
            },
            "marker": {
             "colorbar": {
              "outlinewidth": 0,
              "ticks": ""
             }
            },
            "type": "scatter3d"
           }
          ],
          "scattercarpet": [
           {
            "marker": {
             "colorbar": {
              "outlinewidth": 0,
              "ticks": ""
             }
            },
            "type": "scattercarpet"
           }
          ],
          "scattergeo": [
           {
            "marker": {
             "colorbar": {
              "outlinewidth": 0,
              "ticks": ""
             }
            },
            "type": "scattergeo"
           }
          ],
          "scattergl": [
           {
            "marker": {
             "colorbar": {
              "outlinewidth": 0,
              "ticks": ""
             }
            },
            "type": "scattergl"
           }
          ],
          "scattermapbox": [
           {
            "marker": {
             "colorbar": {
              "outlinewidth": 0,
              "ticks": ""
             }
            },
            "type": "scattermapbox"
           }
          ],
          "scatterpolar": [
           {
            "marker": {
             "colorbar": {
              "outlinewidth": 0,
              "ticks": ""
             }
            },
            "type": "scatterpolar"
           }
          ],
          "scatterpolargl": [
           {
            "marker": {
             "colorbar": {
              "outlinewidth": 0,
              "ticks": ""
             }
            },
            "type": "scatterpolargl"
           }
          ],
          "scatterternary": [
           {
            "marker": {
             "colorbar": {
              "outlinewidth": 0,
              "ticks": ""
             }
            },
            "type": "scatterternary"
           }
          ],
          "surface": [
           {
            "colorbar": {
             "outlinewidth": 0,
             "ticks": ""
            },
            "colorscale": [
             [
              0,
              "#0d0887"
             ],
             [
              0.1111111111111111,
              "#46039f"
             ],
             [
              0.2222222222222222,
              "#7201a8"
             ],
             [
              0.3333333333333333,
              "#9c179e"
             ],
             [
              0.4444444444444444,
              "#bd3786"
             ],
             [
              0.5555555555555556,
              "#d8576b"
             ],
             [
              0.6666666666666666,
              "#ed7953"
             ],
             [
              0.7777777777777778,
              "#fb9f3a"
             ],
             [
              0.8888888888888888,
              "#fdca26"
             ],
             [
              1,
              "#f0f921"
             ]
            ],
            "type": "surface"
           }
          ],
          "table": [
           {
            "cells": {
             "fill": {
              "color": "#EBF0F8"
             },
             "line": {
              "color": "white"
             }
            },
            "header": {
             "fill": {
              "color": "#C8D4E3"
             },
             "line": {
              "color": "white"
             }
            },
            "type": "table"
           }
          ]
         },
         "layout": {
          "annotationdefaults": {
           "arrowcolor": "#2a3f5f",
           "arrowhead": 0,
           "arrowwidth": 1
          },
          "autotypenumbers": "strict",
          "coloraxis": {
           "colorbar": {
            "outlinewidth": 0,
            "ticks": ""
           }
          },
          "colorscale": {
           "diverging": [
            [
             0,
             "#8e0152"
            ],
            [
             0.1,
             "#c51b7d"
            ],
            [
             0.2,
             "#de77ae"
            ],
            [
             0.3,
             "#f1b6da"
            ],
            [
             0.4,
             "#fde0ef"
            ],
            [
             0.5,
             "#f7f7f7"
            ],
            [
             0.6,
             "#e6f5d0"
            ],
            [
             0.7,
             "#b8e186"
            ],
            [
             0.8,
             "#7fbc41"
            ],
            [
             0.9,
             "#4d9221"
            ],
            [
             1,
             "#276419"
            ]
           ],
           "sequential": [
            [
             0,
             "#0d0887"
            ],
            [
             0.1111111111111111,
             "#46039f"
            ],
            [
             0.2222222222222222,
             "#7201a8"
            ],
            [
             0.3333333333333333,
             "#9c179e"
            ],
            [
             0.4444444444444444,
             "#bd3786"
            ],
            [
             0.5555555555555556,
             "#d8576b"
            ],
            [
             0.6666666666666666,
             "#ed7953"
            ],
            [
             0.7777777777777778,
             "#fb9f3a"
            ],
            [
             0.8888888888888888,
             "#fdca26"
            ],
            [
             1,
             "#f0f921"
            ]
           ],
           "sequentialminus": [
            [
             0,
             "#0d0887"
            ],
            [
             0.1111111111111111,
             "#46039f"
            ],
            [
             0.2222222222222222,
             "#7201a8"
            ],
            [
             0.3333333333333333,
             "#9c179e"
            ],
            [
             0.4444444444444444,
             "#bd3786"
            ],
            [
             0.5555555555555556,
             "#d8576b"
            ],
            [
             0.6666666666666666,
             "#ed7953"
            ],
            [
             0.7777777777777778,
             "#fb9f3a"
            ],
            [
             0.8888888888888888,
             "#fdca26"
            ],
            [
             1,
             "#f0f921"
            ]
           ]
          },
          "colorway": [
           "#636efa",
           "#EF553B",
           "#00cc96",
           "#ab63fa",
           "#FFA15A",
           "#19d3f3",
           "#FF6692",
           "#B6E880",
           "#FF97FF",
           "#FECB52"
          ],
          "font": {
           "color": "#2a3f5f"
          },
          "geo": {
           "bgcolor": "white",
           "lakecolor": "white",
           "landcolor": "#E5ECF6",
           "showlakes": true,
           "showland": true,
           "subunitcolor": "white"
          },
          "hoverlabel": {
           "align": "left"
          },
          "hovermode": "closest",
          "mapbox": {
           "style": "light"
          },
          "paper_bgcolor": "white",
          "plot_bgcolor": "#E5ECF6",
          "polar": {
           "angularaxis": {
            "gridcolor": "white",
            "linecolor": "white",
            "ticks": ""
           },
           "bgcolor": "#E5ECF6",
           "radialaxis": {
            "gridcolor": "white",
            "linecolor": "white",
            "ticks": ""
           }
          },
          "scene": {
           "xaxis": {
            "backgroundcolor": "#E5ECF6",
            "gridcolor": "white",
            "gridwidth": 2,
            "linecolor": "white",
            "showbackground": true,
            "ticks": "",
            "zerolinecolor": "white"
           },
           "yaxis": {
            "backgroundcolor": "#E5ECF6",
            "gridcolor": "white",
            "gridwidth": 2,
            "linecolor": "white",
            "showbackground": true,
            "ticks": "",
            "zerolinecolor": "white"
           },
           "zaxis": {
            "backgroundcolor": "#E5ECF6",
            "gridcolor": "white",
            "gridwidth": 2,
            "linecolor": "white",
            "showbackground": true,
            "ticks": "",
            "zerolinecolor": "white"
           }
          },
          "shapedefaults": {
           "line": {
            "color": "#2a3f5f"
           }
          },
          "ternary": {
           "aaxis": {
            "gridcolor": "white",
            "linecolor": "white",
            "ticks": ""
           },
           "baxis": {
            "gridcolor": "white",
            "linecolor": "white",
            "ticks": ""
           },
           "bgcolor": "#E5ECF6",
           "caxis": {
            "gridcolor": "white",
            "linecolor": "white",
            "ticks": ""
           }
          },
          "title": {
           "x": 0.05
          },
          "xaxis": {
           "automargin": true,
           "gridcolor": "white",
           "linecolor": "white",
           "ticks": "",
           "title": {
            "standoff": 15
           },
           "zerolinecolor": "white",
           "zerolinewidth": 2
          },
          "yaxis": {
           "automargin": true,
           "gridcolor": "white",
           "linecolor": "white",
           "ticks": "",
           "title": {
            "standoff": 15
           },
           "zerolinecolor": "white",
           "zerolinewidth": 2
          }
         }
        },
        "title": {
         "text": "Sektörlerin Piyasa Büyüklüğündeki Payı (Piyasa Değerine Göre)"
        },
        "xaxis": {
         "title": {
          "text": "Year"
         }
        },
        "yaxis": {
         "title": {
          "text": "Yüzde (%)"
         }
        }
       }
      }
     },
     "metadata": {},
     "output_type": "display_data"
    }
   ],
   "source": [
    "total_market_value = data_set.groupby(['Year'])['Market_Value'].sum()\n",
    "\n",
    "banking_mv = data_set[data_set['Industry'] == 'Banking'].groupby(['Year'])['Market_Value'].sum()/total_market_value\n",
    "fin_mv = data_set[data_set['Industry'] == 'Diversified Financials'].groupby(['Year'])['Market_Value'].sum()/total_market_value\n",
    "finans_mv = (banking_mv + fin_mv)\n",
    "\n",
    "it_mv = data_set[data_set['Industry'] == 'IT Software & Services'].groupby(['Year'])['Market_Value'].sum()/total_market_value\n",
    "tek_mv = data_set[data_set['Industry'] == 'Technology Hardware & Equipment'].groupby(['Year'])['Market_Value'].sum()/total_market_value\n",
    "tech_mv = (it_mv + tek_mv)\n",
    "\n",
    "oil_mv = data_set[data_set['Industry'] == 'Oil & Gas Operations'].groupby(['Year'])['Market_Value'].sum()/total_market_value\n",
    "retail_mv = data_set[data_set['Industry'] == 'Retailing'].groupby(['Year'])['Market_Value'].sum()/total_market_value\n",
    "\n",
    "\n",
    "\n",
    "fig = go.Figure()\n",
    "\n",
    "fig.add_trace(go.Scatter(x=total_market_value.index, y=oil_mv*100, mode='lines', name='Petrol'))\n",
    "fig.add_trace(go.Scatter(x=total_market_value.index, y=tech_mv*100, mode='lines', name='Tech'))\n",
    "fig.add_trace(go.Scatter(x=total_market_value.index, y=retail_mv*100, mode='lines', name='Perakende'))\n",
    "fig.add_trace(go.Scatter(x=total_market_value.index, y=finans_mv*100, mode='lines', name='Finans'))\n",
    "\n",
    "fig.update_layout(\n",
    "    title='Sektörlerin Piyasa Büyüklüğündeki Payı (Piyasa Değerine Göre)',\n",
    "    xaxis_title='Year',\n",
    "    yaxis_title='Yüzde (%)',\n",
    ")\n",
    "\n",
    "fig.show()\n",
    "\n",
    "\n",
    "\n",
    "\n",
    "\n"
   ]
  },
  {
   "cell_type": "code",
   "execution_count": 11,
   "metadata": {},
   "outputs": [
    {
     "data": {
      "application/vnd.plotly.v1+json": {
       "config": {
        "plotlyServerURL": "https://plot.ly"
       },
       "data": [
        {
         "mode": "lines",
         "name": "Google",
         "type": "scatter",
         "x": [
          2008,
          2009,
          2010,
          2011,
          2012,
          2013,
          2014,
          2015,
          2016,
          2017,
          2018,
          2019,
          2020,
          2021,
          2022
         ],
         "y": [
          147660,
          106570,
          169380,
          185837,
          203223,
          268445,
          382472,
          367587,
          500077,
          579499,
          766350,
          863178,
          919284,
          1538884,
          1581723
         ]
        },
        {
         "mode": "lines",
         "name": "Apple",
         "type": "scatter",
         "x": [
          2008,
          2009,
          2010,
          2011,
          2012,
          2013,
          2014,
          2015,
          2016,
          2017,
          2018,
          2019,
          2020,
          2021,
          2022
         ],
         "y": [
          109880,
          79540,
          189510,
          324281,
          545968,
          416622,
          483146,
          741782,
          585951,
          752039,
          926946,
          961257,
          1285516,
          2252292,
          2640316
         ]
        },
        {
         "mode": "lines",
         "name": "Facebook",
         "type": "scatter",
         "x": [
          2013,
          2014,
          2015,
          2016,
          2017,
          2018,
          2019,
          2020,
          2021,
          2022
         ],
         "y": [
          63472,
          159665,
          231570,
          314758,
          407300,
          541470,
          512005,
          583675,
          870476,
          499861
         ]
        },
        {
         "mode": "lines",
         "name": "Amazon",
         "type": "scatter",
         "x": [
          2009,
          2010,
          2011,
          2012,
          2013,
          2014,
          2015,
          2016,
          2017,
          2018,
          2019,
          2020,
          2021,
          2022
         ],
         "y": [
          27770,
          55360,
          75800,
          84210,
          119011,
          157523,
          175091,
          292622,
          427011,
          777775,
          916050,
          1233351,
          1711839,
          1468398
         ]
        },
        {
         "mode": "lines",
         "name": "Microsoft",
         "type": "scatter",
         "x": [
          2008,
          2009,
          2010,
          2011,
          2012,
          2013,
          2014,
          2015,
          2016,
          2017,
          2018,
          2019,
          2020,
          2021,
          2022
         ],
         "y": [
          253150,
          143580,
          254520,
          215773,
          273539,
          234828,
          343816,
          340826,
          407015,
          507544,
          750649,
          946521,
          1359028,
          1966559,
          2054367
         ]
        }
       ],
       "layout": {
        "template": {
         "data": {
          "bar": [
           {
            "error_x": {
             "color": "#2a3f5f"
            },
            "error_y": {
             "color": "#2a3f5f"
            },
            "marker": {
             "line": {
              "color": "#E5ECF6",
              "width": 0.5
             },
             "pattern": {
              "fillmode": "overlay",
              "size": 10,
              "solidity": 0.2
             }
            },
            "type": "bar"
           }
          ],
          "barpolar": [
           {
            "marker": {
             "line": {
              "color": "#E5ECF6",
              "width": 0.5
             },
             "pattern": {
              "fillmode": "overlay",
              "size": 10,
              "solidity": 0.2
             }
            },
            "type": "barpolar"
           }
          ],
          "carpet": [
           {
            "aaxis": {
             "endlinecolor": "#2a3f5f",
             "gridcolor": "white",
             "linecolor": "white",
             "minorgridcolor": "white",
             "startlinecolor": "#2a3f5f"
            },
            "baxis": {
             "endlinecolor": "#2a3f5f",
             "gridcolor": "white",
             "linecolor": "white",
             "minorgridcolor": "white",
             "startlinecolor": "#2a3f5f"
            },
            "type": "carpet"
           }
          ],
          "choropleth": [
           {
            "colorbar": {
             "outlinewidth": 0,
             "ticks": ""
            },
            "type": "choropleth"
           }
          ],
          "contour": [
           {
            "colorbar": {
             "outlinewidth": 0,
             "ticks": ""
            },
            "colorscale": [
             [
              0,
              "#0d0887"
             ],
             [
              0.1111111111111111,
              "#46039f"
             ],
             [
              0.2222222222222222,
              "#7201a8"
             ],
             [
              0.3333333333333333,
              "#9c179e"
             ],
             [
              0.4444444444444444,
              "#bd3786"
             ],
             [
              0.5555555555555556,
              "#d8576b"
             ],
             [
              0.6666666666666666,
              "#ed7953"
             ],
             [
              0.7777777777777778,
              "#fb9f3a"
             ],
             [
              0.8888888888888888,
              "#fdca26"
             ],
             [
              1,
              "#f0f921"
             ]
            ],
            "type": "contour"
           }
          ],
          "contourcarpet": [
           {
            "colorbar": {
             "outlinewidth": 0,
             "ticks": ""
            },
            "type": "contourcarpet"
           }
          ],
          "heatmap": [
           {
            "colorbar": {
             "outlinewidth": 0,
             "ticks": ""
            },
            "colorscale": [
             [
              0,
              "#0d0887"
             ],
             [
              0.1111111111111111,
              "#46039f"
             ],
             [
              0.2222222222222222,
              "#7201a8"
             ],
             [
              0.3333333333333333,
              "#9c179e"
             ],
             [
              0.4444444444444444,
              "#bd3786"
             ],
             [
              0.5555555555555556,
              "#d8576b"
             ],
             [
              0.6666666666666666,
              "#ed7953"
             ],
             [
              0.7777777777777778,
              "#fb9f3a"
             ],
             [
              0.8888888888888888,
              "#fdca26"
             ],
             [
              1,
              "#f0f921"
             ]
            ],
            "type": "heatmap"
           }
          ],
          "heatmapgl": [
           {
            "colorbar": {
             "outlinewidth": 0,
             "ticks": ""
            },
            "colorscale": [
             [
              0,
              "#0d0887"
             ],
             [
              0.1111111111111111,
              "#46039f"
             ],
             [
              0.2222222222222222,
              "#7201a8"
             ],
             [
              0.3333333333333333,
              "#9c179e"
             ],
             [
              0.4444444444444444,
              "#bd3786"
             ],
             [
              0.5555555555555556,
              "#d8576b"
             ],
             [
              0.6666666666666666,
              "#ed7953"
             ],
             [
              0.7777777777777778,
              "#fb9f3a"
             ],
             [
              0.8888888888888888,
              "#fdca26"
             ],
             [
              1,
              "#f0f921"
             ]
            ],
            "type": "heatmapgl"
           }
          ],
          "histogram": [
           {
            "marker": {
             "pattern": {
              "fillmode": "overlay",
              "size": 10,
              "solidity": 0.2
             }
            },
            "type": "histogram"
           }
          ],
          "histogram2d": [
           {
            "colorbar": {
             "outlinewidth": 0,
             "ticks": ""
            },
            "colorscale": [
             [
              0,
              "#0d0887"
             ],
             [
              0.1111111111111111,
              "#46039f"
             ],
             [
              0.2222222222222222,
              "#7201a8"
             ],
             [
              0.3333333333333333,
              "#9c179e"
             ],
             [
              0.4444444444444444,
              "#bd3786"
             ],
             [
              0.5555555555555556,
              "#d8576b"
             ],
             [
              0.6666666666666666,
              "#ed7953"
             ],
             [
              0.7777777777777778,
              "#fb9f3a"
             ],
             [
              0.8888888888888888,
              "#fdca26"
             ],
             [
              1,
              "#f0f921"
             ]
            ],
            "type": "histogram2d"
           }
          ],
          "histogram2dcontour": [
           {
            "colorbar": {
             "outlinewidth": 0,
             "ticks": ""
            },
            "colorscale": [
             [
              0,
              "#0d0887"
             ],
             [
              0.1111111111111111,
              "#46039f"
             ],
             [
              0.2222222222222222,
              "#7201a8"
             ],
             [
              0.3333333333333333,
              "#9c179e"
             ],
             [
              0.4444444444444444,
              "#bd3786"
             ],
             [
              0.5555555555555556,
              "#d8576b"
             ],
             [
              0.6666666666666666,
              "#ed7953"
             ],
             [
              0.7777777777777778,
              "#fb9f3a"
             ],
             [
              0.8888888888888888,
              "#fdca26"
             ],
             [
              1,
              "#f0f921"
             ]
            ],
            "type": "histogram2dcontour"
           }
          ],
          "mesh3d": [
           {
            "colorbar": {
             "outlinewidth": 0,
             "ticks": ""
            },
            "type": "mesh3d"
           }
          ],
          "parcoords": [
           {
            "line": {
             "colorbar": {
              "outlinewidth": 0,
              "ticks": ""
             }
            },
            "type": "parcoords"
           }
          ],
          "pie": [
           {
            "automargin": true,
            "type": "pie"
           }
          ],
          "scatter": [
           {
            "fillpattern": {
             "fillmode": "overlay",
             "size": 10,
             "solidity": 0.2
            },
            "type": "scatter"
           }
          ],
          "scatter3d": [
           {
            "line": {
             "colorbar": {
              "outlinewidth": 0,
              "ticks": ""
             }
            },
            "marker": {
             "colorbar": {
              "outlinewidth": 0,
              "ticks": ""
             }
            },
            "type": "scatter3d"
           }
          ],
          "scattercarpet": [
           {
            "marker": {
             "colorbar": {
              "outlinewidth": 0,
              "ticks": ""
             }
            },
            "type": "scattercarpet"
           }
          ],
          "scattergeo": [
           {
            "marker": {
             "colorbar": {
              "outlinewidth": 0,
              "ticks": ""
             }
            },
            "type": "scattergeo"
           }
          ],
          "scattergl": [
           {
            "marker": {
             "colorbar": {
              "outlinewidth": 0,
              "ticks": ""
             }
            },
            "type": "scattergl"
           }
          ],
          "scattermapbox": [
           {
            "marker": {
             "colorbar": {
              "outlinewidth": 0,
              "ticks": ""
             }
            },
            "type": "scattermapbox"
           }
          ],
          "scatterpolar": [
           {
            "marker": {
             "colorbar": {
              "outlinewidth": 0,
              "ticks": ""
             }
            },
            "type": "scatterpolar"
           }
          ],
          "scatterpolargl": [
           {
            "marker": {
             "colorbar": {
              "outlinewidth": 0,
              "ticks": ""
             }
            },
            "type": "scatterpolargl"
           }
          ],
          "scatterternary": [
           {
            "marker": {
             "colorbar": {
              "outlinewidth": 0,
              "ticks": ""
             }
            },
            "type": "scatterternary"
           }
          ],
          "surface": [
           {
            "colorbar": {
             "outlinewidth": 0,
             "ticks": ""
            },
            "colorscale": [
             [
              0,
              "#0d0887"
             ],
             [
              0.1111111111111111,
              "#46039f"
             ],
             [
              0.2222222222222222,
              "#7201a8"
             ],
             [
              0.3333333333333333,
              "#9c179e"
             ],
             [
              0.4444444444444444,
              "#bd3786"
             ],
             [
              0.5555555555555556,
              "#d8576b"
             ],
             [
              0.6666666666666666,
              "#ed7953"
             ],
             [
              0.7777777777777778,
              "#fb9f3a"
             ],
             [
              0.8888888888888888,
              "#fdca26"
             ],
             [
              1,
              "#f0f921"
             ]
            ],
            "type": "surface"
           }
          ],
          "table": [
           {
            "cells": {
             "fill": {
              "color": "#EBF0F8"
             },
             "line": {
              "color": "white"
             }
            },
            "header": {
             "fill": {
              "color": "#C8D4E3"
             },
             "line": {
              "color": "white"
             }
            },
            "type": "table"
           }
          ]
         },
         "layout": {
          "annotationdefaults": {
           "arrowcolor": "#2a3f5f",
           "arrowhead": 0,
           "arrowwidth": 1
          },
          "autotypenumbers": "strict",
          "coloraxis": {
           "colorbar": {
            "outlinewidth": 0,
            "ticks": ""
           }
          },
          "colorscale": {
           "diverging": [
            [
             0,
             "#8e0152"
            ],
            [
             0.1,
             "#c51b7d"
            ],
            [
             0.2,
             "#de77ae"
            ],
            [
             0.3,
             "#f1b6da"
            ],
            [
             0.4,
             "#fde0ef"
            ],
            [
             0.5,
             "#f7f7f7"
            ],
            [
             0.6,
             "#e6f5d0"
            ],
            [
             0.7,
             "#b8e186"
            ],
            [
             0.8,
             "#7fbc41"
            ],
            [
             0.9,
             "#4d9221"
            ],
            [
             1,
             "#276419"
            ]
           ],
           "sequential": [
            [
             0,
             "#0d0887"
            ],
            [
             0.1111111111111111,
             "#46039f"
            ],
            [
             0.2222222222222222,
             "#7201a8"
            ],
            [
             0.3333333333333333,
             "#9c179e"
            ],
            [
             0.4444444444444444,
             "#bd3786"
            ],
            [
             0.5555555555555556,
             "#d8576b"
            ],
            [
             0.6666666666666666,
             "#ed7953"
            ],
            [
             0.7777777777777778,
             "#fb9f3a"
            ],
            [
             0.8888888888888888,
             "#fdca26"
            ],
            [
             1,
             "#f0f921"
            ]
           ],
           "sequentialminus": [
            [
             0,
             "#0d0887"
            ],
            [
             0.1111111111111111,
             "#46039f"
            ],
            [
             0.2222222222222222,
             "#7201a8"
            ],
            [
             0.3333333333333333,
             "#9c179e"
            ],
            [
             0.4444444444444444,
             "#bd3786"
            ],
            [
             0.5555555555555556,
             "#d8576b"
            ],
            [
             0.6666666666666666,
             "#ed7953"
            ],
            [
             0.7777777777777778,
             "#fb9f3a"
            ],
            [
             0.8888888888888888,
             "#fdca26"
            ],
            [
             1,
             "#f0f921"
            ]
           ]
          },
          "colorway": [
           "#636efa",
           "#EF553B",
           "#00cc96",
           "#ab63fa",
           "#FFA15A",
           "#19d3f3",
           "#FF6692",
           "#B6E880",
           "#FF97FF",
           "#FECB52"
          ],
          "font": {
           "color": "#2a3f5f"
          },
          "geo": {
           "bgcolor": "white",
           "lakecolor": "white",
           "landcolor": "#E5ECF6",
           "showlakes": true,
           "showland": true,
           "subunitcolor": "white"
          },
          "hoverlabel": {
           "align": "left"
          },
          "hovermode": "closest",
          "mapbox": {
           "style": "light"
          },
          "paper_bgcolor": "white",
          "plot_bgcolor": "#E5ECF6",
          "polar": {
           "angularaxis": {
            "gridcolor": "white",
            "linecolor": "white",
            "ticks": ""
           },
           "bgcolor": "#E5ECF6",
           "radialaxis": {
            "gridcolor": "white",
            "linecolor": "white",
            "ticks": ""
           }
          },
          "scene": {
           "xaxis": {
            "backgroundcolor": "#E5ECF6",
            "gridcolor": "white",
            "gridwidth": 2,
            "linecolor": "white",
            "showbackground": true,
            "ticks": "",
            "zerolinecolor": "white"
           },
           "yaxis": {
            "backgroundcolor": "#E5ECF6",
            "gridcolor": "white",
            "gridwidth": 2,
            "linecolor": "white",
            "showbackground": true,
            "ticks": "",
            "zerolinecolor": "white"
           },
           "zaxis": {
            "backgroundcolor": "#E5ECF6",
            "gridcolor": "white",
            "gridwidth": 2,
            "linecolor": "white",
            "showbackground": true,
            "ticks": "",
            "zerolinecolor": "white"
           }
          },
          "shapedefaults": {
           "line": {
            "color": "#2a3f5f"
           }
          },
          "ternary": {
           "aaxis": {
            "gridcolor": "white",
            "linecolor": "white",
            "ticks": ""
           },
           "baxis": {
            "gridcolor": "white",
            "linecolor": "white",
            "ticks": ""
           },
           "bgcolor": "#E5ECF6",
           "caxis": {
            "gridcolor": "white",
            "linecolor": "white",
            "ticks": ""
           }
          },
          "title": {
           "x": 0.05
          },
          "xaxis": {
           "automargin": true,
           "gridcolor": "white",
           "linecolor": "white",
           "ticks": "",
           "title": {
            "standoff": 15
           },
           "zerolinecolor": "white",
           "zerolinewidth": 2
          },
          "yaxis": {
           "automargin": true,
           "gridcolor": "white",
           "linecolor": "white",
           "ticks": "",
           "title": {
            "standoff": 15
           },
           "zerolinecolor": "white",
           "zerolinewidth": 2
          }
         }
        },
        "title": {
         "text": "Gafam Şirketlerinin Piyasa Değeri"
        },
        "xaxis": {
         "title": {
          "text": "Yıl"
         }
        },
        "yaxis": {
         "title": {
          "text": "Piyasa Değeri (Milyon Dolar)"
         }
        }
       }
      }
     },
     "metadata": {},
     "output_type": "display_data"
    }
   ],
   "source": [
    "import plotly.graph_objects as go\n",
    "\n",
    "data_set.replace('Amazon.com', 'Amazon', inplace=True)\n",
    "data_set.replace('Alphabet', 'Google', inplace=True)\n",
    "data_set.replace('Meta Platforms', 'Facebook', inplace=True)\n",
    "\n",
    "gafam_companies = ['Google', 'Apple', 'Facebook', 'Amazon', 'Microsoft']\n",
    "df_filtered = data_set[(data_set['Company'].isin(gafam_companies))]\n",
    "\n",
    "# Create traces for each company\n",
    "traces = []\n",
    "for company in gafam_companies:\n",
    "    company_df = df_filtered[df_filtered['Company'] == company]\n",
    "    traces.append(go.Scatter(x=company_df['Year'], y=company_df['Market_Value'], mode='lines', name=company))\n",
    "\n",
    "# Create a figure with the traces\n",
    "fig = go.Figure(traces)\n",
    "\n",
    "# Update layout\n",
    "fig.update_layout(\n",
    "    title='Gafam Şirketlerinin Piyasa Değeri',\n",
    "    xaxis_title='Yıl',\n",
    "    yaxis_title='Piyasa Değeri (Milyon Dolar)',\n",
    ")\n",
    "\n",
    "# Show the figure\n",
    "fig.show()\n",
    "\n",
    "\n",
    "\n"
   ]
  },
  {
   "cell_type": "code",
   "execution_count": 13,
   "metadata": {},
   "outputs": [
    {
     "data": {
      "application/vnd.plotly.v1+json": {
       "config": {
        "plotlyServerURL": "https://plot.ly"
       },
       "data": [
        {
         "hovertemplate": "<b>%{hovertext}</b><br><br>Industry=Oil & Gas Operations<br>Sales=%{x}<br>Profits=%{y}<br>Market_Value=%{marker.size}<extra></extra>",
         "hovertext": [
          "PetroChina",
          "ExxonMobil",
          "Gazprom",
          "Petrobras-Petróleo Brasil",
          "Royal Dutch Shell",
          "Sinopec-China Petroleum",
          "Total",
          "Chevron",
          "ConocoPhillips",
          "ENI",
          "Schlumberger",
          "StatoilHydro",
          "Reliance Industries",
          "BG Group",
          "Rosneft",
          "Cnooc",
          "Occidental Petroleum",
          "Lukoil Holding",
          "EnCana",
          "Oil & Natural Gas",
          "Suncor Energy",
          "Devon Energy",
          "Transocean",
          "Repsol-YPF",
          "ExxonMobil",
          "PetroChina",
          "Royal Dutch Shell",
          "Chevron",
          "BP",
          "Total",
          "Petrobras-Petróleo Brasil",
          "Sinopec-China Petroleum",
          "ENI",
          "Gazprom",
          "ConocoPhillips",
          "StatoilHydro",
          "BG Group",
          "Schlumberger",
          "Occidental Petroleum",
          "Cnooc",
          "Reliance Industries",
          "Rosneft",
          "Ecopetrol",
          "EnCana",
          "Oil & Natural Gas",
          "Lukoil",
          "PetroChina",
          "ExxonMobil",
          "Petrobras-Petróleo Brasil",
          "Royal Dutch Shell",
          "BP",
          "Chevron",
          "Gazprom",
          "Total",
          "Sinopec-China Petroleum",
          "Rosneft",
          "ENI",
          "Schlumberger",
          "ConocoPhillips",
          "Statoil",
          "Cnooc",
          "Reliance Industries",
          "Occidental Petroleum",
          "BG Group",
          "Ecopetrol",
          "Oil & Natural Gas",
          "Suncor Energy",
          "Lukoil",
          "Canadian Natural Res",
          "Apache",
          "Anadarko Petroleum",
          "ExxonMobil",
          "PetroChina",
          "Petrobras-Petróleo Brasil",
          "Royal Dutch Shell",
          "Chevron",
          "Gazprom",
          "BP",
          "Total",
          "Schlumberger",
          "ConocoPhillips",
          "Sinopec-China Petroleum",
          "Cnooc",
          "ENI",
          "Rosneft",
          "Ecopetrol",
          "Statoil",
          "Occidental Petroleum",
          "BG Group",
          "Reliance Industries",
          "Suncor Energy",
          "Lukoil",
          "Oil & Natural Gas",
          "Canadian Natural Res",
          "Apache",
          "TNK-BP Holding",
          "Halliburton",
          "Surgutneftegas",
          "Exxon Mobil",
          "PetroChina",
          "Royal Dutch Shell",
          "Chevron",
          "Petrobras-Petróleo Brasil",
          "Gazprom",
          "BP",
          "Total",
          "Ecopetrol",
          "Sinopec-China Petroleum",
          "Schlumberger",
          "ConocoPhillips",
          "ENI",
          "Cnooc",
          "Statoil",
          "BG Group",
          "Occidental Petroleum",
          "Rosneft",
          "Lukoil",
          "Suncor Energy",
          "TNK-BP Holding",
          "Reliance Industries",
          "Oil & Natural Gas",
          "Novatek",
          "Anadarko Petroleum",
          "Apache",
          "Surgutneftegas",
          "Exxon Mobil",
          "PetroChina",
          "Chevron",
          "Royal Dutch Shell",
          "BP",
          "Petrobras",
          "Ecopetrol",
          "Total",
          "Gazprom",
          "Sinopec-China Petroleum",
          "Schlumberger",
          "ENI",
          "Cnooc",
          "Statoil",
          "Rosneft",
          "ConocoPhillips",
          "Occidental Petroleum",
          "BG Group",
          "Lukoil",
          "Oil & Natural Gas",
          "Reliance Industries",
          "Suncor Energy",
          "Anadarko Petroleum",
          "Exxon Mobil",
          "Royal Dutch Shell",
          "Chevron",
          "PetroChina",
          "Total",
          "BP",
          "Schlumberger",
          "Sinopec-China Petroleum",
          "Eni",
          "Statoil",
          "Gazprom",
          "Petrobras",
          "ConocoPhillips",
          "Ecopetrol",
          "Occidental Petroleum",
          "Rosneft",
          "CNOOC",
          "BG Group",
          "EOG Resources",
          "Suncor Energy",
          "Reliance Industries",
          "Halliburton",
          "National Grid",
          "Exxon Mobil",
          "PetroChina",
          "Chevron",
          "Royal Dutch Shell",
          "Sinopec",
          "BP",
          "Total",
          "Schlumberger",
          "Kinder Morgan",
          "ConocoPhillips",
          "CNOOC",
          "Eni",
          "Gazprom",
          "Occidental Petroleum",
          "Statoil",
          "EOG Resources",
          "Rosneft",
          "ExxonMobil",
          "Royal Dutch Shell",
          "PetroChina",
          "Chevron",
          "Total",
          "Schlumberger",
          "BP",
          "Sinopec",
          "ConocoPhillips",
          "CNOOC",
          "Occidental Petroleum",
          "Eni",
          "Gazprom",
          "Statoil",
          "Rosneft",
          "Reliance Industries",
          "Phillips 66",
          "ExxonMobil",
          "Royal Dutch Shell",
          "Chevron",
          "PetroChina",
          "Total",
          "BP",
          "Schlumberger",
          "China Petroleum & Chemical",
          "Reliance Industries",
          "Enbridge",
          "Rosneft",
          "ConocoPhillips",
          "Petrobras",
          "Eni",
          "Statoil",
          "EOG Resources",
          "CNOOC",
          "Gazprom",
          "Suncor Energy",
          "ExxonMobil",
          "Royal Dutch Shell",
          "Chevron",
          "PetroChina",
          "Total",
          "BP",
          "Sinopec",
          "Schlumberger",
          "Reliance Industries",
          "Petrobras",
          "Equinor",
          "ConocoPhillips",
          "CNOOC",
          "Eni",
          "Rosneft",
          "EOG Resources",
          "Suncor Energy",
          "Occidental Petroleum",
          "LukOil",
          "Gazprom",
          "ExxonMobil",
          "Royal Dutch Shell",
          "Chevron",
          "PetroChina",
          "BP",
          "Total",
          "Reliance Industries",
          "Sinopec",
          "Petrobras",
          "CNOOC",
          "Equinor",
          "Enbridge",
          "ConocoPhillips",
          "Rosneft",
          "Schlumberger",
          "Eni",
          "LukOil",
          "EOG Resources",
          "Gazprom",
          "Saudi Arabian Oil Company (Saudi Aramco)",
          "ExxonMobil",
          "Chevron",
          "Royal Dutch Shell",
          "Reliance Industries",
          "Total",
          "BP",
          "Sinopec",
          "PetroChina",
          "Enbridge",
          "Gazprom",
          "CNOOC",
          "Saudi Arabian Oil Company (Saudi Aramco)",
          "ExxonMobil",
          "Chevron",
          "Reliance Industries",
          "Royal Dutch Shell",
          "Total",
          "BP",
          "Sinopec",
          "Rosneft",
          "Saudi Arabian Oil Company (Saudi Aramco)",
          "ExxonMobil",
          "Chevron",
          "Reliance Industries",
          "Shell",
          "PetroChina",
          "Total",
          "ConocoPhillips",
          "Equinor",
          "BP",
          "Enbridge",
          "Petrobras",
          "Sinopec",
          "Canadian Natural Resources"
         ],
         "legendgroup": "Oil & Gas Operations",
         "marker": {
          "color": "#636efa",
          "size": [
           546140,
           465510,
           306790,
           236670,
           221090,
           186380,
           181800,
           179970,
           129150,
           127380,
           103380,
           98360,
           89290,
           79280,
           77940,
           76060,
           63640,
           62250,
           57470,
           54110,
           47960,
           45650,
           44570,
           42350,
           335540,
           270560,
           135100,
           121700,
           119700,
           112900,
           110970,
           93500,
           80680,
           74550,
           55290,
           53300,
           48100,
           45520,
           42030,
           39170,
           35950,
           34070,
           33380,
           29690,
           28910,
           26620,
           333840,
           308770,
           190340,
           168630,
           167130,
           146230,
           132580,
           131800,
           130060,
           83190,
           82220,
           73490,
           72720,
           72260,
           70650,
           69360,
           65570,
           58160,
           54140,
           51820,
           45590,
           45180,
           37240,
           35350,
           34680,
           407200,
           320811,
           238788,
           212940,
           200604,
           172916,
           141014,
           138025,
           117372,
           109082,
           107675,
           101287,
           96784,
           84960,
           84435,
           83788,
           80269,
           79214,
           71723,
           67997,
           59184,
           53192,
           50427,
           45479,
           44235,
           40608,
           40489,
           407411,
           294726,
           227597,
           218020,
           179998,
           159751,
           147376,
           132449,
           119731,
           104171,
           102381,
           98767,
           97649,
           96330,
           88974,
           83210,
           81576,
           79640,
           55328,
           51758,
           51590,
           50370,
           46592,
           43218,
           42207,
           41883,
           39923,
           400418,
           261164,
           232502,
           213145,
           130394,
           120656,
           116217,
           115525,
           111368,
           106858,
           105464,
           86290,
           84344,
           78054,
           73156,
           72124,
           67397,
           60647,
           55376,
           50546,
           50409,
           47347,
           42723,
           422315,
           234059,
           227187,
           201966,
           149843,
           148814,
           127979,
           94651,
           90854,
           89225,
           88824,
           86794,
           86309,
           83574,
           74981,
           69986,
           67227,
           64033,
           54067,
           51500,
           50931,
           50737,
           49630,
           357094,
           334578,
           201029,
           195380,
           121023,
           120813,
           120222,
           109785,
           90429,
           80525,
           64384,
           64246,
           62486,
           58956,
           58041,
           52033,
           51100,
           363270,
           209987,
           203848,
           192258,
           121917,
           111135,
           98954,
           89941,
           58971,
           58022,
           57930,
           57713,
           57146,
           53617,
           51119,
           50589,
           46297,
           343165,
           228793,
           206083,
           204477,
           128122,
           114695,
           109201,
           105122,
           71165,
           69293,
           62376,
           61283,
           61278,
           58229,
           56240,
           56192,
           54818,
           51815,
           51686,
           344126,
           306459,
           248119,
           220199,
           168012,
           152567,
           138569,
           98455,
           93066,
           92612,
           90211,
           81250,
           78832,
           70712,
           68972,
           67964,
           65072,
           65067,
           60435,
           57835,
           343431,
           264939,
           228323,
           198651,
           149548,
           149486,
           126409,
           105633,
           91193,
           83886,
           77551,
           75318,
           74582,
           72161,
           63145,
           62483,
           61103,
           60251,
           59861,
           1684765,
           196588,
           171762,
           126489,
           123844,
           93061,
           79390,
           76570,
           65868,
           62184,
           60825,
           50624,
           1897165,
           239869,
           198513,
           164908,
           151972,
           118449,
           84505,
           82596,
           77657,
           2292077,
           359731,
           316230,
           228630,
           211096,
           142302,
           127320,
           124434,
           117872,
           98378,
           90921,
           83981,
           80809,
           74272
          ],
          "sizemode": "area",
          "sizeref": 6600.79,
          "symbol": "circle"
         },
         "mode": "markers",
         "name": "Oil & Gas Operations",
         "showlegend": true,
         "type": "scattergl",
         "x": [
          88240,
          358600,
          81760,
          87520,
          355780,
          133790,
          199740,
          203970,
          171500,
          119270,
          23710,
          89000,
          26070,
          16430,
          21960,
          11160,
          20010,
          54110,
          24280,
          18900,
          18080,
          11360,
          6380,
          61800,
          425700,
          114320,
          458360,
          255110,
          361140,
          223150,
          92080,
          154280,
          158320,
          97290,
          225420,
          93380,
          18340,
          27560,
          24480,
          11970,
          34030,
          46990,
          15420,
          30060,
          24040,
          66860,
          157220,
          275560,
          104810,
          278190,
          239270,
          159290,
          115250,
          160680,
          208470,
          34700,
          121010,
          22980,
          136020,
          79760,
          18270,
          29400,
          15400,
          16500,
          14260,
          20210,
          24300,
          86340,
          9670,
          8610,
          8210,
          341578,
          222333,
          121323,
          369056,
          189607,
          98672,
          297107,
          188054,
          27447,
          175752,
          284802,
          27049,
          130486,
          46135,
          21858,
          90438,
          19157,
          17358,
          45328,
          34570,
          86078,
          22618,
          12984,
          12092,
          43634,
          17973,
          17373,
          433526,
          310090,
          470171,
          236286,
          145915,
          117624,
          375517,
          216207,
          35618,
          391447,
          39540,
          230859,
          143164,
          27068,
          111640,
          20336,
          24119,
          59167,
          111433,
          39077,
          60199,
          59504,
          26318,
          5436,
          13967,
          16888,
          20323,
          420714,
          308929,
          222580,
          467153,
          370866,
          144103,
          38970,
          240500,
          143982,
          411684,
          42321,
          163655,
          39246,
          126771,
          68843,
          58437,
          24253,
          19329,
          116335,
          28895,
          70319,
          38783,
          13411,
          393969,
          451354,
          211772,
          328538,
          227944,
          379204,
          45364,
          445304,
          152705,
          105227,
          164623,
          141191,
          55597,
          37669,
          24392,
          142615,
          43007,
          19161,
          14456,
          38425,
          72752,
          29402,
          23402,
          376240,
          333386,
          191755,
          420371,
          427595,
          352753,
          211355,
          48580,
          16236,
          52001,
          44570,
          145893,
          157974,
          19395,
          95139,
          16693,
          128977,
          236810,
          264871,
          274608,
          129866,
          143359,
          31746,
          218702,
          283613,
          29447,
          27288,
          12580,
          87244,
          102051,
          57952,
          80751,
          42239,
          85174,
          197518,
          234751,
          110484,
          214760,
          128067,
          183834,
          27810,
          255722,
          41792,
          26106,
          74867,
          23848,
          81068,
          61599,
          45665,
          7544,
          22027,
          91353,
          20233,
          230055,
          321766,
          139397,
          282393,
          155776,
          251939,
          326585,
          31375,
          60757,
          90047,
          65145,
          30274,
          27583,
          75483,
          94789,
          12465,
          25743,
          13297,
          99902,
          112226,
          279209,
          382626,
          158741,
          322842,
          299065,
          184202,
          79687,
          399679,
          95681,
          33878,
          77862,
          36123,
          36372,
          112937,
          32816,
          89437,
          127914,
          17266,
          128430,
          329762,
          255995,
          140144,
          311562,
          84787,
          176185,
          271639,
          369228,
          364096,
          37463,
          122600,
          33598,
          229747,
          178170,
          94402,
          61195,
          170189,
          119715,
          180022,
          271077,
          70790,
          400376,
          280510,
          156291,
          86854,
          261761,
          380310,
          185116,
          46056,
          88373,
          158010,
          37551,
          83887,
          384822,
          23974
         ],
         "xaxis": "x",
         "y": [
          18210,
          40610,
          23300,
          11040,
          31330,
          6900,
          19240,
          18690,
          11890,
          13700,
          5180,
          7520,
          2790,
          3460,
          3630,
          3880,
          5400,
          7690,
          4240,
          4110,
          2850,
          3610,
          3130,
          4360,
          45220,
          19940,
          26280,
          23930,
          21160,
          14740,
          14120,
          7430,
          12910,
          26780,
          -17000,
          6200,
          4560,
          5430,
          6860,
          4120,
          4870,
          11120,
          5290,
          5940,
          4950,
          9510,
          16800,
          19280,
          16630,
          12520,
          16580,
          10480,
          24330,
          12100,
          4370,
          6510,
          6270,
          3130,
          4860,
          3160,
          6440,
          2910,
          2920,
          3500,
          2400,
          3860,
          1090,
          9140,
          1510,
          -280,
          -140,
          30460,
          21239.6,
          21198.2,
          20127,
          19024,
          25718.5,
          -3719,
          14151.3,
          4267,
          11358,
          10896,
          8040,
          8381.5,
          10362,
          4243,
          6538.7,
          4530,
          3388.6,
          5466.6,
          3593.8,
          9006,
          4328.9,
          1707.8,
          3032.5,
          5815,
          1835,
          3835.5,
          41060,
          20575,
          30918,
          26895,
          20121,
          31671.8,
          25700,
          15936,
          8370.6,
          11634,
          4998,
          12436,
          8926.2,
          8045.5,
          13148.8,
          4085.9,
          6771,
          11318.3,
          10357,
          4226.9,
          8981,
          4331.4,
          5041.4,
          3715.3,
          -2649,
          4584,
          4266.2,
          44880,
          18278,
          26179,
          26592,
          11582,
          11034,
          8365,
          14108,
          40582.9,
          10063,
          5490,
          10014,
          10094,
          12378,
          11158,
          8429,
          4598,
          4613,
          11004,
          5533,
          3877.7,
          2795,
          2391,
          32580,
          16413.6,
          21423,
          21069.6,
          11205.1,
          23615.5,
          6733,
          10927.5,
          6898.3,
          6768,
          38972.7,
          10915,
          9156,
          7010,
          5888,
          12833.8,
          10609.1,
          2518.9,
          2197.1,
          3795.6,
          3826.3,
          2125,
          3881.4,
          32520,
          17388.3,
          19241,
          14884.1,
          7697.5,
          3494.4,
          4244,
          5438,
          1021,
          6869,
          9769,
          1768.2,
          24099.9,
          616,
          3473.2,
          2915.5,
          9012.8,
          16150,
          2075.1,
          5704.3,
          4587,
          5034.1,
          1598,
          -6465.2,
          5124,
          -4428,
          3237.3,
          -7829,
          -9781.8,
          4877.4,
          -4645.6,
          5791.2,
          4220.2,
          4221,
          7840,
          4650.7,
          -497,
          1162.1,
          6156.1,
          115,
          -1687,
          6986.6,
          4349.1,
          1561.6,
          2701.7,
          -3615,
          -4252.7,
          -1619.5,
          -2892.6,
          -1096.7,
          95.9,
          12141.2,
          327.6,
          20350,
          15159,
          10151,
          4138,
          8391.1,
          4319,
          8035.7,
          -1259,
          5596,
          642,
          4861,
          -553,
          3629.7,
          3865.4,
          3908.8,
          3192.7,
          3034.7,
          1894,
          7179.9,
          12245.9,
          20840,
          23329,
          14824,
          7991,
          9332,
          11401,
          5649,
          9534,
          7051,
          7966,
          7619,
          2224,
          6257,
          8739,
          2137,
          4986,
          9856,
          3419,
          18916,
          88205,
          14340,
          2924,
          9947.8,
          6158.2,
          11258.9,
          -3291.1,
          3308,
          6638.8,
          4299.5,
          22733.6,
          8838.5,
          49282.8,
          -22440,
          -5543,
          5699.9,
          -22166.3,
          -7579,
          -20913,
          4770,
          2031.7,
          105363,
          23040,
          15625,
          7808,
          20265.4,
          14290,
          16138.1,
          8079,
          8573.4,
          7553.3,
          4936.5,
          19767.3,
          11041,
          6112.9
         ],
         "yaxis": "y"
        },
        {
         "hovertemplate": "<b>%{hovertext}</b><br><br>Industry=Conglomerates<br>Sales=%{x}<br>Profits=%{y}<br>Market_Value=%{marker.size}<extra></extra>",
         "hovertext": [
          "General Electric",
          "Siemens",
          "United Technologies",
          "ABB",
          "3M",
          "Honeywell International",
          "General Electric",
          "Siemens",
          "United Technologies",
          "3M",
          "ABB",
          "Hutchison Whampoa",
          "General Electric",
          "Siemens",
          "United Technologies",
          "3M",
          "ABB",
          "Emerson Electric",
          "General Electric",
          "Siemens",
          "United Technologies",
          "3M",
          "ABB",
          "Hutchison Whampoa",
          "Emerson Electric",
          "Honeywell International",
          "General Electric",
          "Siemens",
          "United Technologies",
          "3M",
          "ABB",
          "Honeywell International",
          "Hutchison Whampoa",
          "General Electric",
          "Siemens",
          "United Technologies",
          "3M",
          "Honeywell International",
          "ABB",
          "Hutchison Whampoa",
          "Jardine Matheson",
          "Danaher",
          "General Electric",
          "Siemens",
          "United Technologies",
          "3M",
          "Honeywell International",
          "ABB",
          "Hutchison Whampoa",
          "Danaher",
          "General Electric",
          "United Technologies",
          "3M",
          "Siemens",
          "Honeywell International",
          "Danaher",
          "Hutchison Whampoa",
          "General Electric",
          "3M",
          "Siemens",
          "United Technologies",
          "Honeywell International",
          "Danaher",
          "CK Hutchison",
          "ABB",
          "General Electric",
          "3M",
          "Siemens",
          "Honeywell International",
          "United Technologies",
          "Danaher",
          "General Electric",
          "3M",
          "Siemens",
          "Honeywell International",
          "United Technologies",
          "Danaher",
          "3M",
          "Honeywell International",
          "United Technologies",
          "Siemens",
          "Danaher",
          "General Electric",
          "Danaher",
          "Honeywell International",
          "3M",
          "Siemens",
          "General Electric",
          "Danaher",
          "Honeywell International",
          "Siemens",
          "General Electric",
          "3M",
          "Danaher",
          "Honeywell International",
          "Siemens",
          "General Electric",
          "3M"
         ],
         "legendgroup": "Conglomerates",
         "marker": {
          "color": "#EF553B",
          "size": [
           330930,
           118470,
           69110,
           58070,
           55480,
           42830,
           89870,
           44180,
           38530,
           31540,
           28000,
           22540,
           169650,
           80070,
           65280,
           57350,
           46460,
           35640,
           216192,
           110200,
           74815,
           65209,
           52920,
           49896,
           44802,
           44123,
           213741,
           91995,
           77690,
           62203,
           47756,
           46809,
           44734,
           243735,
           91923,
           85504,
           73415,
           57577,
           53391,
           45051,
           43252,
           43072,
           259557,
           114247,
           108067,
           89811,
           72929,
           59955,
           57764,
           52568,
           253500,
           107070,
           105132,
           97671,
           81568,
           60084,
           59776,
           285611,
           102175,
           91812,
           88442,
           86922,
           66404,
           48218,
           48059,
           261174,
           113537,
           109773,
           94594,
           90583,
           59734,
           126806,
           121802,
           112503,
           110068,
           99591,
           71122,
           126052,
           123138,
           118140,
           96998,
           90729,
           81435,
           113914,
           100364,
           87384,
           75384,
           59480,
           173318,
           161209,
           139762,
           117626,
           115061,
           189397,
           130673,
           102228,
           98133,
           84903
          ],
          "sizemode": "area",
          "sizeref": 6600.79,
          "symbol": "circle"
         },
         "mode": "markers",
         "name": "Conglomerates",
         "showlegend": true,
         "type": "scattergl",
         "x": [
          172740,
          103200,
          54760,
          30670,
          24460,
          34590,
          182520,
          108760,
          58680,
          25270,
          34910,
          28050,
          156780,
          112230,
          52920,
          23120,
          31800,
          20510,
          150211,
          103512,
          54326,
          26662,
          35012,
          26930,
          21746,
          33370,
          147300,
          98414,
          58190,
          29611,
          35600,
          36529,
          26911,
          147359,
          100638,
          57708,
          29904,
          37665,
          40057,
          31338,
          39593,
          18260,
          143262,
          99654,
          62651,
          30871,
          39062,
          41814,
          33034,
          19118,
          148451,
          65196,
          31821,
          97369,
          40306,
          19914,
          35096,
          122364,
          30274,
          85511,
          59126,
          38581,
          20909,
          21510,
          35529,
          119690,
          30109,
          88354,
          39302,
          57383,
          19889,
          121455,
          32250,
          94469,
          41434,
          61218,
          18819,
          32765,
          40294,
          66485,
          98316,
          20078,
          121615,
          19942,
          36706,
          32348,
          97431,
          99949,
          22284,
          32640,
          58017,
          79857,
          32184,
          30283,
          34387,
          76464,
          74078,
          35355
         ],
         "xaxis": "x",
         "y": [
          22210,
          5420,
          4220,
          2720,
          4100,
          2440,
          17410,
          8050.000000000001,
          4690,
          3460,
          3120,
          3920,
          11030,
          3360,
          3830,
          3190,
          2900,
          1690,
          11644,
          5312,
          4373,
          4085,
          2838.5,
          1827.2,
          2219,
          2022,
          14151,
          8226.2,
          4979,
          4283,
          2967.8,
          2067,
          2577.9,
          13641,
          5730,
          5130,
          4444,
          2926,
          2754,
          3368,
          1688,
          2392.2,
          14838,
          5999.5,
          5718,
          4659,
          3924,
          2793.3,
          4011,
          2695,
          15218,
          6220,
          4956,
          6658.8,
          4239,
          2598.4,
          8660.1,
          1678,
          4833,
          6463.9,
          4044,
          4768,
          2596.8,
          5896.2,
          1921.4,
          10020,
          5050,
          6446.9,
          4742,
          5044,
          2553.7,
          -7838,
          4137,
          7139.8,
          1767,
          4463,
          2552.6,
          5349,
          6742,
          5269,
          5465,
          2418,
          -22367,
          2557.2,
          6143,
          4971,
          5864.9,
          6303,
          3646.9,
          4779,
          4932.7,
          5581,
          5384,
          6456,
          5542,
          6554.1,
          1167,
          5921
         ],
         "yaxis": "y"
        },
        {
         "hovertemplate": "<b>%{hovertext}</b><br><br>Industry=Telecommunications Services<br>Sales=%{x}<br>Profits=%{y}<br>Market_Value=%{marker.size}<extra></extra>",
         "hovertext": [
          "China Mobile",
          "AT&T",
          "Vodafone",
          "Telefónica",
          "América Móvil",
          "Verizon Communications",
          "France Telecom",
          "Deutsche Telekom",
          "China Telecom",
          "Nippon Telegraph & Tel",
          "Telstra",
          "Telecom Italia",
          "Singapore Telecom",
          "China Mobile",
          "AT&T",
          "Vodafone",
          "Telefónica",
          "Verizon Communications",
          "Nippon Telegraph & Tel",
          "France Telecom",
          "Deutsche Telekom",
          "América Móvil",
          "Telstra",
          "China Telecom",
          "Singapore Telecom",
          "Telecom Italia",
          "KDDI",
          "Bharti Airtel",
          "Royal KPN",
          "Chunghwa Telecom",
          "China Unicom",
          "China Mobile",
          "AT&T",
          "Vodafone",
          "Telefónica",
          "Verizon Communications",
          "América Móvil",
          "Nippon Telegraph & Tel",
          "France Telecom",
          "Deutsche Telekom",
          "China Telecom",
          "Singapore Telecom",
          "Verizon Communications",
          "AT&T",
          "China Mobile",
          "Softbank",
          "Nippon Telegraph & Tel",
          "Deutsche Telekom",
          "Saudi Telecom",
          "Verizon Communications",
          "AT&T",
          "China Mobile",
          "Softbank",
          "Nippon Telegraph & Tel",
          "Deutsche Telekom",
          "KDDI",
          "Verizon Communications",
          "AT&T",
          "Softbank",
          "China Mobile",
          "Nippon Telegraph & Tel",
          "Deutsche Telekom",
          "Verizon Communications",
          "China Mobile",
          "AT&T",
          "Nippon Telegraph & Tel",
          "Deutsche Telekom",
          "Etisalat",
          "KDDI",
          "Softbank"
         ],
         "legendgroup": "Telecommunications Services",
         "marker": {
          "color": "#00cc96",
          "size": [
           308590,
           210220,
           171940,
           138420,
           104700,
           104270,
           87890,
           83190,
           61890,
           60270,
           56680,
           48620,
           43960,
           175850,
           140080,
           93660,
           85560,
           81040,
           59070,
           58920,
           52960,
           42680,
           28220,
           27660,
           25340,
           23820,
           23700,
           23630,
           22200,
           21670,
           21550,
           199730,
           147550,
           112260,
           108190,
           82210,
           72090,
           68680,
           62390,
           56250,
           36690,
           34660,
           239705,
           233325,
           197572,
           112400,
           80173,
           79386,
           59733,
           237728,
           218558,
           164943,
           89742,
           83049,
           69223,
           66867,
           241279,
           213797,
           163120,
           134923,
           96726,
           91623,
           218022,
           147052,
           141786,
           103985,
           91721,
           83817,
           74120,
           71685
          ],
          "sizemode": "area",
          "sizeref": 6600.79,
          "symbol": "circle"
         },
         "mode": "markers",
         "name": "Telecommunications Services",
         "showlegend": true,
         "type": "scattergl",
         "x": [
          37060,
          118930,
          61230,
          82400,
          28530,
          93470,
          77310,
          91260,
          22420,
          91570,
          20110,
          42810,
          8670,
          47090,
          124030,
          70390,
          80700,
          97350,
          107020,
          74500,
          85890,
          25010,
          23600,
          24460,
          10760,
          41970,
          36030,
          6730,
          20090,
          6200,
          13130,
          66220,
          123020,
          58350,
          79110,
          107810,
          30220,
          106980,
          65920,
          90080,
          27420,
          9810,
          130863,
          170805,
          111804,
          86162,
          107501,
          89255,
          13882,
          131350,
          179217,
          108106,
          87364,
          109598,
          90134,
          47805,
          128292,
          171760,
          70291,
          111262,
          110283,
          115136,
          134346,
          131491,
          163025,
          110393,
          128592,
          14522,
          49172,
          96863
         ],
         "xaxis": "x",
         "y": [
          8290,
          11950,
          -10590,
          13000,
          5370,
          5650,
          9200,
          830,
          3480,
          4059.9999999999995,
          2760,
          3350,
          2490,
          11490,
          12870,
          13300,
          10570,
          6430,
          6360,
          5670,
          2070,
          4350,
          3530,
          3250,
          2870,
          3080,
          2180,
          1590,
          1860,
          1530,
          1230,
          16870,
          12540,
          4380,
          10840,
          3650,
          5400,
          5530,
          4300,
          490,
          130,
          2270,
          15528,
          19370,
          17906,
          13863,
          8740,
          2557,
          2877,
          18389,
          14417,
          15457.7,
          2919.1,
          7883.2,
          4327,
          5896.4,
          17801,
          -5176,
          14934.9,
          15616.7,
          8331.7,
          4738.9,
          21520,
          17973.7,
          17331,
          10151.3,
          4934.8,
          2536.5,
          5979.5,
          20873.7
         ],
         "yaxis": "y"
        },
        {
         "hovertemplate": "<b>%{hovertext}</b><br><br>Industry=Banking<br>Sales=%{x}<br>Profits=%{y}<br>Market_Value=%{marker.size}<extra></extra>",
         "hovertext": [
          "ICBC",
          "HSBC Holdings",
          "Bank of America",
          "Bank of China",
          "JPMorgan Chase",
          "CCB-China Construction Bank",
          "Citigroup",
          "Banco Santander",
          "Mitsubishi UFJ Financial",
          "Wells Fargo",
          "Intesa Sanpaolo",
          "BNP Paribas",
          "BBVA-Banco Bilbao Vizcaya",
          "UniCredit Group",
          "Royal Bank of Scotland",
          "Sberbank",
          "Bank of Communications",
          "Royal Bank of Canada",
          "China Merchants Bank",
          "Société Générale Group",
          "Barclays",
          "Wachovia",
          "Banco Bradesco",
          "Sumitomo Mitsui Financial",
          "US Bancorp",
          "Commonwealth Bank",
          "Lloyds TSB Group",
          "Bank of New York Mellon",
          "Mizuho Financial",
          "Toronto-Dominion Bank",
          "Bank of Nova Scotia",
          "Standard Chartered Group",
          "Crédit Agricole",
          "HBOS",
          "National Australia Bank",
          "KBC Group",
          "ICBC",
          "CCB-China Construction Bank",
          "Bank of China",
          "JPMorgan Chase",
          "HSBC Holdings",
          "Mitsubishi UFJ Financial",
          "Wells Fargo",
          "Banco Santander",
          "Bank of Communications",
          "Royal Bank of Canada",
          "Intesa Sanpaolo",
          "Westpac Banking Group",
          "China Merchants Bank",
          "BNP Paribas",
          "Commonwealth Bank",
          "BBVA-Banco Bilbao Vizcaya",
          "Banco Bradesco",
          "Sumitomo Mitsui Financial",
          "Bank of New York Mellon",
          "Bank of America",
          "US Bancorp",
          "Toronto-Dominion Bank",
          "Bank of Nova Scotia",
          "Crédit Agricole",
          "National Australia Bank",
          "Mizuho Financial",
          "China Citic Bank",
          "ICBC",
          "China Construction Bank",
          "HSBC Holdings",
          "Bank of America",
          "JPMorgan Chase",
          "Bank of China",
          "Wells Fargo",
          "Banco Santander",
          "Citigroup",
          "BNP Paribas",
          "Royal Bank of Canada",
          "Commonwealth Bank",
          "Mitsubishi UFJ Financial",
          "Westpac Banking Group",
          "Sberbank",
          "Bank of Communications",
          "Barclays",
          "Toronto-Dominion Bank",
          "Banco Bradesco",
          "ANZ Banking",
          "Lloyds Banking Group",
          "National Australia Bank",
          "BBVA-Banco Bilbao Vizcaya",
          "Bank of Nova Scotia",
          "US Bancorp",
          "Standard Chartered Group",
          "Sumitomo Mitsui Financial",
          "China Merchants Bank",
          "Intesa Sanpaolo",
          "UniCredit Group",
          "Banco do Brasil",
          "Société Générale Group",
          "Deutsche Bank",
          "Nordea Bank",
          "China Citic Bank",
          "Crédit Agricole",
          "Bank of New York Mellon",
          "ICBC",
          "China Construction Bank",
          "HSBC Holdings",
          "JPMorgan Chase",
          "Wells Fargo",
          "Bank of America",
          "Bank of China",
          "Agricultural Bank of China",
          "Citigroup",
          "Banco Santander",
          "BNP Paribas",
          "Royal Bank of Canada",
          "Commonwealth Bank",
          "TD Bank Financial Group",
          "Royal Bank of Scotland",
          "Mitsubishi UFJ Financial",
          "Sberbank",
          "Westpac Banking Group",
          "Lloyds Banking Group",
          "Bank of Nova Scotia",
          "Banco Bradesco",
          "ANZ Banking",
          "Standard Chartered Group",
          "Deutsche Bank",
          "Barclays",
          "National Australia Bank",
          "Bank of Communications",
          "BBVA-Banco Bilbao Vizcaya",
          "US Bancorp",
          "Sumitomo Mitsui Financial",
          "Banco do Brasil",
          "UniCredit Group",
          "Société Générale",
          "China Merchants Bank",
          "Nordea Bank",
          "Mizuho Financial",
          "Intesa Sanpaolo",
          "ICBC",
          "China Construction Bank",
          "Wells Fargo",
          "JPMorgan Chase",
          "HSBC Holdings",
          "Agricultural Bank of China",
          "Bank of China",
          "Citigroup",
          "Bank of America",
          "Itaú Unibanco Holding",
          "Royal Bank of Canada",
          "Commonwealth Bank",
          "TD Bank",
          "Banco Santander",
          "Mitsubishi UFJ Financial",
          "Sberbank",
          "Allied Irish Banks",
          "Westpac Banking Group",
          "Banco Bradesco",
          "ANZ",
          "Standard Chartered",
          "Bank of Nova Scotia",
          "BNP Paribas",
          "US Bancorp",
          "National Australia Bank",
          "Barclays",
          "Bank of Communications",
          "Royal Bank of Scotland",
          "Sumitomo Mitsui Financial",
          "Deutsche Bank",
          "Banco do Brasil",
          "BBVA-Banco Bilbao Vizcaya",
          "China Merchants Bank",
          "Lloyds Banking Group",
          "Mizuho Financial",
          "Nordea Bank",
          "ICBC",
          "China Construction Bank",
          "Wells Fargo",
          "HSBC Holdings",
          "JPMorgan Chase",
          "Agricultural Bank of China",
          "Citigroup",
          "Bank of America",
          "Bank of China",
          "Commonwealth Bank",
          "Westpac Banking Group",
          "Royal Bank of Canada",
          "Mitsubishi UFJ Financial",
          "Banco Santander",
          "Itaú Unibanco Holding",
          "ANZ",
          "TD Bank Group",
          "National Australia Bank",
          "Sberbank",
          "Banco Bradesco",
          "BNP Paribas",
          "Bank of Nova Scotia",
          "Standard Chartered",
          "US Bancorp",
          "Barclays",
          "Sumitomo Mitsui Financial",
          "Bank of Communications",
          "BBVA-Banco Bilbao Vizcaya",
          "Lloyds Banking Group",
          "Mizuho Financial",
          "Royal Bank of Scotland",
          "Allied Irish Banks",
          "Nordea Bank",
          "China Merchants Bank",
          "China Minsheng Banking",
          "Wells Fargo",
          "JPMorgan Chase",
          "ICBC",
          "HSBC Holdings",
          "Bank of America",
          "China Construction Bank",
          "Citigroup",
          "Agricultural Bank of China",
          "Bank of China",
          "Commonwealth Bank",
          "Banco Santander",
          "Allied Irish Banks",
          "Westpac Banking Group",
          "BNP Paribas",
          "Royal Bank of Canada",
          "Lloyds Banking Group",
          "TD Bank Group",
          "ANZ",
          "US Bancorp",
          "Mitsubishi UFJ Financial",
          "National Australia Bank",
          "Itaú Unibanco Holding",
          "Bank of Nova Scotia",
          "BBVA-Banco Bilbao Vizcaya",
          "Barclays",
          "Royal Bank of Scotland",
          "Sumitomo Mitsui Financial",
          "Banco Bradesco",
          "Nordea Bank",
          "Intesa Sanpaolo",
          "UniCredit Group",
          "Sberbank",
          "Standard Chartered",
          "Société Générale",
          "ICBC",
          "Wells Fargo",
          "JPMorgan Chase",
          "China Construction Bank",
          "Bank of China",
          "Agricultural Bank of China",
          "HSBC Holdings",
          "Bank of America",
          "Citigroup",
          "Commonwealth Bank",
          "Banco Santander",
          "Westpac Banking Group",
          "Mitsubishi UFJ Financial",
          "Royal Bank of Canada",
          "Lloyds Banking Group",
          "TD Bank Group",
          "BNP Paribas",
          "ANZ",
          "US Bancorp",
          "UBS",
          "National Australia Bank",
          "Bank of Communications",
          "BBVA-Banco Bilbao Vizcaya",
          "China Merchants Bank",
          "Barclays",
          "Itaú Unibanco Holding",
          "Bank of Nova Scotia",
          "Royal Bank of Scotland",
          "ING Group",
          "Intesa Sanpaolo",
          "Industrial Bank",
          "Allied Irish Banks",
          "Sumitomo Mitsui Financial",
          "China Minsheng Banking",
          "Banco Bradesco",
          "Nordea Bank",
          "Wells Fargo",
          "JPMorgan Chase",
          "ICBC",
          "China Construction Bank",
          "Bank of America",
          "Agricultural Bank of China",
          "Bank of China",
          "Citigroup",
          "HSBC Holdings",
          "Commonwealth Bank",
          "Royal Bank of Canada",
          "TD Bank Group",
          "Westpac Banking Group",
          "US Bancorp",
          "Mitsubishi UFJ Financial",
          "Banco Santander",
          "Lloyds Banking Group",
          "BNP Paribas",
          "China Merchants Bank",
          "UBS",
          "Bank of Nova Scotia",
          "National Australia Bank",
          "Bank of Communications",
          "Shanghai Pudong Development",
          "ANZ",
          "Itaú Unibanco Holding",
          "ING Group",
          "China Minsheng Banking",
          "Sumitomo Mitsui Financial",
          "Industrial Bank ",
          "BBVA-Banco Bilbao Vizcaya",
          "Intesa Sanpaolo",
          "JPMorgan Chase",
          "Wells Fargo",
          "Bank of America",
          "ICBC",
          "China Construction Bank",
          "Citigroup",
          "HSBC Holdings",
          "Agricultural Bank of China",
          "Bank of China",
          "Commonwealth Bank",
          "Royal Bank of Canada",
          "TD Bank Group",
          "Banco Santander",
          "US Bancorp",
          "Westpac Banking Group",
          "Mitsubishi UFJ Financial",
          "BNP Paribas",
          "Itaú Unibanco Holding",
          "Bank of Nova Scotia",
          "ANZ",
          "China Merchants Bank",
          "National Australia Bank",
          "Sberbank",
          "Bank of Communications",
          "UBS",
          "PNC Financial Services",
          "ING Group",
          "HDFC Bank",
          "Lloyds Banking Group",
          "Postal Savings Bank Of China",
          "Banco Bradesco",
          "Shanghai Pudong Development",
          "JPMorgan Chase",
          "Bank of America",
          "ICBC",
          "Wells Fargo",
          "China Construction Bank",
          "HSBC Holdings",
          "Citigroup",
          "Agricultural Bank of China",
          "Bank of China",
          "Royal Bank of Canada",
          "China Merchants Bank",
          "TD Bank Group",
          "Banco Santander",
          "BNP Paribas",
          "Commonwealth Bank",
          "Itaú Unibanco Holding",
          "Sberbank",
          "Mitsubishi UFJ Financial",
          "US Bancorp",
          "HDFC Bank",
          "Westpac Banking Group",
          "Bank of Nova Scotia",
          "PNC Financial Services",
          "Bank of Communications",
          "Lloyds Banking Group",
          "Intesa Sanpaolo",
          "ING Group",
          "UBS",
          "Banco Bradesco",
          "ANZ",
          "Sumitomo Mitsui Financial",
          "National Australia Bank",
          "ICBC",
          "Bank of America",
          "China Construction Bank",
          "Wells Fargo",
          "Agricultural Bank of China",
          "HSBC Holdings",
          "Bank of China",
          "China Merchants Bank",
          "RBC",
          "TD Bank Group",
          "Commonwealth Bank",
          "HDFC Bank",
          "Santander",
          "US Bancorp",
          "Itaú Unibanco Holding",
          "Sberbank",
          "Banco Bradesco",
          "BNP Paribas",
          "Bank of Nova Scotia",
          "Westpac Banking Group",
          "Mitsubishi UFJ Financial",
          "Bank of Communications",
          "Industrial Bank",
          "Lloyds Banking Group",
          "PNC Financial Services",
          "ICBC",
          "Bank of America",
          "China Construction Bank",
          "Raiffeisen Bank International",
          "Agricultural Bank of China",
          "China Merchants Bank",
          "Wells Fargo",
          "Bank of China",
          "HSBC Holdings",
          "Postal Savings Bank Of China (PSBC)",
          "RBC",
          "TD Bank Group",
          "HDFC Bank",
          "Commonwealth Bank",
          "Sberbank",
          "US Bancorp",
          "Mitsubishi UFJ Financial",
          "Truist Financial",
          "Bank of America",
          "ICBC",
          "China Construction Bank",
          "China Merchants Bank",
          "Wells Fargo",
          "Agricultural Bank of China",
          "RBC",
          "Commonwealth Bank",
          "TD Bank Group",
          "HSBC Holdings",
          "Bank of China",
          "Postal Savings Bank Of China (PSBC)",
          "HDFC Bank",
          "US Bancorp",
          "Sberbank",
          "BNP Paribas",
          "Truist Financial",
          "Bank of America",
          "ICBC",
          "China Construction Bank",
          "Wells Fargo",
          "China Merchants Bank",
          "RBC",
          "HSBC Holdings",
          "Agricultural Bank of China",
          "TD Bank Group",
          "Commonwealth Bank",
          "Postal Savings Bank Of China (PSBC)",
          "Al Rajhi Bank",
          "Bank of China",
          "HDFC Bank",
          "The Saudi National Bank",
          "Bank of Nova Scotia",
          "NAB - National Australia Bank",
          "Mitsubishi UFJ Financial",
          "US Bancorp",
          "Bank of Montreal",
          "PNC Financial Services"
         ],
         "legendgroup": "Banking",
         "marker": {
          "color": "#ab63fa",
          "size": [
           289570,
           180810,
           176530,
           171450,
           136880,
           126550,
           123440,
           113270,
           98140,
           96370,
           86290,
           81900,
           78290,
           77460,
           76640,
           71880,
           71240,
           64410,
           63650,
           62930,
           62430,
           60690,
           59800,
           56100,
           55390,
           51860,
           50950,
           50270,
           48800,
           48380,
           48080,
           46940,
           45730,
           44840,
           43950,
           43660,
           170830,
           119030,
           105040,
           85870,
           85040,
           53630,
           51280,
           49750,
           34380,
           34290,
           31430,
           31400,
           30680,
           29980,
           28010,
           27560,
           26750,
           25560,
           25470,
           25290,
           25120,
           25010,
           22440,
           21910,
           21900,
           21460,
           21270,
           242230,
           184320,
           178270,
           167630,
           166190,
           147000,
           141690,
           107120,
           96540,
           86670,
           78170,
           75100,
           72170,
           70990,
           57700,
           57340,
           56150,
           55430,
           54500,
           53720,
           50250,
           48800,
           48200,
           47260,
           46890,
           46160,
           45820,
           45650,
           44670,
           43950,
           42780,
           41430,
           39750,
           39420,
           36640,
           34420,
           34330,
           239490,
           224794,
           186472,
           182206,
           170580,
           145542,
           143001,
           134025,
           132786,
           94735,
           88037,
           87194,
           79224,
           75453,
           75148,
           74497,
           74353,
           69288,
           66697,
           63610,
           63283,
           60498,
           59830,
           59594,
           58290,
           53985,
           52280,
           52269,
           52200,
           49038,
           48486,
           47271,
           46915,
           46708,
           43730,
           42729,
           41181,
           237401,
           201941,
           178710,
           170140,
           164312,
           154813,
           129053,
           107528,
           105177,
           91176,
           84398,
           81594,
           76072,
           75604,
           74510,
           74042,
           73741,
           67476,
           65294,
           62639,
           62498,
           62153,
           61530,
           60481,
           56336,
           49080,
           48794,
           48249,
           47777,
           47342,
           45891,
           43056,
           42548,
           40834,
           40581,
           39696,
           237264,
           202004,
           201348,
           201312,
           191450,
           150844,
           143612,
           135483,
           131683,
           117534,
           98865,
           87179,
           85697,
           82146,
           81972,
           81226,
           76928,
           76319,
           73335,
           71571,
           71279,
           70557,
           64371,
           63765,
           62280,
           57587,
           56749,
           54653,
           53772,
           53678,
           52039,
           49999,
           47124,
           44114,
           43916,
           261375,
           229747,
           215625,
           192566,
           183251,
           174365,
           145143,
           141105,
           124249,
           114546,
           112273,
           104982,
           99003,
           98614,
           95702,
           89943,
           86193,
           83900,
           78244,
           77659,
           75314,
           74873,
           71239,
           71030,
           64624,
           59814,
           58625,
           58498,
           58001,
           57424,
           53847,
           51484,
           51074,
           49971,
           278327,
           278273,
           225451,
           212945,
           199130,
           189879,
           167746,
           163171,
           156663,
           117070,
           109351,
           94152,
           90923,
           89306,
           84443,
           80371,
           78408,
           77583,
           77227,
           74717,
           71650,
           71248,
           66117,
           64043,
           63742,
           63727,
           61347,
           60155,
           58875,
           58403,
           57893,
           56679,
           54794,
           51702,
           51372,
           50846,
           255998,
           234247,
           198042,
           162774,
           156021,
           152736,
           143002,
           138149,
           132956,
           99171,
           90722,
           81818,
           80587,
           74996,
           73516,
           72526,
           70027,
           66847,
           66759,
           63689,
           61737,
           56482,
           55652,
           55209,
           54888,
           50476,
           49891,
           49268,
           48165,
           47330,
           46875,
           46409,
           306616,
           274385,
           231876,
           229805,
           200458,
           164316,
           162638,
           149229,
           141321,
           109902,
           107205,
           92001,
           89409,
           86608,
           86067,
           83858,
           80499,
           79208,
           70479,
           68836,
           66376,
           65024,
           63903,
           62164,
           59983,
           57935,
           57932,
           57414,
           55869,
           55157,
           53511,
           50451,
           387668,
           313510,
           311014,
           265328,
           261166,
           200293,
           185788,
           184125,
           158628,
           113418,
           112449,
           107762,
           106323,
           93581,
           93505,
           87033,
           86311,
           86166,
           84587,
           77596,
           76241,
           74979,
           70880,
           66642,
           65391,
           63060,
           62210,
           61802,
           61340,
           61245,
           58292,
           58172,
           305057,
           287339,
           224988,
           214676,
           197045,
           175460,
           142958,
           130355,
           114929,
           103836,
           92822,
           89939,
           84077,
           81885,
           80779,
           78539,
           70702,
           68712,
           67077,
           66036,
           65008,
           63612,
           62369,
           60895,
           60202,
           242283,
           208646,
           203818,
           170844,
           147174,
           120856,
           118797,
           112774,
           105318,
           91967,
           87711,
           75791,
           73146,
           72623,
           59898,
           55526,
           51802,
           50287,
           336288,
           249532,
           210435,
           192801,
           181546,
           140084,
           135040,
           120650,
           120591,
           120323,
           116688,
           112358,
           105918,
           86939,
           85651,
           79094,
           77763,
           303102,
           214425,
           181325,
           176767,
           167321,
           147918,
           135300,
           133385,
           132988,
           130340,
           125528,
           119854,
           117825,
           98275,
           86459,
           80579,
           77239,
           75750,
           75485,
           72736,
           71899
          ],
          "sizemode": "area",
          "sizeref": 6600.79,
          "symbol": "circle"
         },
         "mode": "markers",
         "name": "Banking",
         "showlegend": true,
         "type": "scattergl",
         "x": [
          37480,
          146500,
          119190,
          31130,
          116350,
          29160,
          159230,
          72260,
          49490,
          53590,
          22250,
          116160,
          54340,
          63670,
          108450,
          14750,
          8850,
          43570,
          4840,
          103440,
          79700,
          55530,
          36120,
          33040,
          20310,
          26480,
          58740,
          14780,
          32520.000000000004,
          26510,
          28020,
          21250,
          101590,
          100320,
          38880,
          35220,
          53600,
          42980,
          40100,
          101490,
          142050,
          61430,
          51650,
          96230,
          13690,
          30010,
          50560,
          25900,
          8150,
          107960,
          34980,
          56510,
          39970,
          46060,
          16340,
          113110,
          19230,
          20800,
          21620,
          107750,
          41870,
          42290,
          5960,
          71860,
          59160,
          103740,
          150450,
          115630,
          52200,
          98640,
          109570,
          108070,
          101060,
          35410,
          31840,
          57530,
          31190,
          23270,
          19050,
          65910,
          23600,
          59100,
          26910,
          106670,
          32500,
          49270,
          23270,
          19490,
          20940,
          36140,
          12090,
          50710,
          92170,
          56100,
          62080,
          62980,
          22810,
          9330,
          91960,
          8280,
          69193,
          58246,
          103251,
          115475,
          93249,
          134194,
          49385,
          49391,
          111465,
          109669,
          130388,
          31762,
          34309,
          25807,
          66172,
          51043,
          32276,
          37846,
          96635,
          24238,
          70148,
          32228,
          21410,
          61223,
          63867,
          36912,
          19564,
          43372,
          20518,
          33132,
          68860,
          68754,
          85439,
          11496,
          20328,
          29729,
          49945,
          82591,
          68692,
          87597,
          110838,
          102021,
          62429,
          60834,
          102587,
          115074,
          75546,
          35889,
          49533,
          27663,
          109596,
          53331,
          31769,
          6834,
          44114,
          79803,
          34672,
          23504,
          27320,
          119003,
          21399,
          38170,
          66336,
          24898,
          60805,
          45915,
          65700,
          72383,
          46749,
          15201,
          64990,
          32187,
          21686,
          134774,
          113081,
          91247,
          104934,
          108184,
          102998,
          90708,
          100078,
          98119,
          47837,
          43860,
          38330,
          59014,
          108812,
          70538,
          37495,
          30587,
          49212,
          36073,
          78349,
          126214,
          27611,
          26908,
          22202,
          55686,
          47281,
          43541,
          52119,
          75642,
          32805,
          42105,
          4562,
          23178,
          28395,
          27924,
          88662,
          105661,
          148656,
          79597,
          101497,
          121284,
          94062,
          136446,
          105111,
          41482,
          52499,
          5154,
          38385,
          123203,
          37815,
          58638,
          31267,
          33969,
          20150,
          48616,
          36880,
          67157,
          27729,
          28195,
          54957,
          38313,
          46249,
          74136,
          25551,
          24458,
          32775,
          56475,
          25582,
          45592,
          166796,
          90403,
          97817,
          130473,
          120297,
          129221,
          81086,
          97021,
          93929,
          39576,
          56361,
          35555,
          49156,
          38869,
          65607,
          32741,
          124517,
          32613,
          20252,
          39784,
          33444,
          53613,
          28148,
          45474,
          53014,
          76571,
          27897,
          35628,
          65729,
          35218,
          39426,
          6073,
          34836,
          40000,
          66708,
          20825,
          91431,
          99881,
          171077,
          146816,
          91496,
          131888,
          122027,
          85945,
          70267,
          33133,
          33090,
          29815,
          30193,
          21120,
          44244,
          49786,
          46198,
          74910,
          48189,
          39930,
          24395,
          28785,
          56985,
          41393,
          31099,
          50919,
          55674,
          42359,
          39618,
          45031,
          25819,
          39064,
          102494,
          97573,
          92214,
          151381,
          134242,
          84038,
          62087,
          115698,
          113107,
          30930,
          35285,
          31874,
          48336,
          22006,
          27764,
          49173,
          74702,
          61283,
          26697,
          26528,
          44491,
          24181,
          43044,
          52995,
          37975,
          16064,
          53581,
          11362,
          23405,
          48036,
          70150,
          40060,
          118180,
          102978,
          165338,
          102063,
          143202,
          63169,
          90469,
          129345,
          118150,
          40491,
          49936,
          35741,
          56068,
          117774,
          33038,
          62310,
          46326,
          51760,
          24063,
          15721,
          29353,
          28830,
          18475,
          59050,
          33593,
          42522,
          56579,
          40340,
          76500,
          28739,
          49131,
          25578,
          175874,
          111904,
          150313,
          101456,
          137456,
          64294,
          126677,
          54867,
          46276,
          42544,
          31396,
          15745,
          89455,
          25703,
          53781,
          51607,
          62628,
          101602,
          32366,
          29080,
          53664,
          64752,
          49736,
          35242,
          20171,
          177230,
          112065,
          162147,
          5262,
          148692,
          58381,
          98866,
          135353,
          67221,
          64365,
          50850,
          44783,
          20741,
          27284,
          47578,
          25891,
          60111,
          17214,
          98841,
          190467,
          173478,
          60414,
          85902,
          153920,
          42870,
          22381,
          38796,
          60626,
          134016,
          67249,
          20677,
          23145,
          47260,
          102681,
          24334,
          96826,
          208127,
          202069,
          84123,
          71066,
          45239,
          59326,
          181420,
          38510,
          21853,
          77614,
          6736,
          152425,
          22507,
          8626,
          30353,
          15764,
          48280,
          23124,
          26526,
          19933
         ],
         "xaxis": "x",
         "y": [
          6310,
          19130,
          14980,
          5490,
          15370,
          5930,
          3620,
          10020,
          7500,
          8060.000000000001,
          3380,
          10710,
          8940,
          7190,
          14620,
          3150,
          1570,
          5770,
          870,
          1300,
          8760,
          6310,
          4110,
          3760,
          4320,
          3800,
          6530,
          2220,
          5280,
          4200,
          4250,
          2810,
          6490,
          8100,
          4059.9999999999995,
          4660,
          11160,
          9450,
          7700,
          3700,
          5730,
          6380,
          2660,
          13250,
          2780,
          3520,
          10580,
          3050,
          2090,
          4200,
          4580,
          6990,
          3260,
          4620,
          1450,
          4010,
          2950,
          2880,
          2540,
          5900,
          3580,
          3120,
          1140,
          16270,
          13590,
          5830,
          6280,
          11650,
          9450,
          12280,
          12340,
          -1610,
          8370,
          3580,
          3810,
          -2640,
          3040,
          3200,
          4170,
          15170,
          2900,
          4600,
          2600,
          4570,
          2290,
          6030,
          3290,
          2210,
          3380,
          -3840,
          3090,
          3560,
          5590,
          5820,
          970,
          6930,
          3410,
          1960,
          1610,
          -1080,
          18843.9,
          15637.6,
          13302.7,
          17370,
          12362,
          -2238,
          11874.8,
          9520,
          10602,
          12830.3,
          10521.9,
          5563.6,
          4759.7,
          4886.8,
          -1561.6,
          4159.5,
          804.8,
          6137.3,
          -499.2,
          4423.9,
          6037.2,
          4353,
          4332,
          3099,
          5560,
          4085.1,
          4411.7,
          6259.7,
          3317,
          2905.7,
          7050.1,
          2438.9,
          5254.9,
          2671.1,
          3746.6,
          2561.6,
          4018.6,
          25057.5,
          20458.5,
          15869,
          18976,
          16209.4,
          14394.1,
          15842.3,
          11067,
          1446,
          7427.3,
          4693.6,
          6853.1,
          5783.5,
          6946.6,
          7014.4,
          5955.7,
          -13726.7,
          7177.3,
          5919.6,
          5173.9,
          4679.4,
          5286.9,
          7854.1,
          4872,
          5042.5,
          4669.3,
          5923.5,
          -3101,
          5725,
          5364.1,
          6508.9,
          3940.4,
          3909.7,
          -4470,
          4971.1,
          3423,
          37805,
          30617,
          18897,
          14320,
          21284,
          22996,
          7541,
          4188,
          22098,
          7256.9,
          6192.9,
          7665.8,
          11854.5,
          2909,
          6166,
          5872.4,
          6687,
          4234.4,
          10781,
          5554.5,
          8645,
          6411,
          4887,
          5647,
          -1692,
          6263.9,
          9386,
          2209.6,
          -2320.3,
          5853,
          -9438,
          -4808,
          4163.8,
          7267,
          6149,
          21878,
          17324,
          42723.3,
          16259.4,
          11429,
          34217.2,
          13411,
          27022.7,
          25516.4,
          7930.5,
          5801.7,
          -2120.2,
          6751.4,
          6415,
          8038.7,
          -1309.9,
          6551.9,
          6223.5,
          5802,
          11325,
          5409.9,
          7605.8,
          6272.8,
          2957.9,
          844.1,
          -13437.9,
          9714.4,
          5562.2,
          4136.4,
          -6044,
          -7931.2,
          11415.5,
          4094.3,
          2887.6,
          44757.2,
          23057,
          21219,
          37038.9,
          27526.8,
          29124.5,
          13536.7,
          4833,
          7203,
          8074.8,
          7714.6,
          6949.4,
          10641.4,
          8328.1,
          1928.1,
          6996.8,
          208.3,
          6681.6,
          5826,
          3901,
          4873.2,
          10688.3,
          3472.6,
          9071.9,
          -286.6,
          9157.3,
          6369.3,
          -4564.9,
          2572,
          1786.7,
          7550,
          1168.6,
          7679.5,
          7228.2,
          6506.3,
          4419.8,
          22686,
          23548,
          44160.3,
          36393.4,
          15844,
          28808.7,
          27209.5,
          15771,
          13478.6,
          6863,
          7650.5,
          6228,
          6268.4,
          5816,
          7921.9,
          6622.3,
          773.1,
          7423.1,
          9202.5,
          6441.1,
          5471.9,
          4962.4,
          10601.5,
          8051.4,
          5866.8,
          7705.9,
          5463.6,
          7355.3,
          5762.5,
          8043.1,
          2929.8,
          3142.7,
          24231,
          21938,
          16563,
          41983.7,
          34981.4,
          14717,
          2479,
          27797.5,
          24856.6,
          7065.2,
          8348.5,
          6933.8,
          6862.8,
          5870,
          5475.9,
          8154.5,
          8370.6,
          6673.6,
          5548.7,
          4201.9,
          9381.4,
          4347.6,
          8067.7,
          10141,
          3355.8,
          3877,
          5117.3,
          1955.3,
          2822.7,
          6009.7,
          4327.1,
          7992.6,
          26496,
          20294,
          43669.4,
          21693,
          37203.1,
          10750.3,
          -5838,
          29638.7,
          26353.5,
          8837.2,
          11023.6,
          7918.2,
          7953.6,
          8501.2,
          7618.4,
          7548,
          13448.6,
          8944.1,
          6391,
          2871.3,
          6398.9,
          6454.1,
          5488,
          10729,
          4049,
          8252,
          5532.5,
          1452.7,
          4677.7,
          5272.9,
          7223.2,
          4116.7,
          45223,
          28540,
          38841,
          23117,
          30894,
          13664,
          27500,
          12259,
          9642,
          8683,
          6736,
          2871,
          9214,
          7098,
          6751,
          13258,
          5220,
          8446,
          6447,
          6148,
          9041,
          11191,
          9274,
          5300,
          5317,
          45283.6,
          24129,
          38914.8,
          8815.4,
          30911.6,
          13710.6,
          14342,
          27216.3,
          3808.4,
          8992.5,
          9957,
          9255.9,
          3843.7,
          7041.8,
          10637.8,
          6364,
          5364,
          3492,
          17894,
          45768.7,
          39299.2,
          14091.9,
          7390,
          31300.2,
          8794,
          5748.4,
          9100.3,
          3975,
          27945.8,
          9280.8,
          4139.1,
          6052,
          10447.1,
          7553.5,
          4899,
          30995,
          54028.3,
          46887.3,
          20583,
          18584.4,
          12998,
          12577.5,
          37378.5,
          11775.3,
          8386.9,
          11330.4,
          3931.4,
          33574.4,
          5107.1,
          3377.4,
          7955.5,
          4781.1,
          11289.2,
          7212,
          6919.6,
          5247
         ],
         "yaxis": "y"
        },
        {
         "hovertemplate": "<b>%{hovertext}</b><br><br>Industry=IT Software & Services<br>Sales=%{x}<br>Profits=%{y}<br>Market_Value=%{marker.size}<extra></extra>",
         "hovertext": [
          "Microsoft",
          "IBM",
          "Google",
          "Oracle",
          "SAP",
          "Microsoft",
          "IBM",
          "Google",
          "Oracle",
          "SAP",
          "Accenture",
          "Microsoft",
          "Google",
          "IBM",
          "Oracle",
          "SAP",
          "Tencent Holdings",
          "Microsoft",
          "IBM",
          "Google",
          "Oracle",
          "SAP",
          "Tencent Holdings",
          "Tata Consultancy Svcs",
          "Baidu",
          "Microsoft",
          "IBM",
          "Google",
          "Oracle",
          "SAP",
          "Tencent Holdings",
          "Baidu",
          "Tata Consultancy Services",
          "VMware",
          "Accenture",
          "Google",
          "IBM",
          "Microsoft",
          "Oracle",
          "SAP",
          "Tencent Holdings",
          "Facebook",
          "Tata Consultancy Services",
          "Accenture",
          "Google",
          "Microsoft",
          "IBM",
          "Oracle",
          "Facebook",
          "Tencent Holdings",
          "SAP",
          "Tata Consultancy Services",
          "Baidu",
          "Accenture",
          "Google",
          "Microsoft",
          "Facebook",
          "Oracle",
          "Tencent Holdings",
          "IBM",
          "SAP",
          "Tata Consultancy Services",
          "Baidu",
          "Accenture",
          "Google",
          "Microsoft",
          "Facebook",
          "Tencent Holdings",
          "Oracle",
          "IBM",
          "SAP",
          "Tata Consultancy Services",
          "Accenture",
          "Baidu",
          "Salesforce.com",
          "Adobe Systems",
          "Google",
          "Microsoft",
          "Facebook",
          "Tencent Holdings",
          "Oracle",
          "IBM",
          "SAP",
          "Accenture",
          "Tata Consultancy Services",
          "Adobe Systems",
          "Baidu",
          "Salesforce.com",
          "Google",
          "Microsoft",
          "Facebook",
          "Tencent Holdings",
          "Oracle",
          "SAP",
          "IBM",
          "Adobe Systems",
          "Accenture",
          "Tata Consultancy Services",
          "Salesforce.com",
          "Baidu",
          "VMware",
          "Microsoft",
          "Google",
          "Facebook",
          "Tencent Holdings",
          "Oracle",
          "SAP",
          "Adobe",
          "IBM",
          "Salesforce.com",
          "Tata Consultancy Services",
          "Accenture",
          "VMware",
          "Intuit",
          "Baidu",
          "Microsoft",
          "Google",
          "Facebook",
          "Tencent Holdings",
          "Adobe",
          "Oracle",
          "Salesforce.com",
          "SAP",
          "Accenture",
          "IBM",
          "Tata Consultancy Services",
          "Meituan Dianping",
          "Shopify",
          "Intuit",
          "ServiceNow",
          "VMware",
          "Uber",
          "Microsoft",
          "Google",
          "Facebook",
          "Tencent Holdings",
          "Adobe",
          "Oracle",
          "Meituan",
          "Salesforce.com",
          "Accenture",
          "SAP",
          "Tata Consultancy Services",
          "Shopify",
          "Kuaishou Technology",
          "IBM",
          "Square",
          "Intuit",
          "Uber",
          "ServiceNow",
          "Zoom Video Communications",
          "Snap",
          "MercadoLibre",
          "Infosys",
          "Microsoft",
          "Google",
          "Facebook",
          "Tencent Holdings",
          "Oracle",
          "Accenture",
          "Adobe",
          "Tata Consultancy Services",
          "Salesforce.com",
          "Intuit",
          "IBM",
          "SAP",
          "Meituan ",
          "ServiceNow",
          "Infosys"
         ],
         "legendgroup": "IT Software & Services",
         "marker": {
          "color": "#FFA15A",
          "size": [
           253150,
           157620,
           147660,
           96570,
           57770,
           143580,
           123470,
           106570,
           78420,
           38470,
           21040,
           254520,
           169380,
           167010,
           123980,
           55270,
           36390,
           215773,
           198089,
           185837,
           161223,
           71862,
           51076,
           46557,
           44015,
           273539,
           238696,
           203223,
           149468,
           88080,
           51318,
           47515,
           45533,
           45532,
           44222,
           268445,
           239530,
           234828,
           172044,
           103926,
           65009,
           63472,
           56890,
           53341,
           382472,
           343816,
           202541,
           184999,
           159665,
           135408,
           97120,
           71250,
           55761,
           52667,
           367587,
           340826,
           231570,
           187609,
           181110,
           160164,
           90240,
           80268,
           71410,
           63455,
           500077,
           407015,
           314758,
           197439,
           168899,
           142691,
           98375,
           71585,
           71551,
           66051,
           51887,
           47415,
           579499,
           507544,
           407300,
           277122,
           182239,
           162365,
           119722,
           77761,
           74475,
           64420,
           59921,
           59699,
           766350,
           750649,
           541470,
           491253,
           191134,
           138862,
           132316,
           119119,
           101016,
           98445,
           96987,
           94126,
           58378,
           946521,
           863178,
           512005,
           472062,
           186330,
           134852,
           132025,
           124875,
           120857,
           116097,
           113923,
           77200,
           66781,
           59748.4,
           1359028,
           919284,
           583675,
           509673,
           170384,
           167045,
           144945,
           142428,
           117971,
           111484,
           100679,
           77925,
           73685,
           70283,
           67040,
           54977,
           52285,
           1966559,
           1538884,
           870476,
           773802,
           250988,
           227655,
           218625,
           213589,
           190861,
           164227,
           158878,
           149648,
           129533,
           119375,
           116427,
           113868,
           112695,
           109210,
           96911,
           92384,
           79387,
           77511,
           2054367,
           1581723,
           499861,
           414283,
           203340,
           196861,
           193097,
           172788,
           169716,
           125368,
           124330,
           124016,
           111426,
           94280,
           87213
          ],
          "sizemode": "area",
          "sizeref": 6600.79,
          "symbol": "circle"
         },
         "mode": "markers",
         "name": "IT Software & Services",
         "showlegend": true,
         "type": "scattergl",
         "x": [
          57900,
          98790,
          16590,
          20080,
          14960,
          61980,
          103630,
          21800,
          23530,
          16110,
          25680,
          58690,
          23650,
          95760,
          23230,
          15290,
          1050,
          66690,
          99871,
          29321,
          31993,
          16685,
          2981,
          6699,
          1170,
          72052,
          106916,
          37905,
          36705,
          18435,
          4527,
          2249,
          8379,
          3767,
          28464,
          50175,
          104507,
          72930,
          37149,
          20859,
          6957,
          5089,
          9613,
          30090,
          59730,
          83263,
          99751,
          37901,
          7872,
          9836,
          22324,
          13085,
          5208,
          30600,
          65977,
          93268,
          12466,
          38841,
          12810,
          93357,
          23294,
          15072,
          7949,
          32782,
          77231,
          86596,
          17927,
          16349,
          37159,
          80836,
          23208,
          16595,
          33503,
          10545,
          6667,
          5035,
          89920,
          85270,
          27638,
          22831,
          37429,
          79918,
          24406,
          35702,
          17379,
          6097,
          10591,
          8392,
          117884,
          103313,
          44587,
          35269,
          39471,
          27389,
          80057,
          7683,
          39120,
          19096,
          10480,
          13413,
          7921,
          118224,
          136958,
          55838,
          47228,
          39620,
          29149,
          9496,
          78701,
          13282,
          20940,
          42541,
          8973,
          6431,
          15435,
          138604,
          166310,
          73357,
          54554,
          11623,
          39764,
          17098,
          31089,
          44656,
          76537,
          22135,
          14083,
          1578,
          7127,
          3718,
          10234,
          14147,
          153284,
          182350,
          85966,
          69990,
          13697,
          39692,
          16723,
          21252,
          45677,
          31656,
          22116,
          2929,
          8516,
          73621,
          9498,
          7717,
          12084,
          4519,
          2651,
          2507,
          3973,
          13534,
          184903,
          257488,
          117929,
          86855,
          41828,
          56695,
          16132,
          25735,
          26492,
          11414,
          67254,
          33183,
          27788,
          5895,
          16326
         ],
         "xaxis": "x",
         "y": [
          16960,
          10420,
          4200,
          4780,
          2810,
          17230,
          12340,
          4230,
          5750,
          2630,
          1790,
          16260.000000000002,
          6520,
          13430,
          5800,
          2560,
          410,
          20568,
          14833,
          8505,
          6775,
          2431.1,
          1221.9,
          1561.8,
          520.9,
          23468,
          15855,
          9737,
          9357,
          4456,
          1621.1,
          1029.7,
          2035.8,
          723.9,
          2385.1,
          10737,
          16604,
          15459,
          10570,
          3634,
          2018,
          53,
          2047.3,
          3068,
          12163,
          22822,
          16483,
          11115,
          1490,
          2521.1,
          4417,
          2971.2,
          1714.4,
          2904.4,
          13704,
          20675,
          2925,
          10827,
          3865.7,
          12022,
          4344.1,
          3522.6,
          2136.3,
          3041,
          17040,
          10179,
          3670,
          4584.4,
          8844,
          12883,
          3561.6,
          3706.3,
          3676.7,
          5282.2,
          -47.4,
          799,
          19478,
          16768,
          9487,
          6185,
          8917,
          11872,
          4016.6,
          3809.7,
          3883.5,
          1312.9,
          1738.1,
          179.6,
          16637,
          14211,
          17847,
          10605.5,
          3650,
          4912.8,
          5682,
          1878.6,
          3589,
          4006.1,
          127.5,
          3517,
          569,
          33541,
          30736,
          22112,
          11949,
          10751,
          4823,
          2682,
          8637,
          1110,
          4500,
          4472,
          2422,
          1472,
          4160,
          46266,
          34522,
          20958,
          13540.7,
          3232.2,
          10759,
          126,
          4738.5,
          4971.7,
          9015,
          4561,
          313,
          -124.8,
          1631,
          676.5,
          6373,
          -8506,
          51310,
          40269,
          29145,
          23326.7,
          5566,
          12830,
          659.6,
          4072,
          5457.3,
          6291.3,
          4368.6,
          319.5,
          -16898.2,
          5589,
          213.1,
          1747,
          -6768,
          118.5,
          671.6,
          -944.8,
          -0.7,
          2606.7,
          71185,
          76033,
          39370,
          34942.8,
          7562,
          6391.6,
          4827,
          5143.9,
          1444,
          2172,
          5520,
          5638.6,
          -3649,
          230,
          2967.5
         ],
         "yaxis": "y"
        },
        {
         "hovertemplate": "<b>%{hovertext}</b><br><br>Industry=Diversified Financials<br>Sales=%{x}<br>Profits=%{y}<br>Market_Value=%{marker.size}<extra></extra>",
         "hovertext": [
          "Berkshire Hathaway",
          "UBS",
          "Goldman Sachs Group",
          "Deutsche Bank",
          "Credit Suisse Group",
          "Fortis",
          "American Express",
          "Merrill Lynch",
          "Morgan Stanley",
          "Sun Hung Kai Properties",
          "Berkshire Hathaway",
          "Visa",
          "Goldman Sachs Group",
          "Credit Suisse Group",
          "UBS",
          "Morgan Stanley",
          "Citic Securities",
          "MasterCard",
          "Berkshire Hathaway",
          "Goldman Sachs Group",
          "Visa",
          "Credit Suisse Group",
          "UBS",
          "American Express",
          "BlackRock",
          "Morgan Stanley",
          "Sun Hung Kai Properties",
          "Berkshire Hathaway",
          "Goldman Sachs Group",
          "UBS",
          "Visa",
          "American Express",
          "Credit Suisse Group",
          "Morgan Stanley",
          "Berkshire Hathaway",
          "Visa",
          "American Express",
          "Goldman Sachs Group",
          "UBS",
          "MasterCard",
          "Berkshire Hathaway",
          "Visa",
          "Goldman Sachs Group",
          "American Express",
          "MasterCard",
          "UBS",
          "Morgan Stanley",
          "BlackRock",
          "Berkshire Hathaway",
          "Visa",
          "American Express",
          "MasterCard",
          "UBS",
          "Goldman Sachs Group",
          "Morgan Stanley",
          "BlackRock",
          "Credit Suisse Group",
          "Berkshire Hathaway",
          "Visa",
          "MasterCard",
          "Goldman Sachs Group",
          "American Express",
          "Morgan Stanley",
          "BlackRock",
          "Citic Securities",
          "Berkshire Hathaway",
          "Visa",
          "MasterCard",
          "Goldman Sachs Group",
          "American Express",
          "BlackRock",
          "Morgan Stanley",
          "PayPal",
          "Berkshire Hathaway",
          "Visa",
          "Mastercard",
          "Goldman Sachs Group",
          "Morgan Stanley",
          "American Express",
          "BlackRock",
          "Charles Schwab",
          "PayPal",
          "Berkshire Hathaway",
          "Visa",
          "Mastercard",
          "Morgan Stanley",
          "PayPal",
          "Goldman Sachs Group",
          "American Express",
          "BlackRock",
          "Charles Schwab",
          "Time Warner",
          "Berkshire Hathaway",
          "JPMorgan Chase",
          "Citigroup",
          "American Express",
          "American Tower",
          "Morgan Stanley",
          "Goldman Sachs Group",
          "BlackRock",
          "CME Group",
          "Charles Schwab",
          "Simon Property Group",
          "Berkshire Hathaway",
          "JPMorgan Chase",
          "American Tower",
          "Citigroup",
          "BlackRock",
          "American Express",
          "Crown Castle International",
          "Prologis",
          "CME Group",
          "Goldman Sachs Group",
          "Morgan Stanley",
          "Equinix",
          "Brookfield Asset Management",
          "Berkshire Hathaway",
          "JPMorgan Chase",
          "Citigroup",
          "Morgan Stanley",
          "BlackRock",
          "American Express",
          "Charles Schwab",
          "Goldman Sachs Group",
          "American Tower",
          "Prologis",
          "Crown Castle International",
          "Berkshire Hathaway",
          "JPMorgan Chase",
          "Morgan Stanley",
          "American Express",
          "Blackstone",
          "Charles Schwab",
          "Prologis",
          "American Tower",
          "Goldman Sachs Group",
          "Citigroup",
          "BlackRock",
          "Crown Castle International",
          "Brookfield Asset Management",
          "CME Group",
          "Public Storage"
         ],
         "legendgroup": "Diversified Financials",
         "marker": {
          "color": "#19d3f3",
          "size": [
           216650,
           68260,
           67160,
           56270,
           50850,
           49040,
           48980,
           48020,
           46530,
           45820,
           122110,
           47980,
           42060,
           28890,
           27250,
           21000,
           20720,
           20440,
           190860,
           84950,
           73120,
           53930,
           48580,
           45630,
           41140,
           39410,
           36200,
           210975,
           89961,
           70821,
           60396,
           53243,
           50657,
           43803,
           202160,
           94896,
           65964,
           63469,
           54159,
           53156,
           252805,
           104827,
           74456,
           73006,
           63763,
           61874,
           46568,
           44237,
           309102,
           135971,
           96874,
           88765,
           81002,
           75121,
           61661,
           53082,
           52264,
           354813,
           160105,
           100867,
           86474,
           80876,
           70803,
           61484,
           59422,
           360145,
           189782,
           108216,
           72964,
           63184,
           60366,
           53683,
           48853,
           409908,
           206396,
           121331,
           90648,
           78286,
           70092,
           62632,
           53338,
           51673,
           491888,
           295124,
           201894,
           97718,
           94041,
           91755,
           87258,
           86561,
           80222,
           73389,
           516407,
           368502,
           161112,
           95340,
           85260,
           80169,
           75520,
           72333,
           63108,
           60774,
           55019,
           455444,
           291737,
           105507,
           101102,
           77859,
           73454,
           66442,
           65949,
           63885,
           63403,
           62142,
           58018,
           51279,
           624408,
           464822,
           151181,
           123918,
           123855,
           120505,
           116914,
           116459,
           110578,
           84233,
           77629,
           741476,
           374446,
           150947,
           136721,
           132169,
           127604,
           126341,
           119489,
           109316,
           101481,
           100795,
           84068,
           80937,
           80122,
           70557
          ],
          "sizemode": "area",
          "sizeref": 6600.79,
          "symbol": "circle"
         },
         "mode": "markers",
         "name": "Diversified Financials",
         "showlegend": true,
         "type": "scattergl",
         "x": [
          118250,
          116980,
          87970,
          95500,
          83720,
          121190,
          31560,
          62680,
          85330,
          3960,
          107790,
          6510,
          53580,
          45640,
          61230,
          62260,
          3950,
          4990,
          112490,
          51670,
          7130,
          50260,
          43220,
          26730,
          4700,
          30070,
          4420,
          136185,
          45967,
          49772,
          8343,
          30242,
          53892,
          38036,
          143688,
          9497,
          32282,
          36793,
          43718,
          6714,
          162463,
          10720,
          41664,
          33808,
          7391,
          47700,
          32036,
          9337,
          178785,
          12087,
          34931,
          8342,
          39726,
          39489,
          40837,
          10442,
          39482,
          194673,
          12929,
          9473,
          40085,
          36014,
          38983,
          11246,
          5655,
          210821,
          14280,
          9667,
          32792,
          34594,
          11299,
          32130,
          9145,
          222935,
          15978,
          10776,
          36854,
          37913,
          34001,
          11210,
          7644,
          10795,
          235165,
          19355,
          13343,
          45587,
          13807,
          43690,
          37648,
          13375,
          9380,
          31532,
          247837,
          132912,
          99974,
          43282,
          7440,
          50870,
          51009,
          14089,
          4321,
          11473,
          5655,
          254616,
          142927,
          7760,
          104423,
          15063,
          46787,
          5842,
          3537,
          5211,
          53901,
          53000,
          5521,
          69109,
          245510,
          136187,
          84370,
          56690,
          18086,
          38185,
          13824,
          61843,
          8042,
          4439,
          5840,
          276094,
          124542,
          60216,
          46293,
          15470,
          18985,
          4830,
          9357,
          62808,
          79939,
          20296,
          6597,
          78819,
          4690,
          3416
         ],
         "xaxis": "x",
         "y": [
          13210,
          -3650,
          11600,
          7450,
          7530,
          5460,
          4010,
          -7780,
          2560,
          2710,
          4990,
          950,
          2320,
          -7700,
          -18520,
          1710,
          1700,
          -250,
          8060.000000000001,
          13390,
          2540,
          6110,
          -2640,
          2130,
          880,
          1350,
          1340,
          12967,
          8354,
          7667,
          3087,
          4057,
          5173.4,
          4684,
          10254,
          3795,
          4935,
          4442,
          4511.7,
          1906,
          14824,
          2408,
          7475,
          4482,
          2759,
          -2741.3,
          68,
          2458,
          19476,
          5094,
          5312,
          3116,
          3421.5,
          8040,
          2775,
          2932,
          2827.2,
          19872,
          5600,
          3617,
          8477,
          5839,
          3463,
          3294,
          1839.9,
          24083,
          6846,
          3808,
          4374,
          5026,
          3180,
          4865,
          1326,
          24074,
          5990,
          4059,
          7398,
          5975,
          5365,
          3172,
          1889,
          1401,
          39742,
          9002,
          4326,
          6892,
          1922,
          4863,
          3096,
          5197,
          2573,
          5453,
          4021,
          32738,
          17928,
          6867,
          1236,
          8509,
          9878,
          4269,
          1962,
          3688,
          2151,
          81417,
          29954,
          1905.4,
          17091,
          4229,
          5538,
          911,
          1715.5,
          2385.8,
          7428,
          8311,
          507.5,
          2802.6,
          42521,
          40371,
          17068,
          13418,
          5325,
          3114,
          3988,
          15082,
          1690.6,
          1481.8,
          1056,
          89795,
          42115,
          14580,
          7858,
          5326.4,
          5773,
          3723.2,
          2567.7,
          18738,
          18229,
          6138,
          1459,
          3971.6,
          2624.5,
          1884.7
         ],
         "yaxis": "y"
        },
        {
         "hovertemplate": "<b>%{hovertext}</b><br><br>Industry=Technology Hardware & Equipment<br>Sales=%{x}<br>Profits=%{y}<br>Market_Value=%{marker.size}<extra></extra>",
         "hovertext": [
          "BP",
          "Nokia",
          "Cisco Systems",
          "Hewlett-Packard",
          "Apple",
          "Qualcomm",
          "Nintendo",
          "Canon",
          "Research In Motion",
          "Sony",
          "Matsushita Electric Indl",
          "Dell",
          "Cisco Systems",
          "Apple",
          "Hewlett-Packard",
          "Qualcomm",
          "Nintendo",
          "Nokia",
          "Canon",
          "Panasonic",
          "Ericsson",
          "Research In Motion",
          "EMC",
          "Apple",
          "Cisco Systems",
          "Hewlett-Packard",
          "Qualcomm",
          "Nokia",
          "Nintendo",
          "Research In Motion",
          "EMC",
          "Hon Hai Precision Ind",
          "Panasonic",
          "Sony",
          "Apple",
          "Cisco Systems",
          "Hewlett-Packard",
          "Qualcomm",
          "EMC",
          "Ericsson",
          "Apple",
          "Qualcomm",
          "Cisco Systems",
          "EMC",
          "Hewlett-Packard",
          "Apple",
          "Cisco Systems",
          "EMC",
          "Ericsson",
          "Hewlett-Packard",
          "Apple",
          "Cisco Systems",
          "Hewlett-Packard",
          "EMC",
          "Apple",
          "Cisco Systems",
          "Hewlett-Packard",
          "EMC",
          "Apple",
          "Cisco Systems",
          "EMC",
          "Apple",
          "Cisco Systems",
          "Apple",
          "Cisco Systems",
          "Apple",
          "Samsung Electronics",
          "Cisco Systems",
          "Keyence",
          "Apple",
          "Samsung Electronics",
          "Cisco Systems",
          "Keyence",
          "Apple",
          "Samsung Electronics",
          "Cisco Systems",
          "Keyence",
          "Xiaomi  ",
          "Hikvision",
          "Dell Technologies",
          "Apple",
          "Samsung Group",
          "Cisco Systems",
          "Keyence"
         ],
         "legendgroup": "Technology Hardware & Equipment",
         "marker": {
          "color": "#FF6692",
          "size": [
           204940,
           145660,
           145390,
           122040,
           109880,
           68340,
           65600,
           61750,
           58730,
           48030,
           45310,
           44600,
           85050,
           79540,
           69570,
           55140,
           41250,
           35320,
           32049.999999999996,
           28930,
           26550,
           22680,
           21120,
           189510,
           140850,
           121330,
           59760,
           49180,
           39340,
           39090,
           36440,
           34970,
           34540,
           34330,
           324281,
           99228,
           90301,
           88121,
           55004,
           39988,
           545968,
           110636,
           107880,
           59314,
           48425,
           416622,
           116904,
           53347,
           44078,
           43118,
           483146,
           118995,
           62975,
           56341,
           741782,
           138951,
           57853,
           51969,
           585951,
           141654,
           51891,
           752039,
           165059,
           926946,
           221269,
           961257,
           272424,
           248275,
           78654,
           1285516,
           278742,
           179728,
           87930,
           2252292,
           510507,
           222910,
           115452,
           84502,
           81690,
           77350,
           2640316,
           367260,
           213358,
           100888
          ],
          "sizemode": "area",
          "sizeref": 6600.79,
          "symbol": "circle"
         },
         "mode": "markers",
         "name": "Technology Hardware & Equipment",
         "showlegend": true,
         "type": "scattergl",
         "x": [
          281030,
          74540,
          37680,
          107670,
          26500,
          9290,
          8230,
          40060,
          2950,
          70600,
          77510,
          61130,
          39580,
          33040,
          118700,
          11220,
          16760,
          70630,
          45120,
          90870,
          26630,
          9480,
          14880,
          46710,
          35530,
          116920,
          10570,
          58720,
          18880,
          14340,
          14030,
          59290,
          79750,
          79390,
          76283,
          42361,
          127158,
          11669,
          17015,
          30283,
          127841,
          16290,
          44844,
          20008,
          124979,
          164687,
          47252,
          21714,
          35044,
          118680,
          173755,
          47873,
          112051,
          23210,
          199378,
          48083,
          109763,
          24400,
          233273,
          49589,
          24639,
          217481,
          48570,
          247535,
          48096,
          261705,
          221506,
          50822,
          5304,
          267712,
          197568,
          51556,
          5076,
          293971,
          200703,
          48022,
          4845,
          35734,
          9148,
          94329,
          378697,
          244162,
          51549,
          6432
         ],
         "xaxis": "x",
         "y": [
          20600,
          10520,
          8070,
          7850,
          4070.0000000000005,
          3420,
          1480,
          4370,
          610,
          1080,
          1850,
          2950,
          7490,
          4860,
          8050.000000000001,
          2730,
          2580,
          5550,
          3410,
          2820,
          1440,
          1790,
          1360,
          9360,
          6070,
          8130.000000000001,
          2090,
          1280,
          2870,
          2270,
          1090,
          1680,
          -3890,
          -1020,
          16639,
          7578,
          9116,
          3576,
          1900,
          1659.9,
          32982,
          4491,
          6998,
          2461.3,
          5937,
          41747,
          9317,
          2732.6,
          888,
          -12886,
          37031,
          8173,
          5306,
          2889.1,
          44462,
          8653,
          4954,
          2715,
          53731,
          10333,
          2006,
          45217,
          9832,
          53318,
          -1445,
          59431,
          39882,
          12865,
          2064,
          57215,
          18440.5,
          11054,
          1822.2,
          63930,
          22113,
          10129,
          1711,
          2976.2,
          1921.7,
          3250,
          100555,
          34269.3,
          11825,
          2578.7
         ],
         "yaxis": "y"
        },
        {
         "hovertemplate": "<b>%{hovertext}</b><br><br>Industry=Consumer Durables<br>Sales=%{x}<br>Profits=%{y}<br>Market_Value=%{marker.size}<extra></extra>",
         "hovertext": [
          "Procter & Gamble",
          "Toyota Motor",
          "Volkswagen Group",
          "Daimler",
          "L'Oréal Group",
          "Honda Motor",
          "Procter & Gamble",
          "Toyota Motor",
          "Volkswagen Group",
          "Honda Motor",
          "L'Oréal Group",
          "Colgate-Palmolive",
          "Reckitt Benckiser Group",
          "Inditex",
          "Daimler",
          "Procter & Gamble",
          "Toyota Motor",
          "Honda Motor",
          "L'Oréal Group",
          "Daimler",
          "Ford Motor",
          "Colgate-Palmolive",
          "Reckitt Benckiser Group",
          "Nissan Motor",
          "Procter & Gamble",
          "Toyota Motor",
          "Honda Motor",
          "Daimler",
          "Volkswagen Group",
          "L'Oréal Group",
          "Ford Motor",
          "H&M",
          "BMW Group",
          "General Motors",
          "Inditex",
          "NIKE",
          "Nissan Motor",
          "Nintendo",
          "Procter & Gamble",
          "Toyota Motor",
          "Volkswagen Group",
          "L'Oréal Group",
          "Honda Motor",
          "Daimler",
          "H&M",
          "BMW Group",
          "Inditex",
          "NIKE",
          "Nissan Motor",
          "Ford Motor",
          "Colgate-Palmolive",
          "Hyundai Motor",
          "Reckitt Benckiser Group",
          "General Motors",
          "Procter & Gamble",
          "Toyota Motor",
          "L'Oréal Group",
          "Volkswagen Group",
          "Inditex",
          "Honda Motor",
          "Daimler",
          "BMW Group",
          "H&M",
          "Colgate-Palmolive",
          "Ford Motor",
          "Reckitt Benckiser Group",
          "NIKE",
          "Nissan Motor",
          "Procter & Gamble",
          "Toyota Motor",
          "Volkswagen Group",
          "Daimler",
          "L'Oréal Group",
          "Inditex",
          "BMW Group",
          "H&M",
          "NIKE",
          "Ford Motor",
          "Honda Motor",
          "Colgate-Palmolive",
          "Reckitt Benckiser Group",
          "General Motors",
          "Hyundai Motor",
          "Toyota Motor",
          "Procter & Gamble",
          "Unilever",
          "Volkswagen Group",
          "L'Oréal Group",
          "Inditex",
          "Daimler",
          "NIKE",
          "BMW Group",
          "H&M",
          "Ford Motor",
          "Colgate-Palmolive",
          "Reckitt Benckiser Group",
          "Honda Motor",
          "General Motors",
          "Procter & Gamble",
          "Toyota Motor",
          "Unilever",
          "Inditex",
          "L'Oréal Group",
          "Nike",
          "Daimler",
          "Volkswagen Group",
          "Reckitt Benckiser Group",
          "Colgate-Palmolive",
          "H&M",
          "BMW Group",
          "Ford Motor",
          "Honda Motor",
          "TJX Cos",
          "General Motors",
          "Henkel",
          "Procter & Gamble",
          "Toyota Motor",
          "Unilever",
          "Inditex",
          "L'Oréal Group",
          "Nike",
          "Daimler",
          "Volkswagen Group",
          "Colgate-Palmolive",
          "Reckitt Benckiser Group",
          "BMW Group",
          "Hon Hai Precision",
          "Henkel",
          "Honda Motor",
          "General Motors",
          "Hermès International",
          "Toyota Motor",
          "Procter & Gamble",
          "Unilever",
          "L'Oréal Group",
          "Nike",
          "Volkswagen Group",
          "Inditex",
          "Daimler",
          "Christian Dior",
          "Keyence",
          "Kering",
          "Hermès International",
          "BMW Group",
          "SAIC Motor",
          "Sony",
          "Honda Motor",
          "Hikvision",
          "Procter & Gamble",
          "Nike",
          "Toyota Motor",
          "Unilever",
          "L'Oréal",
          "Volkswagen Group",
          "Christian Dior",
          "Kering",
          "Hermès International",
          "Daimler",
          "The Estée Lauder Companies",
          "Sony",
          "Colgate-Palmolive",
          "BMW Group",
          "General Motors",
          "Procter & Gamble",
          "LVMH Moët Hennessy Louis Vuitton",
          "Toyota Motor",
          "L'Oréal",
          "Tesla",
          "Nike",
          "Unilever",
          "Sony",
          "Hermès International",
          "Volkswagen Group",
          "The Estée Lauder Companies",
          "Kering",
          "Colgate-Palmolive",
          "Reckitt Benckiser Group",
          "Midea Group",
          "Tesla",
          "LVMH Moët Hennessy Louis Vuitton",
          "Procter & Gamble",
          "L'Oréal",
          "Toyota Motor",
          "Nike",
          "Unilever",
          "Volkswagen Group",
          "Sony",
          "Hermès International",
          "The Estée Lauder Companies",
          "Daimler",
          "Kering",
          "Midea Group",
          "General Motors",
          "tesla",
          "Procter & Gamble",
          "LVMH Moët Hennessy Louis Vuitton",
          "Toyota Motor",
          "Nike",
          "L'Oréal",
          "Hermès International",
          "Unilever",
          "Sony",
          "The Estée Lauder Companies",
          "BYD",
          "Volkswagen Group",
          "Mercedes-Benz Group",
          "Kering"
         ],
         "legendgroup": "Consumer Durables",
         "marker": {
          "color": "#B6E880",
          "size": [
           203670,
           175080,
           90230,
           85160,
           72990,
           56820,
           141180,
           102350,
           75180,
           44320,
           39010,
           30170,
           27260,
           23690,
           21210,
           184470,
           127100,
           63220,
           63050,
           45070,
           41800,
           41370,
           37640,
           35650,
           172220,
           137786,
           73248,
           70504,
           70348,
           67904,
           54320,
           53372,
           51009,
           49834,
           45436,
           41710,
           40813,
           39824,
           185233,
           147937,
           79536,
           70842,
           70825,
           66334,
           61646,
           61244,
           58536,
           51040,
           48057,
           47547,
           45459,
           43629,
           41154,
           40037,
           208534,
           167168,
           94758,
           94382,
           83314,
           72395,
           64091,
           59959,
           59751,
           52419,
           51801,
           51169,
           49363,
           43411,
           217835,
           193542,
           119049,
           102930,
           98666,
           94326,
           83366,
           70864,
           65871,
           64505,
           62974,
           59015,
           58740,
           54593,
           49716,
           239045,
           224250,
           129098,
           126017,
           106559,
           103444,
           103272,
           86161,
           81445,
           67819,
           63598,
           63433,
           62399,
           61359,
           59036,
           218935,
           176960,
           137213,
           103230,
           102872,
           100108,
           75406,
           73073,
           68015,
           61609,
           60841,
           60382,
           54196,
           51090,
           50708,
           49552,
           46481,
           228115,
           171850,
           143891,
           112114,
           107454,
           91165,
           76099,
           72941,
           64944,
           64132,
           57732,
           54375,
           52032,
           51382,
           50792,
           50280,
           200682,
           184496,
           155786,
           134220,
           110288,
           101428,
           99483,
           85678,
           76442,
           75836,
           74464,
           72650,
           72348,
           63835,
           59896,
           58905,
           58238,
           265293,
           224313,
           176602,
           153638,
           153010,
           91951,
           89566,
           72468,
           71501,
           71342,
           61517,
           60146,
           59628,
           57486,
           56802,
           291804,
           194273,
           173300,
           162517,
           144170,
           135567,
           130583,
           78728,
           76222,
           70402,
           63423,
           63016,
           60253,
           59369,
           52890,
           710081,
           380294,
           337975,
           225724,
           219175,
           212204,
           151051,
           147159,
           137257,
           128626,
           113286,
           99184,
           95029,
           85514,
           84596,
           1038729,
           386528,
           346800,
           237726,
           203125,
           195521,
           138975,
           116162,
           108836,
           94702,
           84463,
           82398,
           74621,
           70749
          ],
          "sizemode": "area",
          "sizeref": 6600.79,
          "symbol": "circle"
         },
         "mode": "markers",
         "name": "Consumer Durables",
         "showlegend": true,
         "type": "scattergl",
         "x": [
          79740,
          203800,
          149000,
          145110,
          20830,
          94350,
          83680,
          263420,
          158400,
          120270,
          24430,
          15330,
          9580,
          14000,
          133430,
          76780,
          210840,
          102820,
          24360,
          110060,
          118310,
          15330,
          12530,
          86650,
          79573,
          202775,
          91797,
          130872,
          168314,
          26099,
          128954,
          15438,
          80230,
          135592,
          17174,
          20173,
          80435,
          15348,
          85142,
          228494,
          221862,
          26351,
          107511,
          138006,
          16258,
          95827,
          18056,
          22657,
          105540,
          136264,
          16734,
          70291,
          14728,
          150276,
          83320,
          224491,
          28884,
          254022,
          20560,
          96013,
          150787,
          98817,
          18133,
          17085,
          134252,
          15556,
          25281,
          113661,
          84738,
          255641,
          261549,
          156635,
          30504,
          22248,
          100976,
          20280,
          27041,
          146917,
          117698,
          17420,
          15160,
          155427,
          79750,
          252185,
          81669,
          64248,
          268549,
          29887,
          23702,
          172268,
          30322,
          106648,
          22330,
          144077,
          17277,
          14549,
          117055,
          155929,
          69374,
          235832,
          59074,
          23052,
          28008,
          32007,
          165747,
          246232,
          13558,
          16034,
          21725,
          102215,
          149558,
          118094,
          30945,
          152356,
          20059,
          65231,
          249902,
          58311,
          25741,
          28581,
          33821,
          169537,
          240340,
          15195,
          13346,
          104163,
          135151,
          20701,
          127865,
          166380,
          5755,
          265165,
          66408,
          60587,
          29353,
          35261,
          271951,
          28907,
          193217,
          49252,
          4754,
          17458,
          6259,
          114435,
          136567,
          77089,
          138598,
          6617,
          66912,
          38703,
          272144,
          60146,
          31779,
          278243,
          55243,
          16122,
          7039,
          197445,
          14194,
          76865,
          15544,
          115002,
          147049,
          70346,
          60070,
          280529,
          33436,
          26022,
          41300,
          58179,
          79246,
          7704,
          275168,
          15813,
          17778,
          15693,
          16388,
          39913,
          31536,
          50901,
          73975,
          31910,
          249370,
          38456,
          57833,
          254081,
          79871,
          7284,
          14178,
          175908,
          14934,
          39071,
          122485,
          53823,
          79618,
          75901,
          281746,
          46894,
          38163,
          10617,
          62000,
          89903,
          17771,
          32783,
          295733,
          178935,
          20856
         ],
         "xaxis": "x",
         "y": [
          11130,
          13990,
          5640,
          5820,
          2720,
          5040,
          14080,
          17210,
          6520,
          6010,
          2710,
          1960,
          1640,
          1860,
          1880,
          13050,
          -4490,
          1410,
          2500,
          -3690,
          2720,
          2290,
          2290,
          -2400,
          11184,
          2241.2,
          2871.9,
          6021.4,
          9067.4,
          2998.3,
          6561,
          2658.5,
          4290.3,
          6172,
          2374.6,
          2060.9,
          453.6,
          2446.4,
          10097,
          4910.4,
          21455.6,
          3158.6,
          6425.1,
          7340.7,
          2338.3,
          6796.3,
          2529.1,
          2231,
          3840.2,
          20213,
          2431,
          6917.1,
          2709.6,
          9190,
          12913,
          3425.4,
          3688,
          28631.5,
          3044,
          2554.7,
          8040.9,
          6586,
          2532,
          2472,
          5665,
          2974,
          2366,
          4125,
          10896,
          18848.5,
          12036.2,
          9083.6,
          3927.4,
          3162,
          7055,
          2658.2,
          2670,
          7155,
          4910.2,
          2241,
          2718.2,
          5346,
          7802.5,
          19120.4,
          9532,
          6859,
          14388,
          6513.1,
          3270.8,
          9234.7,
          3099,
          7690.7,
          2930.6,
          3187,
          2180,
          5306.9,
          5625.3,
          3949,
          8446,
          19267,
          5444,
          3170.6,
          3656.6,
          3779,
          9341.5,
          7060,
          2663,
          1384,
          2337.8,
          7062.7,
          7373,
          4425.8,
          2277.7,
          9687,
          2130.2,
          9533,
          17111.5,
          5734.5,
          3486.1,
          3435.6,
          4078,
          9431.4,
          5690.3,
          2441,
          2471.9,
          7591.8,
          4610,
          2271,
          3931.3,
          9427,
          1217.1,
          22502.2,
          10074,
          6827.4,
          4294.9,
          1804,
          13123.5,
          3842.3,
          11793.6,
          2526.6,
          1900.1,
          2014,
          1377.8,
          10239.4,
          5410.2,
          4428.3,
          9558,
          1470.6,
          10795,
          4177,
          17241,
          11077,
          4596,
          13955,
          3037,
          2991,
          1657,
          8552,
          1631,
          7348,
          2400,
          8396,
          8084,
          4986,
          8026.1,
          22681.9,
          4197.2,
          -144.3,
          4318,
          6295.8,
          6030.7,
          1710.4,
          12044.4,
          1864,
          2383.6,
          2367,
          -4698.5,
          3438.2,
          690,
          5360.2,
          13848,
          4062.2,
          14341.7,
          3428,
          6346.1,
          9500.5,
          10091.2,
          1588.7,
          928,
          4134.7,
          2451.4,
          3555.4,
          6427,
          5519,
          14596,
          14226.3,
          28154.4,
          6116,
          5433.7,
          2891.1,
          7154.5,
          7991.9,
          3254,
          469.6,
          17544.1,
          27192.7,
          3753.6
         ],
         "yaxis": "y"
        },
        {
         "hovertemplate": "<b>%{hovertext}</b><br><br>Industry=Retailing<br>Sales=%{x}<br>Profits=%{y}<br>Market_Value=%{marker.size}<extra></extra>",
         "hovertext": [
          "Wal-Mart Stores",
          "CVS Caremark",
          "H&M Hennes & Mauritz",
          "Home Depot",
          "Target",
          "Wal-Mart Stores",
          "CVS Caremark",
          "Home Depot",
          "H&M Hennes & Mauritz",
          "Amazon",
          "Walgreen",
          "Lowe's Cos",
          "Target",
          "Wal-Mart Stores",
          "Amazon",
          "Home Depot",
          "H&M Hennes & Mauritz",
          "CVS Caremark",
          "Target",
          "Inditex",
          "Lowe's Cos",
          "Walgreen",
          "Wal-Mart Stores",
          "Amazon",
          "Home Depot",
          "CVS Caremark",
          "Ebay",
          "Wal-Mart Stores",
          "Amazon",
          "Home Depot",
          "CVS Caremark",
          "Ebay",
          "Costco Wholesale",
          "Wal-Mart Stores",
          "Amazon",
          "Home Depot",
          "CVS Caremark",
          "Ebay",
          "Richemont",
          "Costco Wholesale",
          "Target",
          "Lowe's Cos",
          "Wal-Mart Stores",
          "Amazon",
          "Home Depot",
          "CVS Caremark",
          "eBay",
          "Walgreen",
          "Richemont",
          "Lowe's Cos",
          "Wal-Mart Stores",
          "Amazon",
          "Home Depot",
          "CVS Health",
          "Walgreens Boots Alliance",
          "Lowe's Cos",
          "eBay",
          "Costco Wholesale",
          "Target",
          "Amazon",
          "Wal-Mart Stores",
          "Home Depot",
          "CVS Health",
          "Walgreens Boots Alliance",
          "Lowe's",
          "Costco Wholesale",
          "Target",
          "Amazon",
          "Wal-Mart Stores",
          "Home Depot",
          "Walgreens Boots Alliance",
          "CVS Health",
          "Costco Wholesale",
          "Lowe's",
          "Netflix",
          "Amazon",
          "Alibaba",
          "Walmart",
          "Home Depot",
          "Netflix",
          "Costco Wholesale",
          "Lowe's",
          "CVS Health",
          "Walgreens Boots Alliance",
          "Amazon",
          "Alibaba",
          "Walmart",
          "Home Depot",
          "Costco Wholesale",
          "Inditex",
          "Lowe's",
          "CVS Health",
          "TJX Cos",
          "Fast Retailing",
          "Amazon",
          "Alibaba Group",
          "Walmart",
          "Home Depot",
          "Costco Wholesale",
          "CVS Health",
          "Inditex",
          "Lowe's",
          "TJX Cos",
          "Target",
          "JD.com",
          "Amazon",
          "Alibaba Group",
          "Walmart",
          "Home Depot",
          "Costco Wholesale",
          "Lowe's",
          "JD.com",
          "Pinduoduo",
          "Inditex",
          "Target",
          "CVS Health",
          "Fast Retailing",
          "TJX Cos",
          "Coupang",
          "Amazon",
          "Walmart",
          "The Home Depot",
          "Costco Wholesale",
          "Alibaba Group",
          "CVS Health",
          "Lowe's",
          "Target",
          "TJX Cos"
         ],
         "legendgroup": "Retailing",
         "marker": {
          "color": "#FF97FF",
          "size": [
           198600,
           57820,
           46810,
           44810,
           43070,
           193150,
           37460,
           35420,
           31050,
           27770,
           23540,
           23280,
           21310,
           205370,
           55360,
           53440,
           50240,
           47850,
           38900,
           37230,
           34990,
           34890,
           187325,
           75800,
           60866,
           46518,
           40146,
           208359,
           84210,
           75614,
           58972,
           48504,
           39335,
           242530,
           119011,
           103299,
           65957,
           65357,
           48928,
           44242,
           43106,
           43079,
           247904,
           157523,
           109652,
           87843,
           71005,
           62824,
           54275,
           50913,
           261279,
           175091,
           149246,
           117421,
           95926,
           71435,
           68903,
           67096,
           53483,
           292622,
           215696,
           169777,
           110802,
           86571,
           68250,
           65820,
           49397,
           427011,
           221106,
           176728,
           88995,
           79839,
           74892,
           71133,
           61596,
           777775,
           499404,
           246178,
           219374,
           141910,
           85903,
           72213,
           65482,
           63556,
           916050,
           480797,
           296094,
           226790,
           108127,
           98025,
           90528,
           68335,
           68213,
           57709,
           1233351,
           545380,
           344436,
           236124,
           133799,
           80359,
           79314,
           79081,
           59481,
           54851,
           53581,
           1711839,
           657522,
           396108,
           352758,
           164056,
           149352,
           119365,
           116498,
           106050,
           103986,
           99594,
           84687,
           84406,
           78780,
           1468398,
           431644,
           310125,
           253391,
           237778,
           133525,
           130367,
           111757,
           73699
          ],
          "sizemode": "area",
          "sizeref": 6600.79,
          "symbol": "circle"
         },
         "mode": "markers",
         "name": "Retailing",
         "showlegend": true,
         "type": "scattergl",
         "x": [
          378800,
          76330,
          12310,
          77350,
          63370,
          405610,
          87470,
          71290,
          10910,
          19170,
          59950,
          48230,
          64950,
          408210,
          24510,
          66180,
          14540,
          98730,
          65360,
          13360,
          47220,
          64750,
          421849,
          34205,
          67997,
          96413,
          9156,
          446950,
          48077,
          70395,
          107100,
          11652,
          93396,
          469162,
          61093,
          74754,
          123133,
          14071,
          11871,
          103128,
          73301,
          50521,
          476526,
          74453,
          78812,
          126761,
          16048,
          74188,
          13600,
          53416,
          485651,
          88988,
          83176,
          139367,
          77617,
          56223,
          17938,
          115637,
          73939,
          107007,
          482130,
          88519,
          153290,
          116534,
          59073,
          117269,
          73785,
          135987,
          485252,
          94595,
          116081,
          177526,
          121194,
          65017,
          8831,
          193194,
          37870,
          500343,
          100904,
          12757,
          135964,
          68619,
          185944,
          124028,
          232887,
          51892,
          514405,
          108203,
          147237,
          30670,
          71310,
          194094,
          38973,
          20013,
          296274,
          70570,
          523964,
          110225,
          158350,
          256756,
          31582,
          72148,
          41717,
          78112,
          83416,
          386064,
          93828,
          559151,
          132110,
          178626,
          89597,
          108331,
          8717,
          23427,
          93561,
          268654,
          18905,
          32137,
          11967,
          469822,
          572754,
          151157,
          210219,
          129764,
          291982,
          96249,
          106005,
          48550
         ],
         "xaxis": "x",
         "y": [
          12730,
          2640,
          2130,
          4400,
          2850,
          13400,
          3210,
          2260,
          1880,
          650,
          2110,
          2200,
          2210,
          14340,
          900,
          2660,
          2350,
          3700,
          2490,
          1610,
          1780,
          2090,
          16389,
          1153,
          3338,
          3427,
          1801,
          15699,
          632,
          3883,
          3461,
          3229.4,
          1516,
          16999,
          -39,
          4535,
          3877,
          2610,
          2067.1,
          1958,
          2999,
          1958,
          16022,
          274,
          5385,
          4593,
          2856,
          2730,
          2776,
          2271,
          16363,
          -241,
          6345,
          4636,
          2046,
          2682,
          46,
          2264,
          -1636,
          596,
          14694,
          7009,
          5202,
          3368,
          2535,
          2309,
          3363,
          2371,
          13643,
          7957,
          4247,
          5291,
          2384,
          3061,
          186.7,
          3938,
          9617.4,
          9862,
          8630,
          670.8,
          2960,
          3436,
          6648,
          4134,
          10073,
          10273,
          6670,
          11121,
          3449,
          4040,
          2307,
          -598,
          3060,
          1491,
          10562,
          24697.7,
          14881,
          11242,
          3778,
          6629,
          4063.1,
          4267,
          3272.2,
          3281,
          1778.7,
          21331,
          23298,
          13510,
          12866,
          4344,
          5811,
          7233.5,
          -1038.2,
          1270,
          4368,
          7179,
          903.8,
          90.5,
          -475,
          33364,
          13673,
          16433,
          5513,
          10172.2,
          7910,
          8410,
          6946,
          3282.8
         ],
         "yaxis": "y"
        },
        {
         "hovertemplate": "<b>%{hovertext}</b><br><br>Industry=Materials<br>Sales=%{x}<br>Profits=%{y}<br>Market_Value=%{marker.size}<extra></extra>",
         "hovertext": [
          "BHP Billiton",
          "Rio Tinto",
          "Vale",
          "China Shenhua Energy",
          "ArcelorMittal",
          "Anglo American",
          "Xstrata",
          "MMC Norilsk Nickel",
          "Aluminum Corp of China",
          "Posco",
          "Barrick Gold",
          "Baoshan Iron & Steel",
          "BHP Billiton",
          "Vale",
          "China Shenhua Energy",
          "Rio Tinto",
          "ArcelorMittal",
          "Barrick Gold",
          "Goldcorp",
          "Newmont Mining",
          "BHP Billiton",
          "Vale",
          "Rio Tinto",
          "China Shenhua Energy",
          "ArcelorMittal",
          "Anglo American",
          "Xstrata",
          "Posco",
          "Barrick Gold",
          "NMDC",
          "BHP Group",
          "Rio Tinto",
          "Vale",
          "Glencore International",
          "China Shenhua Energy",
          "BHP Group",
          "Rio Tinto",
          "BHP Group",
          "Rio Tinto",
          "Vale",
          "BHP Group",
          "Rio Tinto",
          "Vale",
          "Glencore International"
         ],
         "legendgroup": "Materials",
         "marker": {
          "color": "#FECB52",
          "size": [
           190620,
           165480,
           161390,
           134730,
           108820,
           85050,
           77010,
           51450,
           51080,
           49210,
           45510,
           42160,
           96650,
           66140,
           52170,
           39420,
           26800,
           26450,
           21230,
           20370,
           192450,
           145140,
           118340,
           85420,
           59750,
           48190,
           46870,
           39840,
           37610,
           37120,
           138278,
           99964,
           68274,
           60455,
           57349,
           107099,
           75514,
           186136,
           135250,
           99168,
           178072,
           117778,
           82025,
           79902
          ],
          "sizemode": "area",
          "sizeref": 6600.79,
          "symbol": "circle"
         },
         "mode": "markers",
         "name": "Materials",
         "showlegend": true,
         "type": "scattergl",
         "x": [
          39500,
          29700,
          33230,
          8230,
          105220,
          25470,
          28210,
          11930,
          7930,
          27910,
          6780,
          20150,
          59470,
          30750,
          11240,
          54260,
          124940,
          7910,
          2420,
          6200,
          50210,
          27820,
          41830,
          15720,
          65110,
          21160,
          22730,
          33480,
          8140.000000000001,
          1470,
          42556,
          40533,
          36781,
          219782,
          38403,
          45810,
          43179,
          46061,
          44514,
          40427,
          65548,
          63458,
          54395,
          203408
         ],
         "xaxis": "x",
         "y": [
          13420,
          7310,
          10260,
          2240,
          10370,
          5290,
          5500,
          6190,
          1500,
          3580,
          1200,
          1670,
          15390,
          9280,
          2820,
          3680,
          9400,
          820,
          1480,
          850,
          5880,
          5880,
          4870,
          3910,
          120,
          2460,
          660,
          3510,
          -4270,
          850,
          6030,
          13782,
          7017,
          3343,
          6658,
          9425.6,
          8004.9,
          6930,
          9714.2,
          5178.7,
          16915.8,
          21056.6,
          22465.5,
          4996
         ],
         "yaxis": "y"
        },
        {
         "hovertemplate": "<b>%{hovertext}</b><br><br>Industry=Food, Drink & Tobacco<br>Sales=%{x}<br>Profits=%{y}<br>Market_Value=%{marker.size}<extra></extra>",
         "hovertext": [
          "Nestlé",
          "Altria Group",
          "Coca-Cola",
          "PepsiCo",
          "Unilever",
          "British Amer Tobacco",
          "InBev",
          "Diageo",
          "Japan Tobacco",
          "Kraft Foods",
          "Nestlé",
          "Coca-Cola",
          "PepsiCo",
          "Philip Morris International",
          "Unilever",
          "British Amer Tobacco",
          "Anheuser-Busch InBev",
          "Kraft Foods",
          "Altria Group",
          "Diageo",
          "Danone",
          "Imperial Tobacco Group",
          "Japan Tobacco",
          "SABMiller",
          "Nestlé",
          "Coca-Cola",
          "PepsiCo",
          "Philip Morris International",
          "Unilever",
          "Anheuser-Busch InBev",
          "British Amer Tobacco",
          "Kraft Foods",
          "SABMiller",
          "Altria Group",
          "Diageo",
          "Danone",
          "Japan Tobacco",
          "Nestlé",
          "Coca-Cola",
          "Philip Morris International",
          "PepsiCo",
          "Unilever",
          "Anheuser-Busch",
          "British Amer Tobacco",
          "Kraft Foods",
          "Altria Group",
          "SABMiller",
          "Diageo",
          "Japan Tobacco",
          "Nestlé",
          "Coca-Cola",
          "Philip Morris International",
          "Anheuser-Busch InBev",
          "Unilever",
          "PepsiCo",
          "British American Tobacco",
          "Kraft Foods",
          "SABMiller",
          "Altria Group",
          "Diageo",
          "Japan Tobacco",
          "Danone",
          "Imperial Tobacco Group",
          "Nestlé",
          "Coca-Cola",
          "Anheuser-Busch InBev",
          "Philip Morris International",
          "Unilever",
          "PepsiCo",
          "British American Tobacco",
          "SABMiller",
          "Diageo",
          "Altria Group",
          "Japan Tobacco",
          "Mondelēz International",
          "ITC",
          "Danone",
          "Nestle",
          "Anheuser-Busch InBev",
          "Coca-Cola",
          "Philip Morris International",
          "PepsiCo",
          "Unilever",
          "British American Tobacco",
          "SABMiller",
          "Diageo",
          "Altria Group",
          "Mondelēz International",
          "Japan Tobacco",
          "Nestle",
          "Anheuser-Busch InBev",
          "Coca-Cola",
          "PepsiCo",
          "Philip Morris International",
          "Altria Group",
          "British American Tobacco",
          "SABMiller",
          "Diageo",
          "Japan Tobacco",
          "Mondelēz International",
          "Kraft Foods",
          "Nestle",
          "Anheuser-Busch InBev",
          "Coca-Cola",
          "Philip Morris International",
          "PepsiCo",
          "Altria Group",
          "British American Tobacco",
          "SABMiller",
          "Kraft Heinz Company",
          "Japan Tobacco",
          "Diageo",
          "Reynolds American",
          "Mondelēz International",
          "Imperial Tobacco Group",
          "Kweichow Moutai",
          "Danone",
          "Nestle",
          "Anheuser-Busch InBev",
          "Coca-Cola",
          "Philip Morris International",
          "PepsiCo",
          "Altria Group",
          "British American Tobacco",
          "Kraft Heinz Company",
          "Reynolds American",
          "Kweichow Moutai",
          "Diageo",
          "Mondelēz International",
          "Japan Tobacco",
          "ITC",
          "Nestle",
          "Anheuser-Busch InBev",
          "Coca-Cola",
          "Kweichow Moutai",
          "PepsiCo",
          "Philip Morris International",
          "British American Tobacco",
          "Altria Group",
          "Diageo",
          "Kraft Heinz Company",
          "Mondelēz International",
          "Nestlé",
          "Coca-Cola",
          "PepsiCo",
          "Kweichow Moutai",
          "Anheuser-Busch InBev",
          "Philip Morris International",
          "Altria Group",
          "Diageo",
          "British American Tobacco",
          "Mondelez International",
          "Wuliangye Yibin",
          "Nestlé",
          "Kweichow Moutai",
          "Coca-Cola",
          "PepsiCo",
          "Philip Morris International",
          "Anheuser-Busch InBev",
          "British American Tobacco",
          "Diageo",
          "Wuliangye Yibin",
          "Mondelez International",
          "Altria Group",
          "Kweichow Moutai",
          "Nestlé",
          "Coca-Cola",
          "PepsiCo",
          "Wuliangye Yibin",
          "Philip Morris International",
          "Anheuser-Busch InBev",
          "Diageo",
          "Altria Group",
          "British American Tobacco",
          "Foshan Haitian Flavouring and Food",
          "Mondelez International",
          "Nestlé",
          "Kweichow Moutai",
          "Coca-Cola",
          "PepsiCo",
          "Philip Morris International",
          "Anheuser-Busch InBev",
          "Diageo",
          "International Holding Company",
          "Altria Group",
          "Wuliangye Yibin",
          "British American Tobacco",
          "Mondelez International"
         ],
         "legendgroup": "Food, Drink & Tobacco",
         "marker": {
          "color": "#636efa",
          "size": [
           188110,
           154200,
           135860,
           111420,
           92750,
           76070,
           55890,
           52920,
           48860,
           47790,
           118990,
           94550,
           74920,
           67070,
           58240,
           51130,
           43800,
           33470,
           31900,
           29180,
           24700,
           24330,
           24020,
           22990,
           173670,
           122790,
           99580,
           92040,
           91330,
           81480,
           68270,
           42490,
           42450,
           42170,
           40930,
           37810,
           36300,
           181115,
           148695,
           114621,
           102567,
           91926,
           90552,
           76584,
           55441,
           52404,
           51967,
           47319,
           40498,
           205417,
           158786,
           147754,
           115294,
           102446,
           101259,
           100906,
           67865,
           65661,
           61431,
           60389,
           51983,
           44808,
           40475,
           233516,
           173054,
           153479,
           150558,
           122317,
           118856,
           101989,
           84082,
           76396,
           67692,
           61574,
           50513,
           44101,
           43290,
           239577,
           171208,
           168697,
           130319,
           126182,
           124521,
           104252,
           80123,
           77339,
           74513,
           59228,
           56891,
           247294,
           204569,
           179851,
           143018,
           121139,
           101400,
           99647,
           87342,
           71033,
           65153,
           60673,
           52202,
           235701,
           204589,
           192803,
           150346,
           147302,
           118430,
           111042,
           98985,
           94906,
           84335,
           68643,
           68310,
           65695,
           49347,
           47864,
           46476,
           229485,
           213102,
           182883,
           176221,
           159406,
           138810,
           123765,
           110395,
           90618,
           71537,
           71167,
           67353,
           66379,
           51595,
           237278,
           184307,
           179317,
           142391,
           138141,
           126223,
           119987,
           104455,
           89382,
           72224,
           57867,
           281294,
           202985,
           178157,
           177142,
           175653,
           131450,
           101809,
           98004,
           90924,
           72418,
           59246,
           304074,
           225461,
           197092,
           183552,
           116162,
           89879,
           88822,
           80965,
           74730,
           73429,
           72941,
           395754,
           333156,
           231324,
           199176,
           155790,
           144801,
           134128,
           104352,
           96888,
           91649,
           82962,
           82578,
           360014,
           343321,
           282859,
           238126,
           159178,
           118519,
           116049,
           108600,
           100660,
           98983,
           97492,
           89985
          ],
          "sizemode": "area",
          "sizeref": 6600.79,
          "symbol": "circle"
         },
         "mode": "markers",
         "name": "Food, Drink & Tobacco",
         "showlegend": true,
         "type": "scattergl",
         "x": [
          94760,
          38050,
          28860,
          39470,
          54820,
          19880,
          21070,
          15020,
          17530,
          37240,
          103010,
          31940,
          43250,
          25710,
          56440,
          17700,
          22410,
          42200,
          15960,
          16120.000000000002,
          21180,
          18000,
          25940,
          17060,
          97080,
          30990,
          43230,
          25040,
          57050,
          36760,
          22950,
          40390,
          14880,
          16820,
          15340,
          21460,
          28780,
          112005,
          35119,
          27208,
          57838,
          59253,
          36810,
          23218,
          49207,
          16892,
          14195,
          14619,
          27022,
          89171,
          46542,
          31097,
          39046,
          60191,
          66504,
          23912,
          54365,
          15145,
          16619,
          15949,
          29091,
          25023,
          23654,
          100639,
          48017,
          39758,
          31377,
          67710,
          65492,
          24075,
          16713,
          16895,
          17500,
          24569,
          35015,
          5220,
          27532,
          99408,
          43166,
          46253,
          30898,
          66415,
          66111,
          23853,
          17458,
          17704,
          17663,
          35299,
          23474,
          100077,
          47084,
          45913,
          66683,
          29652,
          17945,
          23004,
          16704,
          16838,
          23607,
          34244,
          18205,
          92208,
          43604,
          43488,
          26176,
          62698,
          18854,
          20020,
          20752,
          20213,
          19241,
          16071,
          10675,
          29636,
          39054,
          4892,
          24853,
          90816,
          45558,
          41478,
          26714,
          62801,
          19337,
          19904,
          26484,
          12503,
          4950,
          15247,
          25923,
          19725,
          5967,
          91227,
          56361,
          33682,
          8538,
          64038,
          29570,
          26132,
          19575,
          15659,
          26172,
          26247,
          93433,
          31697,
          64983,
          9961,
          54620,
          29453,
          19627,
          16722,
          32658,
          25938,
          5157,
          93147,
          11325,
          37155,
          68159,
          30192,
          52315,
          33012,
          16787,
          5157,
          26037,
          20453,
          12185,
          89859,
          33029,
          71312,
          6832,
          28697,
          46752,
          14652,
          20841,
          33054,
          3271,
          26581,
          95255,
          14600,
          38726,
          79470,
          31507,
          54334,
          19001,
          7746,
          21111,
          8482,
          35323,
          28720
         ],
         "xaxis": "x",
         "y": [
          9380,
          9160,
          5980,
          5660,
          5300,
          4230,
          3210,
          2990,
          1790,
          2590,
          16910,
          5810,
          5140,
          6890,
          7000,
          3590,
          1790,
          2900,
          3090,
          3030,
          1830,
          760,
          2390,
          2020,
          10070,
          6820,
          5950,
          6340,
          4830,
          4610,
          4380,
          3020,
          1880,
          3210,
          2670,
          2020,
          1270,
          36651.9,
          11809,
          7259,
          6320,
          5689.4,
          4082.9,
          4491.4,
          4114,
          3905,
          1910,
          2435,
          1481.4,
          10114.1,
          8572,
          8591,
          5855,
          5514.3,
          6443,
          4805.9,
          3527,
          2469.7,
          3390,
          3049.8,
          1743.9,
          2164.5,
          2797.5,
          11584,
          9019,
          7243,
          8800,
          5916,
          6178,
          6088,
          4261.6,
          3048.7,
          4178,
          3876.3,
          1567,
          1230.3,
          2206,
          10802.9,
          14474.5,
          8452,
          8554,
          6735,
          6428.3,
          6102.3,
          3397.7,
          3979.6,
          4527,
          3915,
          4498.9,
          15791.8,
          9239.5,
          7098,
          6504,
          7458,
          5058,
          5129,
          3637.7,
          3227.3,
          4009.3,
          2184,
          1037,
          9415.5,
          8267.2,
          7277,
          6586,
          5162,
          5231,
          6554.3,
          2965.7,
          634,
          4011.8,
          3782.8,
          3253,
          7267,
          2611.4,
          2520.1,
          1421.6,
          8659.4,
          1246.7,
          6527,
          6947,
          6329,
          14215,
          6271.5,
          3632,
          6073,
          2531.9,
          3173.6,
          1616,
          3880.9,
          1513.9,
          7297.9,
          7907.8,
          1434,
          4445.6,
          4882,
          5985,
          48335.8,
          10701,
          4128.8,
          11099,
          3190,
          10356,
          6434,
          12585,
          5320,
          4330,
          7692,
          6955,
          3920,
          8043,
          2500,
          2023,
          12687.9,
          6183.4,
          10017,
          7239,
          7638,
          9143.5,
          7276.8,
          3889.7,
          2022.7,
          3709,
          -880,
          6765.5,
          13032,
          7747,
          7496,
          2769.1,
          8036,
          -742,
          1441.4,
          4459,
          8207.1,
          927.7,
          3572,
          18490.2,
          8134.2,
          9771,
          7618,
          8997,
          4663.7,
          4187.8,
          1997.9,
          2464,
          3493.5,
          9336.9,
          4300
         ],
         "yaxis": "y"
        },
        {
         "hovertemplate": "<b>%{hovertext}</b><br><br>Industry=Drugs & Biotechnology<br>Sales=%{x}<br>Profits=%{y}<br>Market_Value=%{marker.size}<extra></extra>",
         "hovertext": [
          "Johnson & Johnson",
          "Roche Holding",
          "Pfizer",
          "GlaxoSmithKline",
          "Novartis",
          "Sanofi-aventis",
          "Merck & Co",
          "Wyeth",
          "Eli Lilly & Co",
          "AstraZeneca",
          "Amgen",
          "Takeda Pharmaceutical",
          "Bristol-Myers Squibb",
          "Gilead Sciences",
          "Novo Nordisk",
          "Johnson & Johnson",
          "Roche Holding",
          "Pfizer",
          "Novartis",
          "GlaxoSmithKline",
          "Sanofi-aventis",
          "Wyeth",
          "Merck & Co",
          "Amgen",
          "AstraZeneca",
          "Gilead Sciences",
          "Teva Pharmaceutical Inds",
          "Bristol-Myers Squibb",
          "Eli Lilly & Co",
          "Takeda Pharmaceutical",
          "Novo Nordisk",
          "Schering-Plough",
          "Celgene",
          "Johnson & Johnson",
          "Roche Holding",
          "Pfizer",
          "Novartis",
          "Merck & Co",
          "Sanofi-aventis",
          "GlaxoSmithKline",
          "AstraZeneca",
          "Teva Pharmaceutical Inds",
          "Amgen",
          "Novo Nordisk",
          "Gilead Sciences",
          "Bristol-Myers Squibb",
          "Eli Lilly & Co",
          "Takeda Pharmaceutical",
          "Pfizer",
          "Novartis",
          "Roche Holding",
          "Merck & Co",
          "GlaxoSmithKline",
          "Sanofi-aventis",
          "Novo Nordisk",
          "AstraZeneca",
          "Amgen",
          "Teva Pharmaceutical Inds",
          "Bristol-Myers Squibb",
          "Eli Lilly & Co",
          "Pfizer",
          "Roche Holding",
          "Novartis",
          "Merck & Co",
          "GlaxoSmithKline",
          "Sanofi ",
          "Novo Nordisk",
          "AstraZeneca",
          "Bristol-Myers Squibb",
          "Amgen",
          "Eli Lilly & Co",
          "Teva Pharmaceutical Inds",
          "Pfizer",
          "Roche Holding",
          "Novartis",
          "Merck & Co",
          "Sanofi ",
          "GlaxoSmithKline",
          "Novo Nordisk",
          "Amgen",
          "Gilead Sciences",
          "Bristol-Myers Squibb",
          "Eli Lilly & Co",
          "AbbVie",
          "AstraZeneca",
          "Celgene",
          "Takeda Pharmaceutical",
          "Roche Holding",
          "Novartis",
          "Pfizer",
          "Merck & Co",
          "Sanofi",
          "GlaxoSmithKline",
          "Novo Nordisk",
          "Gilead Sciences",
          "Amgen",
          "Bristol-Myers Squibb",
          "AbbVie",
          "AstraZeneca",
          "Biogen Idec",
          "Eli Lilly & Co",
          "Celgene",
          "Novartis",
          "Roche Holding",
          "Pfizer",
          "Merck & Co",
          "Novo Nordisk",
          "Gilead Sciences",
          "Sanofi",
          "Amgen",
          "Actavis",
          "GlaxoSmithKline",
          "Bristol-Myers Squibb",
          "Biogen Idec",
          "AbbVie",
          "Celgene",
          "AstraZeneca",
          "Eli Lilly & Co",
          "Valeant Pharmaceuticals",
          "Teva Pharmaceutical Inds",
          "McKesson",
          "Merck",
          "Roche Holding",
          "Pfizer",
          "Novartis",
          "Merck",
          "Novo Nordisk",
          "Gilead Sciences",
          "Amgen",
          "Bristol-Myers Squibb",
          "Sanofi ",
          "GlaxoSmithKline",
          "AbbVie",
          "Allergan",
          "Celgene",
          "Eli Lilly",
          "AstraZeneca",
          "Biogen Idec",
          "Teva Pharmaceutical",
          "Roche Holding",
          "Pfizer",
          "Novartis",
          "Merck",
          "Amgen",
          "Sanofi",
          "AbbVie",
          "GlaxoSmithKline",
          "Celgene",
          "Eli Lilly",
          "Novo Nordisk",
          "Bristol-Myers Squibb",
          "Gilead Sciences",
          "Allergan",
          "AstraZeneca",
          "Biogen",
          "Shire",
          "Pfizer",
          "Novartis",
          "Roche Holding",
          "AbbVie",
          "Merck & Co.",
          "Novo Nordisk",
          "Amgen",
          "GlaxoSmithKline",
          "Sanofi",
          "AstraZeneca",
          "Eli Lilly",
          "Gilead Sciences",
          "Bristol-Myers Squibb",
          "Celgene",
          "CSL",
          "Biogen",
          "Johnson & Johnson",
          "Roche Holding",
          "Pfizer",
          "Merck & Co.",
          "Novartis",
          "Eli Lilly",
          "Novo Nordisk",
          "AbbVie",
          "Amgen",
          "Sanofi",
          "AstraZeneca",
          "GlaxoSmithKline",
          "Gilead Sciences",
          "Bristol-Myers Squibb",
          "Celgene",
          "Bayer",
          "CSL",
          "Anthem",
          "Cigna",
          "Takeda Pharmaceutical",
          "Johnson & Johnson",
          "Roche Holding",
          "Pfizer",
          "Merck & Co.",
          "Novartis",
          "Eli Lilly",
          "Novo Nordisk",
          "Amgen",
          "AstraZeneca",
          "Bristol-Myers Squibb",
          "Sanofi",
          "AbbVie",
          "Gilead Sciences",
          "GlaxoSmithKline",
          "CSL",
          "Cigna",
          "Anthem",
          "Vertex Pharmaceuticals",
          "Bayer",
          "Allergan",
          "Zoetis",
          "Regeneron Pharmaceuticals",
          "Jiangsu Hengrui Medicine",
          "Takeda Pharmaceutical",
          "EMD Group",
          "Humana",
          "Johnson & Johnson",
          "Roche Holding",
          "Pfizer",
          "Novartis",
          "Merck & Co.",
          "AbbVie",
          "Eli Lilly",
          "Novo Nordisk",
          "Amgen",
          "Bristol Myers Squibb",
          "AstraZeneca",
          "Sanofi ",
          "CSL",
          "GlaxoSmithKline",
          "Anthem",
          "Gilead Sciences",
          "Zoetis",
          "EMD Group",
          "Johnson & Johnson",
          "Roche Holding",
          "AbbVie",
          "Pfizer",
          "Eli Lilly",
          "Novo Nordisk",
          "Merck & Co.",
          "AstraZeneca",
          "Novartis",
          "Bristol Myers Squibb",
          "Sanofi ",
          "Amgen",
          "Elevance Health",
          "GlaxoSmithKline",
          "CSL",
          "Zoetis",
          "Merck KGaA, Darmstadt, Germany and its affiliates",
          "Gilead Sciences",
          "Regeneron Pharmaceuticals",
          "Bayer "
         ],
         "legendgroup": "Drugs & Biotechnology",
         "marker": {
          "color": "#EF553B",
          "size": [
           175510,
           169320,
           152170,
           120050,
           111620,
           101170,
           95920,
           58360,
           56870,
           54860,
           49510,
           47440,
           44750,
           43950,
           42650,
           138290,
           98470,
           83030,
           82970,
           79060,
           67840,
           54350,
           51010,
           50590,
           46280,
           40810,
           40670,
           36440,
           33760,
           33240,
           29760,
           28280,
           20550,
           174900,
           146190,
           143230,
           126220,
           116110,
           98070,
           95360,
           63560,
           56190,
           55720,
           44650,
           42760,
           41810,
           39580,
           35470,
           155667,
           125218,
           120926,
           100909,
           99203,
           89196,
           71300,
           65553,
           49914,
           46832,
           44961,
           40356,
           165395,
           152019,
           150369,
           115764,
           111822,
           103338,
           82575,
           58034,
           56011,
           53327,
           46648,
           41017,
           201438,
           198935,
           169282,
           133256,
           131591,
           111091,
           94962,
           68712,
           68446,
           63791,
           62540,
           60856,
           57970,
           47067,
           43582,
           253742,
           227436,
           203934,
           165763,
           137140,
           128797,
           119599,
           113247,
           95184,
           85947,
           82762,
           82324,
           73232,
           65862,
           59523,
           272634,
           240395,
           211719,
           162288,
           146952,
           145029,
           135957,
           117689,
           116676,
           114126,
           105000,
           96994,
           91724,
           90443,
           87706,
           79226,
           67531,
           54496,
           52257,
           50667,
           222178,
           205746,
           203776,
           157153,
           144893,
           138078,
           122398,
           118221,
           115374,
           104243,
           99361,
           90539,
           86390,
           85962,
           75019,
           61926,
           58467,
           219267,
           203070,
           193163,
           173328,
           120322,
           116109,
           104466,
           99751,
           97697,
           94138,
           88213,
           88009,
           87036,
           80068,
           75178,
           58020,
           51264,
           207660,
           202983,
           189692,
           165321,
           160584,
           116890,
           115811,
           98558,
           94905,
           90618,
           89494,
           86025,
           84767,
           61277,
           59997,
           59587,
           366184,
           222048,
           218630,
           189055,
           175649,
           119327,
           116330,
           114662,
           109313,
           102042,
           99235,
           97632,
           80255,
           74378,
           65862,
           64127,
           61732,
           61643,
           56571,
           56557,
           395294,
           297429,
           212808,
           200341,
           193047,
           147996,
           146765,
           140605,
           137745,
           137580,
           122486,
           121382,
           105758,
           104350,
           91986,
           72814,
           70777,
           65104,
           64714,
           61635,
           61411,
           59173,
           58024,
           56565,
           50526,
           50479,
           427131,
           287052,
           215150,
           198606,
           196024,
           190443,
           181382,
           167333,
           147238,
           146233,
           133888,
           127367,
           94741,
           92929,
           91992,
           84029,
           79628,
           77553,
           477381,
           308137,
           273756,
           271827,
           265448,
           252909,
           213828,
           204560,
           200733,
           160984,
           136857,
           133633,
           121252,
           112092,
           94666,
           85744,
           82525,
           78173,
           74684,
           70059
          ],
          "sizemode": "area",
          "sizeref": 6600.79,
          "symbol": "circle"
         },
         "mode": "markers",
         "name": "Drugs & Biotechnology",
         "showlegend": true,
         "type": "scattergl",
         "x": [
          61100,
          40650,
          48420,
          45070,
          40220,
          40950,
          24200,
          22400,
          18630,
          29210,
          14770,
          11110,
          19350,
          4230,
          8189.999999999999,
          63750,
          42750,
          48300,
          42010,
          35550,
          38400,
          22830,
          23850,
          15000,
          31600,
          5340,
          10360,
          20600,
          20380,
          13780,
          8510,
          18500,
          2250,
          61900,
          47350,
          50010,
          44270,
          27430,
          41990,
          45830,
          32800,
          14360,
          14640,
          9830,
          7010,
          18810,
          21840,
          15800,
          67809,
          50624,
          50827,
          45987,
          44293,
          40675,
          10908,
          33642,
          15053,
          17054,
          19484,
          23076,
          67425,
          45342,
          58566,
          48047,
          42527,
          43250,
          11550,
          32416,
          21244,
          15582,
          24286,
          17165,
          58986,
          49671,
          56673,
          47267,
          46104,
          42977,
          13803,
          17265,
          9703,
          17621,
          22603,
          18038,
          28558,
          5507,
          18228,
          50460,
          57903,
          52674,
          44085,
          43746,
          41430,
          14877,
          11221,
          18672,
          16385,
          18790,
          25693,
          6945,
          23113,
          6483,
          53564,
          51848,
          49605,
          42197,
          15802,
          24931,
          44794,
          20058,
          13062,
          37881,
          15879,
          9710,
          19960,
          7643,
          26101,
          19616,
          8270,
          20276,
          173962,
          15255,
          50001,
          48851,
          49428,
          38969,
          16046,
          32170,
          21416,
          16560,
          40473,
          36550,
          22859,
          18276,
          9073,
          19959,
          24714,
          10858,
          19628,
          51338,
          52824,
          48520,
          39555,
          22683,
          37413,
          25638,
          37631,
          11008,
          21222,
          16608,
          19427,
          30317,
          14967,
          22969,
          10502,
          11584,
          52673,
          50261,
          54151,
          29612,
          40764,
          17302,
          22965,
          39786,
          39540,
          22440,
          23343,
          24783,
          21040,
          13509,
          7355,
          11319,
          81575,
          58085,
          53646,
          42264,
          51902,
          24556,
          17701,
          32753,
          23768,
          40658,
          23905,
          41097,
          22214,
          22561,
          15290,
          46702,
          8243,
          92095,
          48610,
          16126,
          82753,
          61851,
          50660,
          47862,
          48614,
          23087,
          18292,
          23879,
          26233,
          26145,
          40434,
          33266,
          22618,
          44679,
          8904,
          154521,
          109262,
          4794,
          49895,
          16089,
          6260,
          7863,
          3391,
          29692,
          18078,
          67716,
          82572,
          62137,
          47644,
          48631,
          47823,
          45804,
          24540,
          19413,
          25246,
          42518,
          27656,
          41086,
          9882,
          43727,
          121885,
          24642,
          6675,
          19988,
          94880,
          68690,
          56197,
          81491,
          28318,
          22378,
          50368,
          38680,
          51627,
          46385,
          44633,
          25987,
          144349,
          46917,
          10585,
          7776,
          23270,
          27372,
          16072,
          52103
         ],
         "xaxis": "x",
         "y": [
          10580,
          8600,
          8140.000000000001,
          10350,
          12620,
          7680,
          3280,
          4620,
          2950,
          5530,
          3170,
          2860,
          2170,
          1620,
          1670,
          12950,
          8410,
          8100,
          8300,
          6720,
          5360,
          4420,
          7810,
          4200,
          6100,
          2009.9999999999998,
          590,
          5250,
          -2070,
          3560,
          1800,
          1900,
          -1530,
          12270,
          7510,
          8640,
          8400,
          12900,
          7540,
          8940,
          7520,
          2070,
          4610,
          2070,
          2640,
          10610,
          4330,
          2410,
          8257,
          9794,
          9278.3,
          861,
          2549.1,
          7318.6,
          2584.9,
          8143.3,
          4627,
          3523.8,
          3102,
          5069.5,
          10009,
          9960.6,
          9113,
          6271,
          8169.3,
          7374.4,
          2976.4,
          9633.8,
          3709,
          3683,
          4347.7,
          2586.1,
          14570,
          10413.7,
          9505,
          6168,
          6553,
          7422.8,
          3791.3,
          4345,
          2591.6,
          1960,
          4088.5,
          5275,
          6429,
          1456.2,
          1499.9,
          12042.3,
          9185.8,
          22003,
          4404,
          4934.8,
          8497,
          4483.1,
          3074.8,
          5081,
          2563,
          4128,
          2607.6,
          1862.3,
          4684.8,
          1449.9,
          10140.1,
          10194.3,
          9081,
          11920,
          4712.1,
          12101.3,
          5823.1,
          5158,
          -1630.5,
          4537.9,
          2004,
          2934.8,
          1774,
          1999.9,
          1196.8,
          2390.5,
          923.1,
          3048,
          1715,
          1535.1,
          9204.7,
          7743,
          17645.4,
          4442,
          5182.8,
          18108,
          6939,
          1624,
          4753.9,
          12867.2,
          5117,
          3915.2,
          1602,
          2408.4,
          2823.7,
          3547,
          1591,
          9720.2,
          7131,
          6699.6,
          3920,
          7722,
          5209.1,
          5923,
          1230.6,
          1999.2,
          2737.6,
          5634.8,
          4457,
          13501,
          14973.4,
          3651.4,
          3702.8,
          342.3,
          21748,
          8060,
          8771,
          6352,
          1580,
          6081.5,
          2219,
          1371.5,
          4276,
          2976.1,
          1124.1,
          3464,
          919,
          2814,
          1609.5,
          2964.4,
          14679,
          10729,
          11152,
          6220,
          12633,
          3232,
          6114,
          5657,
          8394,
          5095,
          2182,
          4831,
          5455,
          4952,
          4046,
          2000,
          1819,
          3750,
          2637,
          1000,
          17166,
          13581.4,
          15790,
          10147,
          12213.7,
          5533.3,
          5839.1,
          7675,
          1520.7,
          3439,
          3253.7,
          7839,
          4962,
          6832.1,
          2013.1,
          4917,
          4779,
          1510.9,
          4825.1,
          -5271,
          1500,
          2115.8,
          782.4,
          -498.5,
          1477.4,
          2614,
          14714,
          15229.9,
          9615,
          8074.3,
          7068,
          4551,
          6193.7,
          6443.8,
          7264,
          -9015,
          3190,
          14037.6,
          2620,
          7372.3,
          4572,
          123,
          1638,
          2265.1,
          19830,
          15236.3,
          11459,
          21979,
          5581.7,
          7590.2,
          13049,
          94.7,
          24138,
          6994,
          7355.5,
          5893,
          6244,
          6030.7,
          2355.8,
          2037,
          3612.1,
          6225,
          8075.3,
          1182
         ],
         "yaxis": "y"
        },
        {
         "hovertemplate": "<b>%{hovertext}</b><br><br>Industry=Utilities<br>Sales=%{x}<br>Profits=%{y}<br>Market_Value=%{marker.size}<extra></extra>",
         "hovertext": [
          "EDF Group",
          "E.ON",
          "Suez Group",
          "Iberdrola",
          "RWE Group",
          "ENEL",
          "Gaz de France",
          "Exelon",
          "UES of Russia",
          "CEZ",
          "Veolia Environnement",
          "EDF Group",
          "GDF Suez",
          "E.ON",
          "Tokyo Electric Power",
          "RWE Group",
          "Iberdrola",
          "Exelon",
          "ENEL",
          "NTPC",
          "Southern Co",
          "Kansai Electric Power",
          "National Grid",
          "Union Fenosa",
          "EDF Group",
          "GDF Suez",
          "E.ON",
          "ENEL",
          "RWE Group",
          "Iberdrola",
          "Tokyo Electric Power",
          "NTPC",
          "GDF Suez",
          "EDF Group",
          "E.ON",
          "ENEL",
          "Iberdrola",
          "Tokyo Electric Power",
          "GDF Suez",
          "E.ON",
          "EDF",
          "Duke Energy",
          "GDF Suez",
          "EDF",
          "GDF SUEZ",
          "Enel",
          "Duke Energy",
          "Duke Energy",
          "Duke Energy",
          "NextEra Energy",
          "National Grid",
          "NextEra Energy",
          "Duke Energy",
          "NextEra Energy",
          "Enel",
          "NextEra Energy",
          "Duke Energy",
          "Enel",
          "Dominion Energy",
          "Iberdrola",
          "NextEra Energy",
          "Enel",
          "Dominion Energy",
          "Iberdrola",
          "Duke Energy",
          "Southern Company",
          "China Yangtze Power",
          "NextEra Energy",
          "Enel",
          "Iberdrola",
          "Duke Energy",
          "NextEra Energy",
          "Duke Energy",
          "China Yangtze Power",
          "Southern Company",
          "Iberdrola"
         ],
         "legendgroup": "Utilities",
         "marker": {
          "color": "#00cc96",
          "size": [
           170810,
           126220,
           83560,
           72780,
           68190,
           67000,
           56730,
           49490,
           47090,
           43860,
           42780,
           71530,
           70460,
           47440,
           38370,
           33680,
           32420,
           31080,
           31000,
           29700,
           23570,
           23080,
           21690,
           20740,
           92230,
           83360,
           68260,
           50920,
           47930,
           42160,
           37170,
           36300,
           85203,
           78233,
           63995,
           54007,
           45013,
           41545,
           58329,
           49113,
           45657,
           49291,
           44984,
           75812,
           64564,
           53183,
           49893,
           55395,
           53052,
           52806,
           51444,
           60361,
           57550,
           75779,
           61566,
           90683,
           64862,
           63137,
           59891,
           55653,
           113122,
           69410,
           64635,
           62469,
           62143,
           59964,
           54438,
           158760,
           105433,
           86359,
           77437,
           145270,
           87984,
           83047,
           80482,
           70257
          ],
          "sizemode": "area",
          "sizeref": 6600.79,
          "symbol": "circle"
         },
         "mode": "markers",
         "name": "Utilities",
         "showlegend": true,
         "type": "scattergl",
         "x": [
          81600,
          94040,
          64959.99999999999,
          25500,
          56170,
          49470,
          36470,
          18920,
          34000,
          7650,
          37760,
          89460,
          115590,
          120740,
          54900,
          66160,
          35090,
          18860,
          82920,
          9630,
          17130,
          26950,
          21910,
          10010,
          95170,
          114650,
          117380,
          91870,
          66570,
          35150,
          60470,
          8620,
          113090,
          87236,
          124581,
          96515,
          40738,
          53674,
          117452,
          157278,
          84595,
          19624,
          128018,
          100360,
          118556,
          106269,
          24603,
          25146,
          23441,
          15931,
          24232,
          15210,
          22743,
          16372,
          86675,
          16317,
          24521,
          86280,
          13455,
          41381,
          17188,
          86592,
          16426,
          39691,
          25079,
          20763,
          7545,
          17228,
          71389,
          37784,
          23868,
          23737,
          25097,
          8515,
          23230,
          46232
         ],
         "xaxis": "x",
         "y": [
          7690,
          9860,
          5370,
          3440,
          3640,
          4010,
          3030,
          2740,
          3170,
          1330,
          1000,
          4730,
          9050,
          1760,
          -1500,
          3560,
          3980,
          2740,
          7370,
          1860,
          1740,
          850,
          6340,
          1660,
          5600,
          6420,
          12050,
          7740,
          4980,
          3940,
          -870,
          1580,
          6179.4,
          1365.5,
          7852.2,
          5889.4,
          3843.2,
          1431.4,
          5185.2,
          -3089.8,
          3899,
          1768,
          2045,
          4532.5,
          -12332,
          4294.8,
          2665,
          1883,
          2819,
          2752,
          3332.6,
          2895,
          2666,
          8223,
          4633.6,
          6652,
          2666,
          5650,
          2447,
          3556,
          3509,
          2433.2,
          1358,
          4110.1,
          3748,
          3539,
          3417.1,
          2920,
          2975.3,
          4116.4,
          1377,
          1456,
          3908,
          4076.1,
          2409,
          4629.5
         ],
         "yaxis": "y"
        },
        {
         "hovertemplate": "<b>%{hovertext}</b><br><br>Industry=Insurance<br>Sales=%{x}<br>Profits=%{y}<br>Market_Value=%{marker.size}<extra></extra>",
         "hovertext": [
          "China Life Insurance",
          "American Intl Group",
          "Allianz",
          "ING Group",
          "AXA Group",
          "Ping An Insurance Group",
          "Generali Group",
          "Manulife Financial",
          "Zurich Financial Services",
          "China Life Insurance",
          "Ping An Insurance Group",
          "Allianz",
          "Munich Re",
          "Generali Group",
          "Travelers Cos",
          "China Life Insurance",
          "Ping An Insurance Group",
          "Allianz",
          "AXA Group",
          "ING Group",
          "Generali Group",
          "Zurich Financial Services",
          "China Life Insurance",
          "American Intl Group",
          "Ping An Insurance Group",
          "Allianz",
          "MetLife",
          "ING Group",
          "AXA Group",
          "Zurich Financial Services",
          "China Life Insurance",
          "Allianz",
          "Ping An Insurance Group",
          "American Intl Group",
          "AIA Group",
          "MetLife",
          "AXA Group",
          "China Life Insurance",
          "Allianz",
          "American International Group",
          "Ping An Insurance Group",
          "AIA Group",
          "AXA Group",
          "Prudential",
          "MetLife",
          "China Life Insurance",
          "Allianz",
          "American International Group",
          "Ping An Insurance Group",
          "AXA Group",
          "MetLife",
          "AIA Group",
          "Prudential",
          "ING Group",
          "China Life Insurance",
          "Ping An Insurance Group",
          "Allianz",
          "AIA Group",
          "American International Group",
          "Prudential",
          "AXA Group",
          "MetLife",
          "Zurich Insurance Group",
          "Ping An Insurance Group",
          "Allianz",
          "AIA Group",
          "American International Group",
          "Japan Post Holdings",
          "AXA Group",
          "China Life Insurance",
          "Chubb",
          "Prudential",
          "MetLife",
          "Ping An Insurance Group",
          "China Life Insurance",
          "Allianz",
          "AIA Group",
          "Chubb",
          "AXA Group",
          "American International Group",
          "MetLife",
          "Japan Post Holdings",
          "Prudential",
          "Ping An Insurance Group",
          "AIA Group",
          "China Life Insurance",
          "Allianz",
          "Prudential",
          "AXA Group",
          "Chubb",
          "Ping An Insurance Group",
          "UnitedHealth Group",
          "AIA Group",
          "China Life Insurance",
          "Allianz",
          "AXA Group",
          "Chubb",
          "Prudential",
          "UnitedHealth Group",
          "Ping An Insurance Group",
          "AIA Group",
          "Allianz",
          "China Life Insurance",
          "UnitedHealth Group",
          "Ping An Insurance Group",
          "AIA Group",
          "Allianz",
          "Cigna",
          "UnitedHealth Group",
          "Ping An Insurance Group",
          "AIA Group",
          "Allianz",
          "Chubb",
          "Marsh & McLennan",
          "Cigna"
         ],
         "legendgroup": "Insurance",
         "marker": {
          "color": "#ab63fa",
          "size": [
           144450,
           118200,
           80300,
           75780,
           70330,
           67930,
           60790,
           59180,
           45760,
           83260,
           35330,
           30860,
           24290,
           21350,
           21140,
           118750,
           52800,
           52740,
           46020,
           35460,
           35190,
           34710,
           96636,
           67062,
           67008,
           62704,
           48379,
           46752,
           46394,
           39900,
           76465,
           56270,
           55011,
           50269,
           44064,
           40695,
           40616,
           79949,
           66362,
           57532,
           57000,
           53545,
           45324,
           44653,
           43962,
           79798,
           77206,
           73159,
           66129,
           63369,
           60042,
           57992,
           56098,
           56061,
           160495,
           113846,
           82007,
           76673,
           75037,
           64526,
           64247,
           57271,
           51845,
           89974,
           79725,
           72696,
           63709,
           62570,
           61857,
           55652,
           55332,
           53392,
           51434,
           100811,
           98104,
           83721,
           77076,
           64031,
           60770,
           60086,
           57201,
           55145,
           53669,
           181411,
           111406,
           104055,
           100405,
           67756,
           64058,
           63428,
           220197,
           212778,
           122238,
           114154,
           102303,
           63602,
           63539,
           60200,
           277094,
           187215,
           111829,
           77056,
           60304,
           369629,
           211166,
           153663,
           107977,
           87738,
           490152,
           121687,
           120189,
           96421,
           87311,
           85877,
           81205
          ],
          "sizemode": "area",
          "sizeref": 6600.79,
          "symbol": "circle"
         },
         "mode": "markers",
         "name": "Insurance",
         "showlegend": true,
         "type": "scattergl",
         "x": [
          18860,
          110060,
          139120,
          197930,
          151700,
          11280,
          102160,
          33080,
          55050,
          26200,
          18760,
          127240,
          64200,
          118390,
          24480,
          24010,
          18980,
          130060,
          145860,
          167490,
          123140,
          70270,
          48219,
          77301,
          22289,
          142875,
          52718,
          149194,
          162369,
          67850,
          56014,
          134441,
          42197,
          64237,
          12320,
          70263,
          132813,
          63233,
          140254,
          65656,
          51059,
          20449,
          147476,
          90205,
          68150,
          68399,
          131370,
          68149,
          58969,
          138934,
          71042,
          20723,
          81867,
          34502,
          71439,
          75349,
          128401,
          25433,
          67504,
          99001,
          153838,
          70509,
          73003,
          98688,
          115424,
          23652,
          58330,
          129795,
          129808,
          81487,
          19180,
          63106,
          68017,
          106606,
          82836,
          115725,
          26455,
          31944,
          132153,
          52367,
          64690,
          123728,
          96936,
          141623,
          31917,
          97129,
          122549,
          111476,
          149895,
          32613,
          151788,
          231367,
          39479,
          98335,
          118843,
          139662,
          32635,
          33285,
          246268,
          154952,
          40851,
          122406,
          103664,
          262916,
          169127,
          42617,
          129859,
          160550,
          297550,
          181370,
          45163,
          138617,
          40955,
          20326,
          174274
         ],
         "xaxis": "x",
         "y": [
          2560,
          6200,
          10900,
          12650,
          7750,
          1000,
          3170,
          4010,
          5630,
          5320,
          2560,
          -3400,
          2090,
          4260,
          2920,
          3120,
          40,
          6160,
          5170,
          -1300,
          1830,
          3220,
          4816.4,
          7786,
          2033.6,
          6662.1,
          2790,
          4318.4,
          3687.9,
          3434,
          5101.7,
          3303.9,
          3013.7,
          17798,
          1602.5,
          6981,
          5613.4,
          1753,
          6815,
          3438,
          3178,
          3019,
          5339,
          3572.4,
          1324,
          4020.4,
          7960.4,
          9085,
          4574.1,
          5976.9,
          3368,
          2822.1,
          2103.9,
          4355.9,
          5219.4,
          6374.7,
          8250.5,
          3449.9,
          7562,
          3648.8,
          6267.5,
          6309,
          3884.4,
          8657.9,
          7337.7,
          2691.3,
          2179,
          4393.8,
          5890.6,
          5573.1,
          2834,
          3940.2,
          5268,
          9460.3,
          2879.8,
          7614,
          4164,
          4135,
          6152.7,
          -849,
          800,
          3124.5,
          2592,
          13888.4,
          6120.5,
          5967,
          7673.3,
          3076.6,
          6745,
          3850,
          16300,
          12617,
          3163,
          1862,
          8803,
          2216,
          3962,
          4014,
          13754,
          18750.9,
          6649.2,
          8857.7,
          8486.5,
          16883,
          20754.6,
          5778.2,
          7759.8,
          8458,
          17450,
          15743.1,
          7428.1,
          7812.9,
          8539,
          3231,
          5365
         ],
         "yaxis": "y"
        },
        {
         "hovertemplate": "<b>%{hovertext}</b><br><br>Industry=Chemicals<br>Sales=%{x}<br>Profits=%{y}<br>Market_Value=%{marker.size}<extra></extra>",
         "hovertext": [
          "Saudi Basic Industries",
          "Monsanto",
          "BASF",
          "Bayer Group",
          "Potash of Saskatchewan",
          "Mosaic",
          "Monsanto",
          "Bayer Group",
          "Saudi Basic Industries",
          "BASF",
          "Potash of Saskatchewan",
          "Saudi Basic Industries",
          "Bayer Group",
          "BASF",
          "Monsanto",
          "Saudi Basic Industries",
          "BASF",
          "Bayer Group",
          "EI du Pont de Nemours",
          "Potash of Saskatchewan",
          "Dow Chemical",
          "Saudi Basic Industries",
          "BASF",
          "Bayer Group",
          "EI du Pont de Nemours",
          "Monsanto",
          "Dow Chemical",
          "Potash of Saskatchewan",
          "BASF",
          "Bayer ",
          "Saudi Basic Industries",
          "Monsanto",
          "EI du Pont de Nemours",
          "Bayer",
          "BASF",
          "Saudi Basic Industries",
          "EI du Pont de Nemours",
          "Dow Chemical",
          "Monsanto",
          "Bayer",
          "BASF",
          "EI du Pont de Nemours",
          "Saudi Basic Industries",
          "Dow Chemical",
          "Monsanto",
          "Bayer ",
          "BASF",
          "Saudi Basic Industries",
          "Dow Chemical",
          "EI du Pont de Nemours",
          "Bayer",
          "BASF",
          "Saudi Basic Industries",
          "Dow Chemical",
          "EI du Pont de Nemours",
          "Monsanto",
          "DowDuPont",
          "Bayer",
          "BASF",
          "Saudi Basic Industries",
          "Saudi Basic Industries",
          "Linde",
          "DowDuPont",
          "BASF",
          "Air Liquide",
          "Linde",
          "Air Liquide",
          "Saudi Basic Industries",
          "Ecolab",
          "Linde",
          "Saudi Basic Industries",
          "Air Liquide",
          "BASF",
          "Linde",
          "Air Liquide"
         ],
         "legendgroup": "Chemicals",
         "marker": {
          "color": "#FFA15A",
          "size": [
           124850,
           63390,
           60960,
           59000,
           50550,
           49320,
           41740,
           36970,
           31440,
           25620,
           24840,
           71200,
           56300,
           52120,
           38870,
           81196,
           74221,
           62533,
           48754,
           46017,
           42968,
           84390,
           82237,
           59197,
           49764,
           42196,
           41844,
           39327,
           90114,
           84872,
           74796,
           55853,
           46558,
           111336,
           102272,
           94403,
           62087,
           60124,
           59831,
           126382,
           93536,
           65228,
           64004,
           56080,
           55747,
           102527,
           73229,
           63468,
           59019,
           57505,
           94382,
           90952,
           80696,
           77033,
           69209,
           50934,
           155330,
           104625,
           95299,
           91839,
           99999,
           98302,
           87606,
           76584,
           56934,
           96628,
           59979,
           59840,
           55954,
           151602,
           93254,
           79873,
           79716,
           157259,
           81848
          ],
          "sizemode": "area",
          "sizeref": 6600.79,
          "symbol": "circle"
         },
         "mode": "markers",
         "name": "Chemicals",
         "showlegend": true,
         "type": "scattergl",
         "x": [
          23020,
          9120,
          84600,
          38200,
          5600,
          7160,
          11970,
          45850,
          40620,
          86770,
          9450,
          27490,
          43460,
          72630,
          10770,
          40526,
          85506,
          46972,
          32733,
          6539,
          53674,
          50647,
          95204,
          47316,
          38719,
          12425,
          59985,
          8715,
          103864,
          52454,
          50394,
          14004,
          35310,
          53313,
          98208,
          50404,
          35873,
          57080,
          15425,
          56028,
          98589,
          35283,
          50361,
          58226,
          14928,
          51634,
          78122,
          39766,
          48770,
          27932,
          51832,
          63662,
          35413,
          48137,
          24609,
          14458,
          80578,
          44351,
          75100,
          41896,
          45056,
          14900,
          85977,
          76235,
          24788,
          28228,
          24534,
          37258,
          14982,
          27243,
          31337,
          23353,
          67428,
          30793,
          27581
         ],
         "xaxis": "x",
         "y": [
          5410,
          1160,
          5930,
          2320,
          1180,
          940,
          2320,
          2550,
          5870,
          4059.9999999999995,
          3500,
          2420,
          1900,
          2020,
          1530,
          5741,
          6100.4,
          1741.6,
          3031,
          1806.2,
          2310,
          7790.1,
          8015.6,
          3199.5,
          3474,
          1724,
          2742,
          3081,
          6436.7,
          3226.9,
          6606,
          2258,
          2788,
          4233.8,
          6428.3,
          6740.3,
          2886,
          4757,
          2698,
          4544.4,
          6837.8,
          3625,
          6247.4,
          3751,
          2370,
          4510,
          4421.3,
          5007.6,
          7634,
          1953,
          5012.2,
          4486.7,
          4756.1,
          4294,
          2513,
          1919,
          1661,
          8422.2,
          7067.8,
          4978.5,
          5744,
          4381,
          3827,
          5553,
          2493,
          2285,
          2508.8,
          1483.3,
          1545.8,
          2501,
          37,
          2776,
          -1208.4,
          3826,
          3040.3
         ],
         "yaxis": "y"
        },
        {
         "hovertemplate": "<b>%{hovertext}</b><br><br>Industry=Semiconductors<br>Sales=%{x}<br>Profits=%{y}<br>Market_Value=%{marker.size}<extra></extra>",
         "hovertext": [
          "Intel",
          "Samsung Electronics",
          "Taiwan Semiconductor",
          "Intel",
          "Samsung Electronics",
          "Taiwan Semiconductor",
          "Intel",
          "Samsung Electronics",
          "Taiwan Semiconductor",
          "Intel",
          "Samsung Electronics",
          "Taiwan Semiconductor",
          "Texas Instruments",
          "Samsung Electronics",
          "Intel",
          "Taiwan Semiconductor",
          "Samsung Electronics",
          "Qualcomm",
          "Intel",
          "Taiwan Semiconductor",
          "Samsung Electronics",
          "Qualcomm",
          "Intel",
          "Taiwan Semiconductor",
          "Texas Instruments",
          "Samsung Electronics",
          "Intel",
          "Taiwan Semiconductor",
          "Qualcomm",
          "Texas Instruments",
          "Samsung Electronics",
          "Intel",
          "Taiwan Semiconductor",
          "Qualcomm",
          "Texas Instruments",
          "Broadcom",
          "Samsung Electronics",
          "Intel",
          "Taiwan Semiconductor",
          "Broadcom",
          "Qualcomm",
          "Texas Instruments",
          "NVIDIA",
          "ASML Holding",
          "Samsung Electronics",
          "Intel",
          "Taiwan Semiconductor",
          "NVIDIA",
          "Texas Instruments",
          "Broadcom",
          "ASML Holding",
          "Qualcomm",
          "Micron Technology",
          "Intel",
          "Taiwan Semiconductor",
          "Broadcom",
          "NVIDIA",
          "Texas Instruments",
          "Qualcomm",
          "ASML Holding",
          "Taiwan Semiconductor",
          "Intel",
          "NVIDIA",
          "ASML Holding",
          "Broadcom",
          "Texas Instruments",
          "Qualcomm",
          "Advanced Micro Devices",
          "Micron Technology",
          "Taiwan Semiconductor",
          "NVIDIA",
          "ASML Holding",
          "Intel",
          "Broadcom",
          "Texas Instruments",
          "Qualcomm",
          "Applied Materials",
          "Micron Technology",
          "Advanced Micro Devices",
          "Lam Research",
          "SK Hynix",
          "Taiwan Semiconductor",
          "NVIDIA",
          "ASML Holding",
          "Broadcom",
          "Intel",
          "Texas Instruments",
          "Qualcomm",
          "Advanced Micro Devices",
          "Applied Materials",
          "Analog Devices",
          "Micron Technology"
         ],
         "legendgroup": "Semiconductors",
         "marker": {
          "color": "#19d3f3",
          "size": [
           115590,
           87840,
           52660,
           70860,
           45820,
           32970,
           115290,
           94480,
           48220,
           114535,
           112934,
           61318,
           40307,
           161965,
           138539,
           71131,
           174393,
           111635,
           105721,
           89873,
           186472,
           135456,
           129222,
           102002,
           51415,
           199356,
           147197,
           123323,
           111774,
           59488,
           161550,
           149259,
           125605,
           77324,
           58989,
           58696,
           254303,
           170350,
           161734,
           87597,
           83187,
           80501,
           59094,
           56800,
           325865,
           254762,
           203024,
           154509,
           106947,
           99969,
           85378,
           81885,
           60099,
           263127,
           222396,
           126125,
           113362,
           108420,
           96692,
           85551,
           265526,
           253955,
           179017,
           124450,
           108591,
           106526,
           88498,
           61359,
           53263,
           558145,
           396147,
           267644,
           263685,
           195491,
           177153,
           157007,
           122719,
           101668,
           99780,
           91991,
           84248,
           494598,
           489826,
           247799,
           239640,
           190288,
           159944,
           149677,
           142801,
           99647,
           81245,
           77508
          ],
          "sizemode": "area",
          "sizeref": 6600.79,
          "symbol": "circle"
         },
         "mode": "markers",
         "name": "Semiconductors",
         "showlegend": true,
         "type": "scattergl",
         "x": [
          38330,
          92260,
          9950,
          37590,
          104420,
          10130,
          35130,
          97280,
          8650,
          43623,
          133789,
          13322,
          13966,
          142397,
          53999,
          14102,
          187846,
          20458,
          53341,
          17425,
          208897,
          25470,
          52708,
          20114,
          12204,
          195891,
          55870,
          25173,
          26964,
          13045,
          177286,
          56276,
          25661,
          22614,
          13000,
          6960,
          173995,
          59387,
          29392,
          15608,
          23778,
          13370,
          6910,
          7516,
          224644,
          64031,
          33064,
          10984,
          15348,
          18824,
          10978,
          22605,
          25858,
          70848,
          34203,
          21310,
          11716,
          15784,
          21505,
          12911,
          37801,
          75732,
          10918,
          13367,
          22666,
          14118,
          24742,
          7245,
          19599,
          48057,
          16675,
          15935,
          77867,
          24685,
          14461,
          26690,
          18200,
          23503,
          9763,
          11926,
          27037,
          61469,
          26914,
          20651,
          28501,
          79024,
          18344,
          36036,
          16434,
          24151,
          8444,
          31169
         ],
         "xaxis": "x",
         "y": [
          6980,
          8560,
          3370,
          5290,
          7870,
          3040,
          4370,
          4430,
          2700,
          11464,
          13669.6,
          5132,
          3228,
          11529,
          12942,
          4431.3,
          21657,
          6614,
          11005,
          5719,
          27239.8,
          6822,
          9620,
          6338.9,
          2125,
          21927.8,
          11704,
          8708.6,
          8063,
          2778,
          16517.6,
          11474,
          9093.9,
          4907,
          2944,
          1390,
          19320.7,
          10316,
          10364,
          -1877,
          4889,
          3417,
          1646,
          1722.3,
          40994.1,
          11091,
          11513.8,
          3783,
          4017,
          7787,
          2692.5,
          -4556,
          10002,
          21053,
          11644,
          6500,
          4142,
          5537,
          2157,
          2979,
          13041.7,
          22735,
          2795,
          2919.2,
          2638,
          4943,
          4048,
          487,
          2297,
          18676.1,
          4332,
          4051,
          20899,
          3953,
          5568,
          6728,
          3857,
          3197,
          2490,
          2964.1,
          4030.1,
          23626.9,
          9753,
          6094,
          7830,
          19868,
          7736,
          9986,
          3162,
          6550,
          1282,
          9024
         ],
         "yaxis": "y"
        },
        {
         "hovertemplate": "<b>%{hovertext}</b><br><br>Industry=Health Care Equipment & Services<br>Sales=%{x}<br>Profits=%{y}<br>Market_Value=%{marker.size}<extra></extra>",
         "hovertext": [
          "Abbott Laboratories",
          "UnitedHealth Group",
          "Medtronic",
          "Abbott Laboratories",
          "Medtronic",
          "Baxter International",
          "UnitedHealth Group",
          "Abbott Laboratories",
          "Medtronic",
          "UnitedHealth Group",
          "Baxter International",
          "Johnson & Johnson",
          "Abbott Laboratories",
          "UnitedHealth Group",
          "Medtronic",
          "Johnson & Johnson",
          "Abbott Laboratories",
          "UnitedHealth Group",
          "Medtronic",
          "Johnson & Johnson",
          "UnitedHealth Group",
          "Abbott Laboratories",
          "Express Scripts",
          "Medtronic",
          "Johnson & Johnson",
          "UnitedHealth Group",
          "Medtronic",
          "Abbott Laboratories",
          "Express Scripts",
          "Johnson & Johnson",
          "UnitedHealth Group",
          "Medtronic",
          "Abbott Laboratories",
          "Express Scripts",
          "Thermo Fisher Scientific",
          "Johnson & Johnson",
          "UnitedHealth Group",
          "Medtronic",
          "Abbott Laboratories",
          "Thermo Fisher Scientific",
          "Express Scripts",
          "Johnson & Johnson",
          "UnitedHealth Group",
          "Medtronic",
          "Abbott Laboratories",
          "Thermo Fisher Scientific",
          "Johnson & Johnson",
          "UnitedHealth Group",
          "Medtronic",
          "Abbott Laboratories",
          "Thermo Fisher Scientific",
          "Stryker",
          "Becton Dickinson",
          "Anthem",
          "Abbott Laboratories",
          "Medtronic",
          "Thermo Fisher Scientific",
          "Stryker",
          "Becton Dickinson",
          "Intuitive Surgical",
          "Abbott Laboratories",
          "Thermo Fisher Scientific",
          "Medtronic",
          "Stryker",
          "Becton Dickinson",
          "Intuitive Surgical",
          "EssilorLuxottica",
          "Boston Scientific",
          "Abbott Laboratories",
          "Thermo Fisher Scientific",
          "Medtronic",
          "Stryker",
          "Intuitive Surgical",
          "Thermo Fisher Scientific",
          "Abbott Laboratories",
          "Medtronic",
          "Stryker",
          "Intuitive Surgical",
          "EssilorLuxottica",
          "Edwards Lifesciences",
          "Becton Dickinson"
         ],
         "legendgroup": "Health Care Equipment & Services",
         "marker": {
          "color": "#FF6692",
          "size": [
           82770,
           58160,
           55810,
           73160,
           33120,
           31250,
           23890,
           84290,
           48520,
           39400,
           34510,
           163265,
           74996,
           47674,
           40722,
           178760,
           93429,
           58090,
           41291,
           221361,
           56094,
           53623,
           48922,
           46047,
           277006,
           80955,
           61660,
           59362,
           59041,
           275720,
           112006,
           110243,
           69866,
           61860,
           52970,
           312575,
           127514,
           110668,
           64940,
           57782,
           46543,
           338644,
           160185,
           110017,
           75738,
           59899,
           341277,
           228983,
           115965,
           107400,
           87123,
           63337,
           60185,
           59219,
           129838,
           112952,
           103903,
           67256,
           61317,
           60918,
           162893,
           132182,
           130841,
           69879,
           68479,
           59578,
           53888,
           52442,
           220290,
           193726,
           169736,
           96764,
           96190,
           219707,
           210983,
           144618,
           93787,
           90639,
           79454,
           73552,
           72628
          ],
          "sizemode": "area",
          "sizeref": 6600.79,
          "symbol": "circle"
         },
         "mode": "markers",
         "name": "Health Care Equipment & Services",
         "showlegend": true,
         "type": "scattergl",
         "x": [
          25910,
          75430,
          12930,
          29530,
          14630,
          12350,
          81190,
          30760,
          15450,
          87140,
          12560,
          61587,
          35167,
          94155,
          15833,
          65030,
          38851,
          101862,
          16182,
          67224,
          110618,
          39874,
          93858,
          16427,
          71263,
          122497,
          16900,
          21848,
          104185,
          74155,
          130500,
          17367,
          21255,
          100887,
          16890,
          70236,
          165885,
          28570,
          20393,
          16965,
          101752,
          71937,
          184871,
          29361,
          20853,
          18274,
          78662,
          207624,
          29725,
          28445,
          22006,
          12730,
          13503,
          90114,
          30723,
          30555,
          24358,
          13601,
          17062,
          3724,
          32095,
          25647,
          31062,
          14956,
          17354,
          4604,
          19464,
          10786,
          34608,
          32218,
          27927,
          14351,
          4358,
          39211,
          44514,
          31785,
          17108,
          5906,
          23427,
          5232,
          19927
         ],
         "xaxis": "x",
         "y": [
          3610,
          4650,
          2230,
          4880,
          2850,
          2009.9999999999998,
          2980,
          5750,
          2270,
          3820,
          2210,
          13334,
          4626.2,
          4634,
          3274,
          9672,
          4728.5,
          5142,
          3402,
          10853,
          5526,
          5963,
          1312.9,
          3489,
          13831,
          5625,
          3586,
          2576,
          1792.3,
          16323,
          5619,
          2909,
          2284,
          2007.6,
          1894.4,
          15381,
          6011,
          2434,
          2411,
          1975.4,
          2476.4,
          16375,
          7237,
          3969,
          1375,
          2021.8,
          1245,
          11222,
          2807,
          466,
          2252.5,
          1019,
          47,
          4145.4,
          2609,
          4919,
          2938,
          3553,
          1046,
          1128,
          3539,
          3669,
          5315,
          2164,
          899,
          1386.3,
          1205.4,
          4287,
          4452,
          6375,
          2892,
          1599,
          1060.6,
          7725,
          7704,
          4914,
          1994,
          1643.9,
          1729.2,
          1503.1,
          1766
         ],
         "yaxis": "y"
        },
        {
         "hovertemplate": "<b>%{hovertext}</b><br><br>Industry=Transportation<br>Sales=%{x}<br>Profits=%{y}<br>Market_Value=%{marker.size}<extra></extra>",
         "hovertext": [
          "United Parcel Service",
          "Mxller-Maersk",
          "China Cosco Holdings",
          "United Parcel Service",
          "East Japan Railway",
          "United Parcel Service",
          "Union Pacific",
          "Mxller-Maersk",
          "Union Pacific",
          "Møller-Maersk",
          "Union Pacific",
          "Union Pacific",
          "Canadian National Railway",
          "Union Pacific",
          "Møller-Maersk",
          "Union Pacific",
          "Canadian National Railway",
          "Union Pacific",
          "Canadian National Railway",
          "Union Pacific",
          "Canadian National Railway",
          "Union Pacific",
          "Canadian National Railway",
          "Union Pacific",
          "United Parcel Service",
          "Canadian National Railway",
          "CSX",
          "Union Pacific",
          "United Parcel Service",
          "Canadian National Railway",
          "CSX",
          "United Parcel Service",
          "Union Pacific",
          "Canadian National Railway",
          "FedEx",
          "United Parcel Service",
          "Union Pacific",
          "Canadian National Railway",
          "CSX"
         ],
         "legendgroup": "Transportation",
         "marker": {
          "color": "#B6E880",
          "size": [
           73810,
           45660,
           44950,
           40990,
           23920,
           58430,
           34210,
           33770,
           46532,
           40457,
           54320,
           66495,
           42674,
           85751,
           51670,
           93485,
           53492,
           75382,
           51559,
           86811,
           55897,
           109652,
           58419,
           125620,
           98268,
           67891,
           63900,
           108428,
           81285,
           58825,
           50697,
           155998,
           148482,
           84494,
           76310,
           163027,
           147231,
           86335,
           75339
          ],
          "sizemode": "area",
          "sizeref": 6600.79,
          "symbol": "circle"
         },
         "mode": "markers",
         "name": "Transportation",
         "showlegend": true,
         "type": "scattergl",
         "x": [
          49690,
          46830,
          6400,
          51490,
          27090,
          45300,
          14140,
          48700,
          16965,
          56604,
          19557,
          20926,
          9963,
          21963,
          47394,
          23988,
          10986,
          21028,
          9857,
          19941,
          9085,
          21583,
          10151,
          22832,
          71911,
          11049,
          12387,
          21553,
          74815,
          11210,
          11779,
          84432,
          19533,
          10303,
          78652,
          97204,
          22663,
          11547,
          13122
         ],
         "xaxis": "x",
         "y": [
          380,
          2750,
          250,
          3000,
          1900,
          2150,
          1900,
          -1320,
          2780,
          4747.9,
          3292,
          3943,
          2691.6,
          4388,
          3555.5,
          5180,
          2867.5,
          4600,
          2765.4,
          4233,
          2747.3,
          10950,
          4161.3,
          5966,
          4791,
          3339,
          3448,
          6002,
          4294,
          3337.1,
          3267,
          1427,
          5349,
          2655.6,
          3023,
          12890,
          6812,
          3901.9,
          3934
         ],
         "yaxis": "y"
        },
        {
         "hovertemplate": "<b>%{hovertext}</b><br><br>Industry=Aerospace & Defense<br>Sales=%{x}<br>Profits=%{y}<br>Market_Value=%{marker.size}<extra></extra>",
         "hovertext": [
          "Boeing",
          "Lockheed Martin",
          "Boeing",
          "Boeing",
          "Boeing",
          "Boeing",
          "Boeing",
          "EADS",
          "Boeing",
          "EADS",
          "Lockheed Martin",
          "Boeing",
          "Lockheed Martin",
          "EADS",
          "Boeing",
          "Lockheed Martin",
          "EADS",
          "Boeing",
          "Lockheed Martin",
          "AIRBUS",
          "General Dynamics",
          "Boeing",
          "Lockheed Martin",
          "AIRBUS",
          "Raytheon",
          "General Dynamics",
          "Boeing",
          "AIRBUS",
          "Lockheed Martin",
          "Safran",
          "Lockheed Martin",
          "Boeing",
          "Raytheon Technologies",
          "Northrop Grumman",
          "Boeing",
          "Raytheon Technologies",
          "Lockheed Martin",
          "AIRBUS",
          "Raytheon Technologies",
          "Lockheed Martin",
          "Boeing",
          "AIRBUS"
         ],
         "legendgroup": "Aerospace & Defense",
         "marker": {
          "color": "#FF97FF",
          "size": [
           63320,
           24950,
           22830,
           48450,
           52748,
           56078,
           65355,
           46036,
           95312,
           56938,
           52268,
           105627,
           63424,
           52437,
           85321,
           69294,
           50877,
           108756,
           78319,
           59472,
           57046,
           199511,
           92523,
           92149,
           61423,
           60571,
           214543,
           104873,
           88875,
           56724,
           109106,
           79581,
           56136,
           55124,
           144848,
           118584,
           109202,
           97573,
           149757,
           118818,
           104451,
           88600
          ],
          "sizemode": "area",
          "sizeref": 6600.79,
          "symbol": "circle"
         },
         "mode": "markers",
         "name": "Aerospace & Defense",
         "showlegend": true,
         "type": "scattergl",
         "x": [
          66390,
          42730,
          60910,
          68280,
          64306,
          68735,
          81698,
          74512,
          86623,
          78669,
          45358,
          90784,
          45600,
          80532,
          96114,
          46132,
          71470,
          94571,
          49919,
          73652,
          31353,
          95798,
          51626,
          74672,
          25615,
          31067,
          101127,
          75158,
          53762,
          24804,
          61127,
          70556,
          77097,
          34272,
          58161,
          63519,
          65398,
          56898,
          64360,
          65750,
          62286,
          61639
         ],
         "xaxis": "x",
         "y": [
          4070.0000000000005,
          3220,
          2670,
          1310,
          3307,
          4018,
          3900,
          1620,
          4579,
          1945,
          2981,
          5441,
          3614,
          3107.9,
          5172,
          3605,
          2989.6,
          4890,
          3753,
          1100.7,
          2968,
          9216,
          2396,
          2976.5,
          2151,
          2948,
          10453,
          3603,
          5046,
          1514,
          6243,
          -3414,
          5537,
          2253,
          -11873,
          -3519,
          6833,
          -1291.6,
          3864,
          6211,
          -4202,
          4979.7
         ],
         "yaxis": "y"
        },
        {
         "hovertemplate": "<b>%{hovertext}</b><br><br>Industry=Food Markets<br>Sales=%{x}<br>Profits=%{y}<br>Market_Value=%{marker.size}<extra></extra>",
         "hovertext": [
          "Tesco",
          "Carrefour Group",
          "Tesco",
          "Carrefour Group",
          "Woolworths",
          "Tesco",
          "Tesco",
          "Tesco",
          "Wesfarmers",
          "Tesco",
          "Woolworths"
         ],
         "legendgroup": "Food Markets",
         "marker": {
          "color": "#FECB52",
          "size": [
           62410,
           49950,
           37500,
           23290,
           20470,
           51430,
           50481,
           41713,
           51932,
           46940,
           46307
          ],
          "sizemode": "area",
          "sizeref": 6600.79,
          "symbol": "circle"
         },
         "mode": "markers",
         "name": "Food Markets",
         "showlegend": true,
         "type": "scattergl",
         "x": [
          83610,
          112400,
          93850,
          121040,
          45010,
          77940,
          79621,
          99075,
          59043,
          102769,
          56428
         ],
         "xaxis": "x",
         "y": [
          3710,
          3150,
          4210,
          1770,
          1560,
          3100,
          3542.4,
          4317.1,
          2176.1,
          4468,
          1859.5
         ],
         "yaxis": "y"
        },
        {
         "hovertemplate": "<b>%{hovertext}</b><br><br>Industry=Hotels, Restaurants & Leisure<br>Sales=%{x}<br>Profits=%{y}<br>Market_Value=%{marker.size}<extra></extra>",
         "hovertext": [
          "McDonald's",
          "McDonald's",
          "McDonald's",
          "McDonald's",
          "McDonald's",
          "Starbucks",
          "McDonald's",
          "Starbucks",
          "McDonald's",
          "Starbucks",
          "McDonald's",
          "Starbucks",
          "McDonald's",
          "Starbucks",
          "McDonald's",
          "Starbucks",
          "McDonald's",
          "Starbucks",
          "McDonald's",
          "Starbucks",
          "McDonald's",
          "Starbucks",
          "McDonald's",
          "Starbucks",
          "McDonald's",
          "Starbucks"
         ],
         "legendgroup": "Hotels, Restaurants & Leisure",
         "marker": {
          "color": "#636efa",
          "size": [
           62320,
           58190,
           69050,
           80052,
           99472,
           40088,
           99948,
           43205,
           96909,
           55944,
           92537,
           70871,
           110148,
           85257,
           106436,
           84558,
           129860,
           79033,
           148813,
           94588,
           139454,
           89628,
           173778,
           139322,
           185027,
           89631
          ],
          "sizemode": "area",
          "sizeref": 6600.79,
          "symbol": "circle"
         },
         "mode": "markers",
         "name": "Hotels, Restaurants & Leisure",
         "showlegend": true,
         "type": "scattergl",
         "x": [
          22790,
          23520,
          22740,
          24075,
          27006,
          12186,
          27567,
          13663,
          28106,
          15332,
          27441,
          17006,
          25358,
          20156,
          24622,
          21672,
          22283,
          23466,
          21025,
          25277,
          20835,
          26656,
          19208,
          23168,
          23223,
          30358
         ],
         "xaxis": "x",
         "y": [
          2400,
          4310,
          4550,
          4946.3,
          5503.1,
          1281.3,
          5464.8,
          1434.2,
          5585.9,
          8.3,
          4757.8,
          2510.5,
          4816.4,
          2541.9,
          4660.3,
          2882,
          5352.9,
          4390.4,
          5924,
          3029,
          5803.9,
          3389.8,
          4730.5,
          664.8,
          7545.2,
          4393.1
         ],
         "yaxis": "y"
        },
        {
         "hovertemplate": "<b>%{hovertext}</b><br><br>Industry=Media<br>Sales=%{x}<br>Profits=%{y}<br>Market_Value=%{marker.size}<extra></extra>",
         "hovertext": [
          "Walt Disney",
          "Comcast",
          "News Corp",
          "Time Warner",
          "Vivendi",
          "Comcast",
          "Walt Disney",
          "Vivendi",
          "Time Warner",
          "DirecTV Group",
          "Walt Disney",
          "Comcast",
          "News Corp",
          "Time Warner",
          "Walt Disney",
          "Comcast",
          "News Corp",
          "Comcast",
          "Walt Disney",
          "News Corp",
          "Comcast",
          "Walt Disney",
          "News Corp",
          "Time Warner",
          "Walt Disney",
          "Comcast",
          "Twenty-First Century Fox, Inc.",
          "Time Warner",
          "Walt Disney",
          "Comcast",
          "Twenty-First Century Fox, Inc.",
          "Time Warner",
          "Naspers",
          "Walt Disney",
          "Comcast",
          "Time Warner",
          "Naspers",
          "Twenty-First Century Fox",
          "Time Warner Cable",
          "Comcast",
          "Walt Disney",
          "Charter Communications",
          "Time Warner",
          "Naspers",
          "Twenty-First Century Fox",
          "Walt Disney",
          "Comcast",
          "Naspers",
          "Twenty-First Century Fox",
          "Charter Communications",
          "Nintendo",
          "Walt Disney",
          "Comcast",
          "Netflix",
          "Naspers",
          "Charter Communications",
          "Walt Disney",
          "Netflix",
          "Comcast",
          "Charter Communications",
          "Naspers",
          "Walt Disney",
          "Comcast",
          "Netflix",
          "Charter Communications",
          "Naspers",
          "Walt Disney",
          "Comcast",
          "Charter Communications",
          "Netflix"
         ],
         "legendgroup": "Media",
         "marker": {
          "color": "#EF553B",
          "size": [
           61030,
           58840,
           57570,
           55830,
           46360,
           37620,
           31130,
           28190,
           27370,
           20280,
           61170,
           47760,
           37930,
           34050,
           81527,
           68653,
           45525,
           79825,
           77412,
           49506,
           106268,
           103957,
           70595,
           52956,
           142915,
           130005,
           74563,
           58942,
           179525,
           147768,
           72454,
           70827,
           67149,
           169308,
           148187,
           60565,
           59999,
           59323,
           57065,
           193528,
           178017,
           101619,
           76241,
           75355,
           57505,
           152137,
           146792,
           112824,
           70286,
           64782,
           59796,
           238095,
           192037,
           157329,
           111321,
           80848,
           195258,
           184652,
           171749,
           103986,
           67754,
           339926,
           252440,
           242060,
           124834,
           106127,
           215326,
           205718,
           97924,
           95683
          ],
          "sizemode": "area",
          "sizeref": 6600.79,
          "symbol": "circle"
         },
         "mode": "markers",
         "name": "Media",
         "showlegend": true,
         "type": "scattergl",
         "x": [
          36380,
          30900,
          30550,
          46480,
          31620,
          34260,
          36990,
          35340,
          46980,
          19690,
          36290,
          35760,
          30930,
          25790,
          39040,
          37937,
          33082,
          55842,
          40956,
          34152,
          62570,
          42840,
          34333,
          28729,
          45968,
          64657,
          31974,
          29795,
          49781,
          68775,
          32606,
          28101,
          6459,
          53902,
          74510,
          28118,
          6363,
          26514,
          23697,
          80403,
          54943,
          29003,
          29318,
          5930,
          28062,
          56826,
          86854,
          6248,
          29207,
          42074,
          9525,
          59402,
          94507,
          15794,
          6891,
          43634,
          74822,
          21403,
          108692,
          45764,
          3291,
          60409,
          103564,
          24996,
          48097,
          4783,
          72982,
          116385,
          51682,
          30402
         ],
         "xaxis": "x",
         "y": [
          4240,
          2590,
          3330,
          4390,
          3830,
          2550,
          4019.9999999999995,
          3620,
          -13400,
          1520,
          3310,
          3640,
          3350,
          2440,
          4421,
          3635,
          3131,
          4160,
          4969,
          3013,
          6203,
          5600,
          3998,
          3019,
          6594,
          6816,
          4945,
          3641,
          7843,
          8380,
          9296,
          3816,
          1094.2,
          9080,
          8163,
          3824,
          1087.3,
          2409,
          1825,
          8695,
          8990,
          3522,
          3916,
          994,
          3085,
          11473,
          23266,
          3483.2,
          4020,
          9908,
          1259,
          10963,
          11731,
          1211,
          13534,
          1230,
          10373,
          2231.9,
          11651,
          1668,
          4412,
          -4954,
          10534,
          2761.4,
          3222,
          3103.7,
          3082,
          14159,
          4654,
          5007
         ],
         "yaxis": "y"
        },
        {
         "hovertemplate": "<b>%{hovertext}</b><br><br>Industry=Trading Companies<br>Sales=%{x}<br>Profits=%{y}<br>Market_Value=%{marker.size}<extra></extra>",
         "hovertext": [
          "Mitsubishi",
          "Mitsubishi Corp",
          "Mitsubishi Corp",
          "Mitsubishi Corp",
          "Mitsubishi Corp"
         ],
         "legendgroup": "Trading Companies",
         "marker": {
          "color": "#00cc96",
          "size": [
           53090,
           20890,
           42640,
           44801,
           39695
          ],
          "sizemode": "area",
          "sizeref": 6600.79,
          "symbol": "circle"
         },
         "mode": "markers",
         "name": "Trading Companies",
         "showlegend": true,
         "type": "scattergl",
         "x": [
          43290,
          60430,
          63120,
          48594,
          62639
         ],
         "xaxis": "x",
         "y": [
          3540,
          4640,
          3800,
          2922.7,
          5572.1
         ],
         "yaxis": "y"
        },
        {
         "hovertemplate": "<b>%{hovertext}</b><br><br>Industry=Capital Goods<br>Sales=%{x}<br>Profits=%{y}<br>Market_Value=%{marker.size}<extra></extra>",
         "hovertext": [
          "Caterpillar",
          "Caterpillar",
          "Caterpillar",
          "Schneider Electric",
          "Caterpillar",
          "Fanuc",
          "Caterpillar",
          "Schneider Electric",
          "Caterpillar",
          "Schneider Electric",
          "Fanuc",
          "Caterpillar",
          "Caterpillar",
          "Caterpillar",
          "Caterpillar",
          "Illinois Tool Works",
          "Schneider Electric",
          "Caterpillar",
          "Deere & Company",
          "Contemporary Amperex Technology",
          "Schneider Electric",
          "Atlas Copco",
          "Contemporary Amperex Technology",
          "Deere & Company",
          "Caterpillar",
          "Schneider Electric"
         ],
         "legendgroup": "Capital Goods",
         "marker": {
          "color": "#ab63fa",
          "size": [
           45130,
           36140,
           63895,
           43278,
           73547,
           43630,
           58188,
           42162,
           63661,
           50736,
           53128,
           56021,
           92592,
           82510,
           62989,
           51597,
           50363,
           127252,
           120069,
           117730,
           91308,
           80390,
           148424,
           123809,
           115913,
           85355
          ],
          "sizemode": "area",
          "sizeref": 6600.79,
          "symbol": "circle"
         },
         "mode": "markers",
         "name": "Capital Goods",
         "showlegend": true,
         "type": "scattergl",
         "x": [
          44960,
          32400,
          42588,
          26212,
          60138,
          5368,
          65875,
          31591,
          55656,
          31267,
          6142,
          38537,
          48499,
          54722,
          50959,
          14109,
          30397,
          41746,
          37038,
          6309,
          28681,
          10841,
          20137,
          44455,
          50984,
          34165
         ],
         "xaxis": "x",
         "y": [
          3540,
          900,
          2700,
          2302.6,
          4928,
          1445.5,
          5681,
          2427.4,
          3789,
          2506.5,
          1731.7,
          -67,
          2227,
          6147,
          5304,
          2521,
          2700.7,
          2998,
          3458,
          635.5,
          2423.6,
          1605.6,
          2470.2,
          5643,
          6489,
          3787.1
         ],
         "yaxis": "y"
        },
        {
         "hovertemplate": "<b>%{hovertext}</b><br><br>Industry=Business Services & Supplies<br>Sales=%{x}<br>Profits=%{y}<br>Market_Value=%{marker.size}<extra></extra>",
         "hovertext": [
          "Canon",
          "Canon",
          "Canon",
          "Priceline.com",
          "Alibaba",
          "The Priceline Group",
          "Alibaba",
          "The Priceline Group",
          "Alibaba",
          "Booking Holdings",
          "Booking Holdings",
          "Visa",
          "Mastercard",
          "PayPal",
          "Booking Holdings",
          "Automatic Data Processing",
          "Visa",
          "Mastercard",
          "PayPal",
          "Fidelity National Information",
          "S&P Global",
          "Fiserv",
          "Automatic Data Processing",
          "Booking Holdings",
          "Visa",
          "Mastercard",
          "PayPal",
          "AirBnB",
          "Booking Holdings",
          "Fidelity National Information",
          "S&P Global",
          "China International Travel Service",
          "Fiserv",
          "Automatic Data Processing",
          "Recruit Holdings ",
          "Visa",
          "Mastercard",
          "S&P Global",
          "PayPal",
          "AirBnB",
          "Automatic Data Processing",
          "Booking Holdings"
         ],
         "legendgroup": "Business Services & Supplies",
         "marker": {
          "color": "#FFA15A",
          "size": [
           55800,
           61917,
           63459,
           65249,
           201687,
           61548,
           200718,
           66412,
           264865,
           87009,
           99874,
           351882,
           247132,
           125846,
           83018,
           70764,
           383947,
           276081,
           144266,
           81473,
           70555,
           69703,
           63047,
           60600,
           483900,
           383607,
           316898,
           107077,
           101679,
           94948,
           91072,
           85563,
           83386,
           82567,
           77264,
           436494,
           343270,
           131752,
           100225,
           98910,
           93888,
           90520
          ],
          "sizemode": "area",
          "sizeref": 6600.79,
          "symbol": "circle"
         },
         "mode": "markers",
         "name": "Business Services & Supplies",
         "showlegend": true,
         "type": "scattergl",
         "x": [
          34530,
          45669,
          46211,
          6793,
          11477,
          8442,
          14964,
          9224,
          21493,
          10743,
          13190,
          21253,
          14950,
          15481,
          14527,
          13841,
          23525,
          17003,
          17534,
          10332,
          6914,
          10187,
          14712,
          15066,
          21479,
          15301,
          21434,
          3378,
          6796,
          12553,
          7442,
          6665,
          14852,
          14591,
          21036,
          25477,
          18883,
          8297,
          25561,
          5992,
          15697,
          10958
         ],
         "xaxis": "x",
         "y": [
          1460,
          3038.1,
          3229.7,
          1892.7,
          4357.8,
          2421.8,
          10993.8,
          2551.4,
          5713.6,
          2135,
          2492.4,
          10378,
          5859,
          2057,
          3998,
          1815,
          11932,
          7949,
          2459,
          298,
          2352,
          893,
          2530.4,
          4865,
          10359,
          6411,
          4202,
          -4584.7,
          59,
          157,
          2340,
          513.4,
          958,
          2482,
          1226.3,
          12840,
          8687,
          3025,
          4169,
          -352,
          2743.8,
          1165
         ],
         "yaxis": "y"
        },
        {
         "hovertemplate": "<b>%{hovertext}</b><br><br>Industry=Diversified Metals & Mining<br>Sales=%{x}<br>Profits=%{y}<br>Market_Value=%{marker.size}<extra></extra>",
         "hovertext": [
          "BHP Billiton",
          "Vale",
          "Rio Tinto",
          "China Shenhua Energy",
          "Anglo American",
          "Xstrata",
          "ArcelorMittal",
          "Barrick Gold",
          "Freeport Copper",
          "Coal India",
          "Norilsk Nickel",
          "BHP Billiton",
          "Vale",
          "Rio Tinto",
          "China Shenhua Energy",
          "Anglo American",
          "Xstrata",
          "Glencore International",
          "Barrick Gold",
          "Coal India",
          "BHP Billiton",
          "Rio Tinto",
          "Vale",
          "China Shenhua Energy",
          "Xstrata",
          "BHP Billiton",
          "Rio Tinto",
          "Vale",
          "Glencore International",
          "China Shenhua Energy",
          "BHP Billiton",
          "Rio Tinto",
          "China Shenhua Energy",
          "Glencore International",
          "BHP Billiton",
          "Rio Tinto",
          "BHP Billiton",
          "Rio Tinto",
          "Glencore International",
          "China Shenhua Energy",
          "BHP Billiton",
          "Rio Tinto",
          "Vale",
          "Glencore International",
          "China Shenhua Energy"
         ],
         "legendgroup": "Diversified Metals & Mining",
         "marker": {
          "color": "#19d3f3",
          "size": [
           231481,
           162498,
           131638,
           82273,
           66216,
           64095,
           53583,
           50505,
           46833,
           46062,
           45094,
           187531,
           126842,
           110184,
           84186,
           54895,
           54817,
           45875,
           44019,
           43076,
           184746,
           98481,
           92694,
           70764,
           52053,
           182321,
           103820,
           71449,
           67537,
           57563,
           119547,
           76526,
           63774,
           54869,
           80324,
           62821,
           98308,
           72901,
           57278,
           54095,
           133205,
           99306,
           77407,
           75479,
           64620
          ],
          "sizemode": "area",
          "sizeref": 6600.79,
          "symbol": "circle"
         },
         "mode": "markers",
         "name": "Diversified Metals & Mining",
         "showlegend": true,
         "type": "scattergl",
         "x": [
          52798,
          50136,
          56576,
          23076,
          28352,
          30499,
          78025,
          10924,
          18982,
          10415,
          10635,
          71739,
          55392,
          60537,
          33079,
          29510,
          32692,
          179640,
          14312,
          11812,
          72226,
          50967,
          45671,
          39663,
          32279,
          67671,
          51153,
          47618,
          232629,
          42778,
          63096,
          47641,
          39638,
          220934,
          30463,
          34835,
          33950,
          33926,
          153691,
          26455,
          41234,
          40002,
          34094,
          205384,
          36431
         ],
         "xaxis": "x",
         "y": [
          12722,
          18114.5,
          14324,
          5787,
          6635.9,
          4688,
          2916,
          3274,
          4336,
          2193.9,
          2723,
          23648,
          20297.4,
          5826,
          7257,
          5953.2,
          5513.1,
          3906.4,
          4484,
          2438,
          15417,
          -2990,
          4754,
          7743,
          1204.7,
          14803.9,
          3662.8,
          53.3,
          -7538.6,
          7237.2,
          9967,
          6495.4,
          5971.8,
          2292.5,
          -6080.7,
          -858.2,
          2433.6,
          4683.5,
          -453.3,
          3416,
          4712,
          8714.4,
          4614,
          5757.8,
          6709
         ],
         "yaxis": "y"
        },
        {
         "hovertemplate": "<b>%{hovertext}</b><br><br>Industry=Telecommunications services<br>Sales=%{x}<br>Profits=%{y}<br>Market_Value=%{marker.size}<extra></extra>",
         "hovertext": [
          "China Mobile",
          "AT&T",
          "Vodafone",
          "Telefónica",
          "América Móvil",
          "Verizon Communications",
          "Nippon Telegraph & Tel",
          "Deutsche Telekom",
          "France Telecom",
          "China Telecom",
          "Softbank",
          "China Mobile",
          "AT&T",
          "Vodafone",
          "Verizon Communications",
          "América Móvil",
          "Telefónica",
          "Nippon Telegraph & Tel",
          "Deutsche Telekom",
          "China Telecom",
          "Telstra",
          "China Unicom",
          "SingTel",
          "France Telecom",
          "China Mobile",
          "AT&T",
          "Verizon Communications",
          "Vodafone",
          "América Móvil",
          "Telefónica",
          "Telstra",
          "Nippon Telegraph & Tel",
          "Deutsche Telekom",
          "Softbank",
          "SingTel",
          "China Telecom",
          "Verizon Communications",
          "China Mobile",
          "AT&T",
          "Vodafone",
          "Softbank",
          "Telefónica",
          "Deutsche Telekom",
          "América Móvil",
          "Nippon Telegraph & Tel",
          "Telstra",
          "BT Group",
          "China Mobile",
          "Verizon Communications",
          "AT&T",
          "Vodafone",
          "Deutsche Telekom",
          "América Móvil",
          "Telefónica",
          "Nippon Telegraph & Tel",
          "Softbank",
          "KDDI",
          "Telstra",
          "BT Group",
          "China Telecom",
          "SingTel",
          "China Mobile",
          "AT&T",
          "Verizon Communications",
          "Nippon Telegraph & Tel",
          "Vodafone",
          "Deutsche Telekom",
          "KDDI",
          "Softbank",
          "BT Group",
          "Telefónica",
          "América Móvil",
          "Telstra",
          "SingTel",
          "AT&T",
          "China Mobile",
          "Verizon Communications",
          "Nippon Telegraph & Tel",
          "Deutsche Telekom",
          "Softbank",
          "KDDI",
          "Vodafone",
          "Telefónica",
          "Verizon Communications",
          "AT&T",
          "China Mobile",
          "Nippon Telegraph & Tel",
          "Softbank",
          "Deutsche Telekom",
          "Vodafone",
          "KDDI"
         ],
         "legendgroup": "Telecommunications services",
         "marker": {
          "color": "#FF6692",
          "size": [
           192069,
           168239,
           148214,
           113256,
           110080,
           101349,
           70348,
           60735,
           56711,
           47181,
           43524,
           216510,
           187289,
           131161,
           112202,
           93444,
           75583,
           60816,
           50470,
           47230,
           42935,
           41711,
           39528,
           39298,
           213824,
           200059,
           137289,
           135675,
           70741,
           67110,
           58405,
           58229,
           48420,
           47188,
           45728,
           42030,
           197739,
           184573,
           182708,
           96897,
           91219,
           71823,
           71196,
           70942,
           60960,
           58096,
           50045,
           271486,
           202490,
           172988,
           88035,
           85013,
           74516,
           72318,
           71531,
           70286,
           64026,
           59101,
           55413,
           53869,
           52136,
           240997,
           234177,
           206244,
           94540,
           87289,
           81762,
           81631,
           67137,
           62441,
           55197,
           51930,
           50828,
           46722,
           249286,
           225308,
           198352,
           92230,
           80001,
           78632,
           68324,
           67036,
           55893,
           200893,
           198293,
           192632,
           96119,
           84919,
           80831,
           75957,
           65526
          ],
          "sizemode": "area",
          "sizeref": 6600.79,
          "symbol": "circle"
         },
         "mode": "markers",
         "name": "Telecommunications services",
         "showlegend": true,
         "type": "scattergl",
         "x": [
          71751,
          124280,
          67484,
          81308,
          49188,
          106565,
          108941,
          83562,
          60914,
          32488,
          29568,
          81706,
          126723,
          73532,
          110875,
          47665,
          81395,
          123969,
          75976,
          38933,
          26777,
          25330,
          14330,
          58649,
          88819,
          127434,
          115846,
          74386,
          60238,
          82264,
          25826,
          126929,
          76740,
          38685,
          14964,
          44864,
          120550,
          102525,
          128752,
          65095,
          55624,
          75755,
          79832,
          61578,
          110672,
          24684,
          28642,
          104086,
          127079,
          132447,
          66306,
          83112,
          63744,
          66822,
          104700,
          80644,
          42566,
          22906,
          29572,
          52653,
          13427,
          107758,
          146801,
          131807,
          94232,
          64461,
          76768,
          37337,
          74747,
          27335,
          52362,
          56311,
          20248,
          12511,
          163786,
          106763,
          125980,
          104972,
          80857,
          82136,
          43156,
          60839,
          57563,
          127992,
          159219,
          109493,
          104808,
          82636,
          84535,
          48206,
          45492
         ],
         "xaxis": "x",
         "y": [
          17691.1,
          19864,
          13118.4,
          13610.5,
          7349.3,
          2549,
          5267.2,
          2269.1,
          6532.8,
          2328.6,
          1034.9,
          19478.1,
          3944,
          12769.2,
          2404,
          5920.7,
          6998.7,
          6130.8,
          721.5,
          2622,
          3463,
          569.4,
          3033.5,
          5045.4,
          20488.4,
          7264,
          875,
          11149,
          7106.8,
          5182,
          3485,
          5649.8,
          -6932.7,
          3790.1,
          3170.7,
          2365,
          11497,
          19789.1,
          18249,
          31763,
          5810,
          6097.8,
          1234.7,
          5845.6,
          5747,
          3780.6,
          3195,
          17724,
          9625,
          6224,
          77401.4,
          3878.5,
          3450.9,
          3982,
          5206.5,
          5840.8,
          3820.1,
          4241.6,
          3311.2,
          2867.6,
          2952.7,
          17124.5,
          13244,
          17970,
          5552.3,
          -2098.7,
          3608.4,
          4009.8,
          4277.8,
          3853.1,
          3044,
          2207.5,
          3180.9,
          2809.4,
          12976,
          16423.4,
          13127,
          7384.6,
          2959.1,
          8307,
          5129.6,
          -9263.8,
          2620.7,
          31196,
          30643,
          16882,
          7740.7,
          9176.6,
          3902.7,
          -19.8,
          5165.7
         ],
         "yaxis": "y"
        },
        {
         "hovertemplate": "<b>%{hovertext}</b><br><br>Industry=Air Courier<br>Sales=%{x}<br>Profits=%{y}<br>Market_Value=%{marker.size}<extra></extra>",
         "hovertext": [
          "United Parcel Service",
          "United Parcel Service",
          "United Parcel Service",
          "United Parcel Service",
          "United Parcel Service",
          "United Parcel Service",
          "United Parcel Service",
          "FedEx",
          "United Parcel Service",
          "FedEx"
         ],
         "legendgroup": "Air Courier",
         "marker": {
          "color": "#B6E880",
          "size": [
           73136,
           75162,
           81491,
           89649,
           87376,
           93295,
           91344,
           52312,
           99698,
           67044
          ],
          "sizemode": "area",
          "sizeref": 6600.79,
          "symbol": "circle"
         },
         "mode": "markers",
         "name": "Air Courier",
         "showlegend": true,
         "type": "scattergl",
         "x": [
          49545,
          53105,
          54127,
          55491,
          58258,
          58050,
          60502,
          57570,
          67705,
          63864
         ],
         "xaxis": "x",
         "y": [
          3488,
          3804,
          807,
          4372,
          3032,
          4844,
          3431,
          1905,
          5097,
          4459
         ],
         "yaxis": "y"
        },
        {
         "hovertemplate": "<b>%{hovertext}</b><br><br>Industry=Real Estate<br>Sales=%{x}<br>Profits=%{y}<br>Market_Value=%{marker.size}<extra></extra>",
         "hovertext": [
          "Sun Hung Kai Properties",
          "Simon Property Group",
          "Simon Property Group",
          "Simon Property Group",
          "Simon Property Group",
          "Simon Property Group",
          "Simon Property Group",
          "American Tower",
          "American Tower"
         ],
         "legendgroup": "Real Estate",
         "marker": {
          "color": "#FF97FF",
          "size": [
           41083,
           43548,
           49483,
           51828,
           62503,
           62546,
           53039,
           52169,
           61329
          ],
          "sizemode": "area",
          "sizeref": 6600.79,
          "symbol": "circle"
         },
         "mode": "markers",
         "name": "Real Estate",
         "showlegend": true,
         "type": "scattergl",
         "x": [
          4264,
          4306,
          4880,
          5157,
          5017,
          5258,
          5426,
          5786,
          6790
         ],
         "xaxis": "x",
         "y": [
          3600.7,
          1024.8,
          1434.5,
          1301,
          1408.6,
          1577.2,
          1754.3,
          956.4,
          1208
         ],
         "yaxis": "y"
        },
        {
         "hovertemplate": "<b>%{hovertext}</b><br><br>Industry=Casinos & Gaming<br>Sales=%{x}<br>Profits=%{y}<br>Market_Value=%{marker.size}<extra></extra>",
         "hovertext": [
          "Las Vegas Sands",
          "Las Vegas Sands",
          "Las Vegas Sands",
          "Las Vegas Sands"
         ],
         "legendgroup": "Casinos & Gaming",
         "marker": {
          "color": "#FECB52",
          "size": [
           41548,
           44129,
           67240,
           61667
          ],
          "sizemode": "area",
          "sizeref": 6600.79,
          "symbol": "circle"
         },
         "mode": "markers",
         "name": "Casinos & Gaming",
         "showlegend": true,
         "type": "scattergl",
         "x": [
          9411,
          11131,
          13770,
          13355
         ],
         "xaxis": "x",
         "y": [
          1560.1,
          1524.1,
          2306,
          3782
         ],
         "yaxis": "y"
        },
        {
         "hovertemplate": "<b>%{hovertext}</b><br><br>Industry=Construction<br>Sales=%{x}<br>Profits=%{y}<br>Market_Value=%{marker.size}<extra></extra>",
         "hovertext": [
          "VINCI",
          "Alpha Dhabi Holding"
         ],
         "legendgroup": "Construction",
         "marker": {
          "color": "#636efa",
          "size": [
           55821,
           74924
          ],
          "sizemode": "area",
          "sizeref": 6600.79,
          "symbol": "circle"
         },
         "mode": "markers",
         "name": "Construction",
         "showlegend": true,
         "type": "scattergl",
         "x": [
          52088,
          5131
         ],
         "xaxis": "x",
         "y": [
          3519,
          866.2
         ],
         "yaxis": "y"
        }
       ],
       "layout": {
        "legend": {
         "itemsizing": "constant",
         "title": {
          "text": "Industry"
         },
         "tracegroupgap": 0
        },
        "margin": {
         "t": 60
        },
        "template": {
         "data": {
          "bar": [
           {
            "error_x": {
             "color": "#2a3f5f"
            },
            "error_y": {
             "color": "#2a3f5f"
            },
            "marker": {
             "line": {
              "color": "#E5ECF6",
              "width": 0.5
             },
             "pattern": {
              "fillmode": "overlay",
              "size": 10,
              "solidity": 0.2
             }
            },
            "type": "bar"
           }
          ],
          "barpolar": [
           {
            "marker": {
             "line": {
              "color": "#E5ECF6",
              "width": 0.5
             },
             "pattern": {
              "fillmode": "overlay",
              "size": 10,
              "solidity": 0.2
             }
            },
            "type": "barpolar"
           }
          ],
          "carpet": [
           {
            "aaxis": {
             "endlinecolor": "#2a3f5f",
             "gridcolor": "white",
             "linecolor": "white",
             "minorgridcolor": "white",
             "startlinecolor": "#2a3f5f"
            },
            "baxis": {
             "endlinecolor": "#2a3f5f",
             "gridcolor": "white",
             "linecolor": "white",
             "minorgridcolor": "white",
             "startlinecolor": "#2a3f5f"
            },
            "type": "carpet"
           }
          ],
          "choropleth": [
           {
            "colorbar": {
             "outlinewidth": 0,
             "ticks": ""
            },
            "type": "choropleth"
           }
          ],
          "contour": [
           {
            "colorbar": {
             "outlinewidth": 0,
             "ticks": ""
            },
            "colorscale": [
             [
              0,
              "#0d0887"
             ],
             [
              0.1111111111111111,
              "#46039f"
             ],
             [
              0.2222222222222222,
              "#7201a8"
             ],
             [
              0.3333333333333333,
              "#9c179e"
             ],
             [
              0.4444444444444444,
              "#bd3786"
             ],
             [
              0.5555555555555556,
              "#d8576b"
             ],
             [
              0.6666666666666666,
              "#ed7953"
             ],
             [
              0.7777777777777778,
              "#fb9f3a"
             ],
             [
              0.8888888888888888,
              "#fdca26"
             ],
             [
              1,
              "#f0f921"
             ]
            ],
            "type": "contour"
           }
          ],
          "contourcarpet": [
           {
            "colorbar": {
             "outlinewidth": 0,
             "ticks": ""
            },
            "type": "contourcarpet"
           }
          ],
          "heatmap": [
           {
            "colorbar": {
             "outlinewidth": 0,
             "ticks": ""
            },
            "colorscale": [
             [
              0,
              "#0d0887"
             ],
             [
              0.1111111111111111,
              "#46039f"
             ],
             [
              0.2222222222222222,
              "#7201a8"
             ],
             [
              0.3333333333333333,
              "#9c179e"
             ],
             [
              0.4444444444444444,
              "#bd3786"
             ],
             [
              0.5555555555555556,
              "#d8576b"
             ],
             [
              0.6666666666666666,
              "#ed7953"
             ],
             [
              0.7777777777777778,
              "#fb9f3a"
             ],
             [
              0.8888888888888888,
              "#fdca26"
             ],
             [
              1,
              "#f0f921"
             ]
            ],
            "type": "heatmap"
           }
          ],
          "heatmapgl": [
           {
            "colorbar": {
             "outlinewidth": 0,
             "ticks": ""
            },
            "colorscale": [
             [
              0,
              "#0d0887"
             ],
             [
              0.1111111111111111,
              "#46039f"
             ],
             [
              0.2222222222222222,
              "#7201a8"
             ],
             [
              0.3333333333333333,
              "#9c179e"
             ],
             [
              0.4444444444444444,
              "#bd3786"
             ],
             [
              0.5555555555555556,
              "#d8576b"
             ],
             [
              0.6666666666666666,
              "#ed7953"
             ],
             [
              0.7777777777777778,
              "#fb9f3a"
             ],
             [
              0.8888888888888888,
              "#fdca26"
             ],
             [
              1,
              "#f0f921"
             ]
            ],
            "type": "heatmapgl"
           }
          ],
          "histogram": [
           {
            "marker": {
             "pattern": {
              "fillmode": "overlay",
              "size": 10,
              "solidity": 0.2
             }
            },
            "type": "histogram"
           }
          ],
          "histogram2d": [
           {
            "colorbar": {
             "outlinewidth": 0,
             "ticks": ""
            },
            "colorscale": [
             [
              0,
              "#0d0887"
             ],
             [
              0.1111111111111111,
              "#46039f"
             ],
             [
              0.2222222222222222,
              "#7201a8"
             ],
             [
              0.3333333333333333,
              "#9c179e"
             ],
             [
              0.4444444444444444,
              "#bd3786"
             ],
             [
              0.5555555555555556,
              "#d8576b"
             ],
             [
              0.6666666666666666,
              "#ed7953"
             ],
             [
              0.7777777777777778,
              "#fb9f3a"
             ],
             [
              0.8888888888888888,
              "#fdca26"
             ],
             [
              1,
              "#f0f921"
             ]
            ],
            "type": "histogram2d"
           }
          ],
          "histogram2dcontour": [
           {
            "colorbar": {
             "outlinewidth": 0,
             "ticks": ""
            },
            "colorscale": [
             [
              0,
              "#0d0887"
             ],
             [
              0.1111111111111111,
              "#46039f"
             ],
             [
              0.2222222222222222,
              "#7201a8"
             ],
             [
              0.3333333333333333,
              "#9c179e"
             ],
             [
              0.4444444444444444,
              "#bd3786"
             ],
             [
              0.5555555555555556,
              "#d8576b"
             ],
             [
              0.6666666666666666,
              "#ed7953"
             ],
             [
              0.7777777777777778,
              "#fb9f3a"
             ],
             [
              0.8888888888888888,
              "#fdca26"
             ],
             [
              1,
              "#f0f921"
             ]
            ],
            "type": "histogram2dcontour"
           }
          ],
          "mesh3d": [
           {
            "colorbar": {
             "outlinewidth": 0,
             "ticks": ""
            },
            "type": "mesh3d"
           }
          ],
          "parcoords": [
           {
            "line": {
             "colorbar": {
              "outlinewidth": 0,
              "ticks": ""
             }
            },
            "type": "parcoords"
           }
          ],
          "pie": [
           {
            "automargin": true,
            "type": "pie"
           }
          ],
          "scatter": [
           {
            "fillpattern": {
             "fillmode": "overlay",
             "size": 10,
             "solidity": 0.2
            },
            "type": "scatter"
           }
          ],
          "scatter3d": [
           {
            "line": {
             "colorbar": {
              "outlinewidth": 0,
              "ticks": ""
             }
            },
            "marker": {
             "colorbar": {
              "outlinewidth": 0,
              "ticks": ""
             }
            },
            "type": "scatter3d"
           }
          ],
          "scattercarpet": [
           {
            "marker": {
             "colorbar": {
              "outlinewidth": 0,
              "ticks": ""
             }
            },
            "type": "scattercarpet"
           }
          ],
          "scattergeo": [
           {
            "marker": {
             "colorbar": {
              "outlinewidth": 0,
              "ticks": ""
             }
            },
            "type": "scattergeo"
           }
          ],
          "scattergl": [
           {
            "marker": {
             "colorbar": {
              "outlinewidth": 0,
              "ticks": ""
             }
            },
            "type": "scattergl"
           }
          ],
          "scattermapbox": [
           {
            "marker": {
             "colorbar": {
              "outlinewidth": 0,
              "ticks": ""
             }
            },
            "type": "scattermapbox"
           }
          ],
          "scatterpolar": [
           {
            "marker": {
             "colorbar": {
              "outlinewidth": 0,
              "ticks": ""
             }
            },
            "type": "scatterpolar"
           }
          ],
          "scatterpolargl": [
           {
            "marker": {
             "colorbar": {
              "outlinewidth": 0,
              "ticks": ""
             }
            },
            "type": "scatterpolargl"
           }
          ],
          "scatterternary": [
           {
            "marker": {
             "colorbar": {
              "outlinewidth": 0,
              "ticks": ""
             }
            },
            "type": "scatterternary"
           }
          ],
          "surface": [
           {
            "colorbar": {
             "outlinewidth": 0,
             "ticks": ""
            },
            "colorscale": [
             [
              0,
              "#0d0887"
             ],
             [
              0.1111111111111111,
              "#46039f"
             ],
             [
              0.2222222222222222,
              "#7201a8"
             ],
             [
              0.3333333333333333,
              "#9c179e"
             ],
             [
              0.4444444444444444,
              "#bd3786"
             ],
             [
              0.5555555555555556,
              "#d8576b"
             ],
             [
              0.6666666666666666,
              "#ed7953"
             ],
             [
              0.7777777777777778,
              "#fb9f3a"
             ],
             [
              0.8888888888888888,
              "#fdca26"
             ],
             [
              1,
              "#f0f921"
             ]
            ],
            "type": "surface"
           }
          ],
          "table": [
           {
            "cells": {
             "fill": {
              "color": "#EBF0F8"
             },
             "line": {
              "color": "white"
             }
            },
            "header": {
             "fill": {
              "color": "#C8D4E3"
             },
             "line": {
              "color": "white"
             }
            },
            "type": "table"
           }
          ]
         },
         "layout": {
          "annotationdefaults": {
           "arrowcolor": "#2a3f5f",
           "arrowhead": 0,
           "arrowwidth": 1
          },
          "autotypenumbers": "strict",
          "coloraxis": {
           "colorbar": {
            "outlinewidth": 0,
            "ticks": ""
           }
          },
          "colorscale": {
           "diverging": [
            [
             0,
             "#8e0152"
            ],
            [
             0.1,
             "#c51b7d"
            ],
            [
             0.2,
             "#de77ae"
            ],
            [
             0.3,
             "#f1b6da"
            ],
            [
             0.4,
             "#fde0ef"
            ],
            [
             0.5,
             "#f7f7f7"
            ],
            [
             0.6,
             "#e6f5d0"
            ],
            [
             0.7,
             "#b8e186"
            ],
            [
             0.8,
             "#7fbc41"
            ],
            [
             0.9,
             "#4d9221"
            ],
            [
             1,
             "#276419"
            ]
           ],
           "sequential": [
            [
             0,
             "#0d0887"
            ],
            [
             0.1111111111111111,
             "#46039f"
            ],
            [
             0.2222222222222222,
             "#7201a8"
            ],
            [
             0.3333333333333333,
             "#9c179e"
            ],
            [
             0.4444444444444444,
             "#bd3786"
            ],
            [
             0.5555555555555556,
             "#d8576b"
            ],
            [
             0.6666666666666666,
             "#ed7953"
            ],
            [
             0.7777777777777778,
             "#fb9f3a"
            ],
            [
             0.8888888888888888,
             "#fdca26"
            ],
            [
             1,
             "#f0f921"
            ]
           ],
           "sequentialminus": [
            [
             0,
             "#0d0887"
            ],
            [
             0.1111111111111111,
             "#46039f"
            ],
            [
             0.2222222222222222,
             "#7201a8"
            ],
            [
             0.3333333333333333,
             "#9c179e"
            ],
            [
             0.4444444444444444,
             "#bd3786"
            ],
            [
             0.5555555555555556,
             "#d8576b"
            ],
            [
             0.6666666666666666,
             "#ed7953"
            ],
            [
             0.7777777777777778,
             "#fb9f3a"
            ],
            [
             0.8888888888888888,
             "#fdca26"
            ],
            [
             1,
             "#f0f921"
            ]
           ]
          },
          "colorway": [
           "#636efa",
           "#EF553B",
           "#00cc96",
           "#ab63fa",
           "#FFA15A",
           "#19d3f3",
           "#FF6692",
           "#B6E880",
           "#FF97FF",
           "#FECB52"
          ],
          "font": {
           "color": "#2a3f5f"
          },
          "geo": {
           "bgcolor": "white",
           "lakecolor": "white",
           "landcolor": "#E5ECF6",
           "showlakes": true,
           "showland": true,
           "subunitcolor": "white"
          },
          "hoverlabel": {
           "align": "left"
          },
          "hovermode": "closest",
          "mapbox": {
           "style": "light"
          },
          "paper_bgcolor": "white",
          "plot_bgcolor": "#E5ECF6",
          "polar": {
           "angularaxis": {
            "gridcolor": "white",
            "linecolor": "white",
            "ticks": ""
           },
           "bgcolor": "#E5ECF6",
           "radialaxis": {
            "gridcolor": "white",
            "linecolor": "white",
            "ticks": ""
           }
          },
          "scene": {
           "xaxis": {
            "backgroundcolor": "#E5ECF6",
            "gridcolor": "white",
            "gridwidth": 2,
            "linecolor": "white",
            "showbackground": true,
            "ticks": "",
            "zerolinecolor": "white"
           },
           "yaxis": {
            "backgroundcolor": "#E5ECF6",
            "gridcolor": "white",
            "gridwidth": 2,
            "linecolor": "white",
            "showbackground": true,
            "ticks": "",
            "zerolinecolor": "white"
           },
           "zaxis": {
            "backgroundcolor": "#E5ECF6",
            "gridcolor": "white",
            "gridwidth": 2,
            "linecolor": "white",
            "showbackground": true,
            "ticks": "",
            "zerolinecolor": "white"
           }
          },
          "shapedefaults": {
           "line": {
            "color": "#2a3f5f"
           }
          },
          "ternary": {
           "aaxis": {
            "gridcolor": "white",
            "linecolor": "white",
            "ticks": ""
           },
           "baxis": {
            "gridcolor": "white",
            "linecolor": "white",
            "ticks": ""
           },
           "bgcolor": "#E5ECF6",
           "caxis": {
            "gridcolor": "white",
            "linecolor": "white",
            "ticks": ""
           }
          },
          "title": {
           "x": 0.05
          },
          "xaxis": {
           "automargin": true,
           "gridcolor": "white",
           "linecolor": "white",
           "ticks": "",
           "title": {
            "standoff": 15
           },
           "zerolinecolor": "white",
           "zerolinewidth": 2
          },
          "yaxis": {
           "automargin": true,
           "gridcolor": "white",
           "linecolor": "white",
           "ticks": "",
           "title": {
            "standoff": 15
           },
           "zerolinecolor": "white",
           "zerolinewidth": 2
          }
         }
        },
        "xaxis": {
         "anchor": "y",
         "domain": [
          0,
          1
         ],
         "title": {
          "text": "Sales"
         }
        },
        "yaxis": {
         "anchor": "x",
         "domain": [
          0,
          1
         ],
         "title": {
          "text": "Profits"
         }
        }
       }
      }
     },
     "metadata": {},
     "output_type": "display_data"
    }
   ],
   "source": [
    "fig_satis_kar = px.scatter(data_set, x='Sales', y='Profits', color='Industry', size='Market_Value', hover_name='Company')\n",
    "\n",
    "fig_satis_kar.show()"
   ]
  },
  {
   "cell_type": "code",
   "execution_count": 21,
   "metadata": {},
   "outputs": [
    {
     "data": {
      "application/vnd.plotly.v1+json": {
       "config": {
        "plotlyServerURL": "https://plot.ly"
       },
       "data": [
        {
         "hovertemplate": "<b>%{hovertext}</b><br><br>Company=Microsoft<br>Sales=%{x}<br>Profits=%{y}<br>Market_Value=%{marker.size}<extra></extra>",
         "hovertext": [
          2008,
          2009,
          2010,
          2011,
          2012,
          2013,
          2014,
          2015,
          2016,
          2017,
          2018,
          2019,
          2020,
          2021,
          2022
         ],
         "legendgroup": "Microsoft",
         "marker": {
          "color": "#636efa",
          "size": [
           253150,
           143580,
           254520,
           215773,
           273539,
           234828,
           343816,
           340826,
           407015,
           507544,
           750649,
           946521,
           1359028,
           1966559,
           2054367
          ],
          "sizemode": "area",
          "sizeref": 6600.79,
          "symbol": "circle"
         },
         "mode": "markers",
         "name": "Microsoft",
         "orientation": "v",
         "showlegend": true,
         "type": "scatter",
         "x": [
          57900,
          61980,
          58690,
          66690,
          72052,
          72930,
          83263,
          93268,
          86596,
          85270,
          103313,
          118224,
          138604,
          153284,
          184903
         ],
         "xaxis": "x",
         "y": [
          16960,
          17230,
          16260.000000000002,
          20568,
          23468,
          15459,
          22822,
          20675,
          10179,
          16768,
          14211,
          33541,
          46266,
          51310,
          71185
         ],
         "yaxis": "y"
        },
        {
         "hovertemplate": "<b>%{hovertext}</b><br><br>Company=Google<br>Sales=%{x}<br>Profits=%{y}<br>Market_Value=%{marker.size}<extra></extra>",
         "hovertext": [
          2008,
          2009,
          2010,
          2011,
          2012,
          2013,
          2014,
          2015,
          2016,
          2017,
          2018,
          2019,
          2020,
          2021,
          2022
         ],
         "legendgroup": "Google",
         "marker": {
          "color": "#EF553B",
          "size": [
           147660,
           106570,
           169380,
           185837,
           203223,
           268445,
           382472,
           367587,
           500077,
           579499,
           766350,
           863178,
           919284,
           1538884,
           1581723
          ],
          "sizemode": "area",
          "sizeref": 6600.79,
          "symbol": "circle"
         },
         "mode": "markers",
         "name": "Google",
         "orientation": "v",
         "showlegend": true,
         "type": "scatter",
         "x": [
          16590,
          21800,
          23650,
          29321,
          37905,
          50175,
          59730,
          65977,
          77231,
          89920,
          117884,
          136958,
          166310,
          182350,
          257488
         ],
         "xaxis": "x",
         "y": [
          4200,
          4230,
          6520,
          8505,
          9737,
          10737,
          12163,
          13704,
          17040,
          19478,
          16637,
          30736,
          34522,
          40269,
          76033
         ],
         "yaxis": "y"
        },
        {
         "hovertemplate": "<b>%{hovertext}</b><br><br>Company=Apple<br>Sales=%{x}<br>Profits=%{y}<br>Market_Value=%{marker.size}<extra></extra>",
         "hovertext": [
          2008,
          2009,
          2010,
          2011,
          2012,
          2013,
          2014,
          2015,
          2016,
          2017,
          2018,
          2019,
          2020,
          2021,
          2022
         ],
         "legendgroup": "Apple",
         "marker": {
          "color": "#00cc96",
          "size": [
           109880,
           79540,
           189510,
           324281,
           545968,
           416622,
           483146,
           741782,
           585951,
           752039,
           926946,
           961257,
           1285516,
           2252292,
           2640316
          ],
          "sizemode": "area",
          "sizeref": 6600.79,
          "symbol": "circle"
         },
         "mode": "markers",
         "name": "Apple",
         "orientation": "v",
         "showlegend": true,
         "type": "scatter",
         "x": [
          26500,
          33040,
          46710,
          76283,
          127841,
          164687,
          173755,
          199378,
          233273,
          217481,
          247535,
          261705,
          267712,
          293971,
          378697
         ],
         "xaxis": "x",
         "y": [
          4070.0000000000005,
          4860,
          9360,
          16639,
          32982,
          41747,
          37031,
          44462,
          53731,
          45217,
          53318,
          59431,
          57215,
          63930,
          100555
         ],
         "yaxis": "y"
        },
        {
         "hovertemplate": "<b>%{hovertext}</b><br><br>Company=Amazon<br>Sales=%{x}<br>Profits=%{y}<br>Market_Value=%{marker.size}<extra></extra>",
         "hovertext": [
          2009,
          2010,
          2011,
          2012,
          2013,
          2014,
          2015,
          2016,
          2017,
          2018,
          2019,
          2020,
          2021,
          2022
         ],
         "legendgroup": "Amazon",
         "marker": {
          "color": "#ab63fa",
          "size": [
           27770,
           55360,
           75800,
           84210,
           119011,
           157523,
           175091,
           292622,
           427011,
           777775,
           916050,
           1233351,
           1711839,
           1468398
          ],
          "sizemode": "area",
          "sizeref": 6600.79,
          "symbol": "circle"
         },
         "mode": "markers",
         "name": "Amazon",
         "orientation": "v",
         "showlegend": true,
         "type": "scatter",
         "x": [
          19170,
          24510,
          34205,
          48077,
          61093,
          74453,
          88988,
          107007,
          135987,
          193194,
          232887,
          296274,
          386064,
          469822
         ],
         "xaxis": "x",
         "y": [
          650,
          900,
          1153,
          632,
          -39,
          274,
          -241,
          596,
          2371,
          3938,
          10073,
          10562,
          21331,
          33364
         ],
         "yaxis": "y"
        },
        {
         "hovertemplate": "<b>%{hovertext}</b><br><br>Company=Facebook<br>Sales=%{x}<br>Profits=%{y}<br>Market_Value=%{marker.size}<extra></extra>",
         "hovertext": [
          2013,
          2014,
          2015,
          2016,
          2017,
          2018,
          2019,
          2020,
          2021,
          2022
         ],
         "legendgroup": "Facebook",
         "marker": {
          "color": "#FFA15A",
          "size": [
           63472,
           159665,
           231570,
           314758,
           407300,
           541470,
           512005,
           583675,
           870476,
           499861
          ],
          "sizemode": "area",
          "sizeref": 6600.79,
          "symbol": "circle"
         },
         "mode": "markers",
         "name": "Facebook",
         "orientation": "v",
         "showlegend": true,
         "type": "scatter",
         "x": [
          5089,
          7872,
          12466,
          17927,
          27638,
          44587,
          55838,
          73357,
          85966,
          117929
         ],
         "xaxis": "x",
         "y": [
          53,
          1490,
          2925,
          3670,
          9487,
          17847,
          22112,
          20958,
          29145,
          39370
         ],
         "yaxis": "y"
        }
       ],
       "layout": {
        "legend": {
         "itemsizing": "constant",
         "title": {
          "text": "Company"
         },
         "tracegroupgap": 0
        },
        "margin": {
         "t": 60
        },
        "template": {
         "data": {
          "bar": [
           {
            "error_x": {
             "color": "#2a3f5f"
            },
            "error_y": {
             "color": "#2a3f5f"
            },
            "marker": {
             "line": {
              "color": "#E5ECF6",
              "width": 0.5
             },
             "pattern": {
              "fillmode": "overlay",
              "size": 10,
              "solidity": 0.2
             }
            },
            "type": "bar"
           }
          ],
          "barpolar": [
           {
            "marker": {
             "line": {
              "color": "#E5ECF6",
              "width": 0.5
             },
             "pattern": {
              "fillmode": "overlay",
              "size": 10,
              "solidity": 0.2
             }
            },
            "type": "barpolar"
           }
          ],
          "carpet": [
           {
            "aaxis": {
             "endlinecolor": "#2a3f5f",
             "gridcolor": "white",
             "linecolor": "white",
             "minorgridcolor": "white",
             "startlinecolor": "#2a3f5f"
            },
            "baxis": {
             "endlinecolor": "#2a3f5f",
             "gridcolor": "white",
             "linecolor": "white",
             "minorgridcolor": "white",
             "startlinecolor": "#2a3f5f"
            },
            "type": "carpet"
           }
          ],
          "choropleth": [
           {
            "colorbar": {
             "outlinewidth": 0,
             "ticks": ""
            },
            "type": "choropleth"
           }
          ],
          "contour": [
           {
            "colorbar": {
             "outlinewidth": 0,
             "ticks": ""
            },
            "colorscale": [
             [
              0,
              "#0d0887"
             ],
             [
              0.1111111111111111,
              "#46039f"
             ],
             [
              0.2222222222222222,
              "#7201a8"
             ],
             [
              0.3333333333333333,
              "#9c179e"
             ],
             [
              0.4444444444444444,
              "#bd3786"
             ],
             [
              0.5555555555555556,
              "#d8576b"
             ],
             [
              0.6666666666666666,
              "#ed7953"
             ],
             [
              0.7777777777777778,
              "#fb9f3a"
             ],
             [
              0.8888888888888888,
              "#fdca26"
             ],
             [
              1,
              "#f0f921"
             ]
            ],
            "type": "contour"
           }
          ],
          "contourcarpet": [
           {
            "colorbar": {
             "outlinewidth": 0,
             "ticks": ""
            },
            "type": "contourcarpet"
           }
          ],
          "heatmap": [
           {
            "colorbar": {
             "outlinewidth": 0,
             "ticks": ""
            },
            "colorscale": [
             [
              0,
              "#0d0887"
             ],
             [
              0.1111111111111111,
              "#46039f"
             ],
             [
              0.2222222222222222,
              "#7201a8"
             ],
             [
              0.3333333333333333,
              "#9c179e"
             ],
             [
              0.4444444444444444,
              "#bd3786"
             ],
             [
              0.5555555555555556,
              "#d8576b"
             ],
             [
              0.6666666666666666,
              "#ed7953"
             ],
             [
              0.7777777777777778,
              "#fb9f3a"
             ],
             [
              0.8888888888888888,
              "#fdca26"
             ],
             [
              1,
              "#f0f921"
             ]
            ],
            "type": "heatmap"
           }
          ],
          "heatmapgl": [
           {
            "colorbar": {
             "outlinewidth": 0,
             "ticks": ""
            },
            "colorscale": [
             [
              0,
              "#0d0887"
             ],
             [
              0.1111111111111111,
              "#46039f"
             ],
             [
              0.2222222222222222,
              "#7201a8"
             ],
             [
              0.3333333333333333,
              "#9c179e"
             ],
             [
              0.4444444444444444,
              "#bd3786"
             ],
             [
              0.5555555555555556,
              "#d8576b"
             ],
             [
              0.6666666666666666,
              "#ed7953"
             ],
             [
              0.7777777777777778,
              "#fb9f3a"
             ],
             [
              0.8888888888888888,
              "#fdca26"
             ],
             [
              1,
              "#f0f921"
             ]
            ],
            "type": "heatmapgl"
           }
          ],
          "histogram": [
           {
            "marker": {
             "pattern": {
              "fillmode": "overlay",
              "size": 10,
              "solidity": 0.2
             }
            },
            "type": "histogram"
           }
          ],
          "histogram2d": [
           {
            "colorbar": {
             "outlinewidth": 0,
             "ticks": ""
            },
            "colorscale": [
             [
              0,
              "#0d0887"
             ],
             [
              0.1111111111111111,
              "#46039f"
             ],
             [
              0.2222222222222222,
              "#7201a8"
             ],
             [
              0.3333333333333333,
              "#9c179e"
             ],
             [
              0.4444444444444444,
              "#bd3786"
             ],
             [
              0.5555555555555556,
              "#d8576b"
             ],
             [
              0.6666666666666666,
              "#ed7953"
             ],
             [
              0.7777777777777778,
              "#fb9f3a"
             ],
             [
              0.8888888888888888,
              "#fdca26"
             ],
             [
              1,
              "#f0f921"
             ]
            ],
            "type": "histogram2d"
           }
          ],
          "histogram2dcontour": [
           {
            "colorbar": {
             "outlinewidth": 0,
             "ticks": ""
            },
            "colorscale": [
             [
              0,
              "#0d0887"
             ],
             [
              0.1111111111111111,
              "#46039f"
             ],
             [
              0.2222222222222222,
              "#7201a8"
             ],
             [
              0.3333333333333333,
              "#9c179e"
             ],
             [
              0.4444444444444444,
              "#bd3786"
             ],
             [
              0.5555555555555556,
              "#d8576b"
             ],
             [
              0.6666666666666666,
              "#ed7953"
             ],
             [
              0.7777777777777778,
              "#fb9f3a"
             ],
             [
              0.8888888888888888,
              "#fdca26"
             ],
             [
              1,
              "#f0f921"
             ]
            ],
            "type": "histogram2dcontour"
           }
          ],
          "mesh3d": [
           {
            "colorbar": {
             "outlinewidth": 0,
             "ticks": ""
            },
            "type": "mesh3d"
           }
          ],
          "parcoords": [
           {
            "line": {
             "colorbar": {
              "outlinewidth": 0,
              "ticks": ""
             }
            },
            "type": "parcoords"
           }
          ],
          "pie": [
           {
            "automargin": true,
            "type": "pie"
           }
          ],
          "scatter": [
           {
            "fillpattern": {
             "fillmode": "overlay",
             "size": 10,
             "solidity": 0.2
            },
            "type": "scatter"
           }
          ],
          "scatter3d": [
           {
            "line": {
             "colorbar": {
              "outlinewidth": 0,
              "ticks": ""
             }
            },
            "marker": {
             "colorbar": {
              "outlinewidth": 0,
              "ticks": ""
             }
            },
            "type": "scatter3d"
           }
          ],
          "scattercarpet": [
           {
            "marker": {
             "colorbar": {
              "outlinewidth": 0,
              "ticks": ""
             }
            },
            "type": "scattercarpet"
           }
          ],
          "scattergeo": [
           {
            "marker": {
             "colorbar": {
              "outlinewidth": 0,
              "ticks": ""
             }
            },
            "type": "scattergeo"
           }
          ],
          "scattergl": [
           {
            "marker": {
             "colorbar": {
              "outlinewidth": 0,
              "ticks": ""
             }
            },
            "type": "scattergl"
           }
          ],
          "scattermapbox": [
           {
            "marker": {
             "colorbar": {
              "outlinewidth": 0,
              "ticks": ""
             }
            },
            "type": "scattermapbox"
           }
          ],
          "scatterpolar": [
           {
            "marker": {
             "colorbar": {
              "outlinewidth": 0,
              "ticks": ""
             }
            },
            "type": "scatterpolar"
           }
          ],
          "scatterpolargl": [
           {
            "marker": {
             "colorbar": {
              "outlinewidth": 0,
              "ticks": ""
             }
            },
            "type": "scatterpolargl"
           }
          ],
          "scatterternary": [
           {
            "marker": {
             "colorbar": {
              "outlinewidth": 0,
              "ticks": ""
             }
            },
            "type": "scatterternary"
           }
          ],
          "surface": [
           {
            "colorbar": {
             "outlinewidth": 0,
             "ticks": ""
            },
            "colorscale": [
             [
              0,
              "#0d0887"
             ],
             [
              0.1111111111111111,
              "#46039f"
             ],
             [
              0.2222222222222222,
              "#7201a8"
             ],
             [
              0.3333333333333333,
              "#9c179e"
             ],
             [
              0.4444444444444444,
              "#bd3786"
             ],
             [
              0.5555555555555556,
              "#d8576b"
             ],
             [
              0.6666666666666666,
              "#ed7953"
             ],
             [
              0.7777777777777778,
              "#fb9f3a"
             ],
             [
              0.8888888888888888,
              "#fdca26"
             ],
             [
              1,
              "#f0f921"
             ]
            ],
            "type": "surface"
           }
          ],
          "table": [
           {
            "cells": {
             "fill": {
              "color": "#EBF0F8"
             },
             "line": {
              "color": "white"
             }
            },
            "header": {
             "fill": {
              "color": "#C8D4E3"
             },
             "line": {
              "color": "white"
             }
            },
            "type": "table"
           }
          ]
         },
         "layout": {
          "annotationdefaults": {
           "arrowcolor": "#2a3f5f",
           "arrowhead": 0,
           "arrowwidth": 1
          },
          "autotypenumbers": "strict",
          "coloraxis": {
           "colorbar": {
            "outlinewidth": 0,
            "ticks": ""
           }
          },
          "colorscale": {
           "diverging": [
            [
             0,
             "#8e0152"
            ],
            [
             0.1,
             "#c51b7d"
            ],
            [
             0.2,
             "#de77ae"
            ],
            [
             0.3,
             "#f1b6da"
            ],
            [
             0.4,
             "#fde0ef"
            ],
            [
             0.5,
             "#f7f7f7"
            ],
            [
             0.6,
             "#e6f5d0"
            ],
            [
             0.7,
             "#b8e186"
            ],
            [
             0.8,
             "#7fbc41"
            ],
            [
             0.9,
             "#4d9221"
            ],
            [
             1,
             "#276419"
            ]
           ],
           "sequential": [
            [
             0,
             "#0d0887"
            ],
            [
             0.1111111111111111,
             "#46039f"
            ],
            [
             0.2222222222222222,
             "#7201a8"
            ],
            [
             0.3333333333333333,
             "#9c179e"
            ],
            [
             0.4444444444444444,
             "#bd3786"
            ],
            [
             0.5555555555555556,
             "#d8576b"
            ],
            [
             0.6666666666666666,
             "#ed7953"
            ],
            [
             0.7777777777777778,
             "#fb9f3a"
            ],
            [
             0.8888888888888888,
             "#fdca26"
            ],
            [
             1,
             "#f0f921"
            ]
           ],
           "sequentialminus": [
            [
             0,
             "#0d0887"
            ],
            [
             0.1111111111111111,
             "#46039f"
            ],
            [
             0.2222222222222222,
             "#7201a8"
            ],
            [
             0.3333333333333333,
             "#9c179e"
            ],
            [
             0.4444444444444444,
             "#bd3786"
            ],
            [
             0.5555555555555556,
             "#d8576b"
            ],
            [
             0.6666666666666666,
             "#ed7953"
            ],
            [
             0.7777777777777778,
             "#fb9f3a"
            ],
            [
             0.8888888888888888,
             "#fdca26"
            ],
            [
             1,
             "#f0f921"
            ]
           ]
          },
          "colorway": [
           "#636efa",
           "#EF553B",
           "#00cc96",
           "#ab63fa",
           "#FFA15A",
           "#19d3f3",
           "#FF6692",
           "#B6E880",
           "#FF97FF",
           "#FECB52"
          ],
          "font": {
           "color": "#2a3f5f"
          },
          "geo": {
           "bgcolor": "white",
           "lakecolor": "white",
           "landcolor": "#E5ECF6",
           "showlakes": true,
           "showland": true,
           "subunitcolor": "white"
          },
          "hoverlabel": {
           "align": "left"
          },
          "hovermode": "closest",
          "mapbox": {
           "style": "light"
          },
          "paper_bgcolor": "white",
          "plot_bgcolor": "#E5ECF6",
          "polar": {
           "angularaxis": {
            "gridcolor": "white",
            "linecolor": "white",
            "ticks": ""
           },
           "bgcolor": "#E5ECF6",
           "radialaxis": {
            "gridcolor": "white",
            "linecolor": "white",
            "ticks": ""
           }
          },
          "scene": {
           "xaxis": {
            "backgroundcolor": "#E5ECF6",
            "gridcolor": "white",
            "gridwidth": 2,
            "linecolor": "white",
            "showbackground": true,
            "ticks": "",
            "zerolinecolor": "white"
           },
           "yaxis": {
            "backgroundcolor": "#E5ECF6",
            "gridcolor": "white",
            "gridwidth": 2,
            "linecolor": "white",
            "showbackground": true,
            "ticks": "",
            "zerolinecolor": "white"
           },
           "zaxis": {
            "backgroundcolor": "#E5ECF6",
            "gridcolor": "white",
            "gridwidth": 2,
            "linecolor": "white",
            "showbackground": true,
            "ticks": "",
            "zerolinecolor": "white"
           }
          },
          "shapedefaults": {
           "line": {
            "color": "#2a3f5f"
           }
          },
          "ternary": {
           "aaxis": {
            "gridcolor": "white",
            "linecolor": "white",
            "ticks": ""
           },
           "baxis": {
            "gridcolor": "white",
            "linecolor": "white",
            "ticks": ""
           },
           "bgcolor": "#E5ECF6",
           "caxis": {
            "gridcolor": "white",
            "linecolor": "white",
            "ticks": ""
           }
          },
          "title": {
           "x": 0.05
          },
          "xaxis": {
           "automargin": true,
           "gridcolor": "white",
           "linecolor": "white",
           "ticks": "",
           "title": {
            "standoff": 15
           },
           "zerolinecolor": "white",
           "zerolinewidth": 2
          },
          "yaxis": {
           "automargin": true,
           "gridcolor": "white",
           "linecolor": "white",
           "ticks": "",
           "title": {
            "standoff": 15
           },
           "zerolinecolor": "white",
           "zerolinewidth": 2
          }
         }
        },
        "xaxis": {
         "anchor": "y",
         "domain": [
          0,
          1
         ],
         "title": {
          "text": "Sales"
         }
        },
        "yaxis": {
         "anchor": "x",
         "domain": [
          0,
          1
         ],
         "title": {
          "text": "Profits"
         }
        }
       }
      }
     },
     "metadata": {},
     "output_type": "display_data"
    }
   ],
   "source": [
    "gafam_companies = ['Google', 'Apple', 'Facebook', 'Amazon', 'Microsoft']\n",
    "gafam_ds = data_set[data_set['Company'].isin(gafam_companies)]\n",
    "\n",
    "\n",
    "fig_satis_kar = px.scatter(gafam_ds, x='Sales', y='Profits', color='Company', size='Market_Value', hover_name='Year')\n",
    "\n",
    "fig_satis_kar.show()"
   ]
  },
  {
   "cell_type": "code",
   "execution_count": 43,
   "metadata": {},
   "outputs": [
    {
     "data": {
      "application/vnd.plotly.v1+json": {
       "config": {
        "plotlyServerURL": "https://plot.ly"
       },
       "data": [
        {
         "hovertemplate": "<b>%{hovertext}</b><br><br>Company=ICBC<br>Sales=%{x}<br>Profits=%{y}<br>Market_Value=%{marker.size}<extra></extra>",
         "hovertext": [
          2008,
          2010,
          2011,
          2012,
          2013,
          2014,
          2015,
          2017,
          2018,
          2019,
          2020,
          2021,
          2022
         ],
         "legendgroup": "ICBC",
         "marker": {
          "color": "#636efa",
          "size": [
           289570,
           242230,
           239490,
           237401,
           237264,
           215625,
           278327,
           229805,
           311014,
           305057,
           242283,
           249532,
           214425
          ],
          "sizemode": "area",
          "sizeref": 1853.69,
          "symbol": "circle"
         },
         "mode": "markers",
         "name": "ICBC",
         "orientation": "v",
         "showlegend": true,
         "type": "scatter",
         "x": [
          37480,
          71860,
          69193,
          82591,
          134774,
          148656,
          166796,
          151381,
          165338,
          175874,
          177230,
          190467,
          208127
         ],
         "xaxis": "x",
         "y": [
          6310,
          16270,
          18843.9,
          25057.5,
          37805,
          42723.3,
          44757.2,
          41983.7,
          43669.4,
          45223,
          45283.6,
          45768.7,
          54028.3
         ],
         "yaxis": "y"
        },
        {
         "hovertemplate": "<b>%{hovertext}</b><br><br>Company=Berkshire Hathaway<br>Sales=%{x}<br>Profits=%{y}<br>Market_Value=%{marker.size}<extra></extra>",
         "hovertext": [
          2008,
          2011,
          2012,
          2013,
          2014,
          2015,
          2016,
          2017,
          2018,
          2019,
          2020,
          2021,
          2022
         ],
         "legendgroup": "Berkshire Hathaway",
         "marker": {
          "color": "#EF553B",
          "size": [
           216650,
           210975,
           202160,
           252805,
           309102,
           354813,
           360145,
           409908,
           491888,
           516407,
           455444,
           624408,
           741476
          ],
          "sizemode": "area",
          "sizeref": 1853.69,
          "symbol": "circle"
         },
         "mode": "markers",
         "name": "Berkshire Hathaway",
         "orientation": "v",
         "showlegend": true,
         "type": "scatter",
         "x": [
          118250,
          136185,
          143688,
          162463,
          178785,
          194673,
          210821,
          222935,
          235165,
          247837,
          254616,
          245510,
          276094
         ],
         "xaxis": "x",
         "y": [
          13210,
          12967,
          10254,
          14824,
          19476,
          19872,
          24083,
          24074,
          39742,
          4021,
          81417,
          42521,
          89795
         ],
         "yaxis": "y"
        },
        {
         "hovertemplate": "<b>%{hovertext}</b><br><br>Company=China Construction Bank<br>Sales=%{x}<br>Profits=%{y}<br>Market_Value=%{marker.size}<extra></extra>",
         "hovertext": [
          2011,
          2012,
          2013,
          2015,
          2017,
          2018,
          2019,
          2020,
          2021
         ],
         "legendgroup": "China Construction Bank",
         "marker": {
          "color": "#00cc96",
          "size": [
           224794,
           201941,
           202004,
           212945,
           200458,
           261166,
           224988,
           203818,
           210435
          ],
          "sizemode": "area",
          "sizeref": 1853.69,
          "symbol": "circle"
         },
         "mode": "markers",
         "name": "China Construction Bank",
         "orientation": "v",
         "showlegend": true,
         "type": "scatter",
         "x": [
          58246,
          68692,
          113081,
          130473,
          134242,
          143202,
          150313,
          162147,
          173478
         ],
         "xaxis": "x",
         "y": [
          15637.6,
          20458.5,
          30617,
          37038.9,
          34981.4,
          37203.1,
          38841,
          38914.8,
          39299.2
         ],
         "yaxis": "y"
        },
        {
         "hovertemplate": "<b>%{hovertext}</b><br><br>Company=Wells Fargo<br>Sales=%{x}<br>Profits=%{y}<br>Market_Value=%{marker.size}<extra></extra>",
         "hovertext": [
          2013,
          2014,
          2015,
          2016,
          2017,
          2018,
          2019
         ],
         "legendgroup": "Wells Fargo",
         "marker": {
          "color": "#ab63fa",
          "size": [
           201348,
           261375,
           278273,
           255998,
           274385,
           265328,
           214676
          ],
          "sizemode": "area",
          "sizeref": 1853.69,
          "symbol": "circle"
         },
         "mode": "markers",
         "name": "Wells Fargo",
         "orientation": "v",
         "showlegend": true,
         "type": "scatter",
         "x": [
          91247,
          88662,
          90403,
          91431,
          97573,
          102063,
          101456
         ],
         "xaxis": "x",
         "y": [
          18897,
          21878,
          23057,
          22686,
          21938,
          21693,
          23117
         ],
         "yaxis": "y"
        },
        {
         "hovertemplate": "<b>%{hovertext}</b><br><br>Company=HSBC Holdings<br>Sales=%{x}<br>Profits=%{y}<br>Market_Value=%{marker.size}<extra></extra>",
         "hovertext": [
          2013,
          2018
         ],
         "legendgroup": "HSBC Holdings",
         "marker": {
          "color": "#FFA15A",
          "size": [
           201312,
           200293
          ],
          "sizemode": "area",
          "sizeref": 1853.69,
          "symbol": "circle"
         },
         "mode": "markers",
         "name": "HSBC Holdings",
         "orientation": "v",
         "showlegend": true,
         "type": "scatter",
         "x": [
          104934,
          63169
         ],
         "xaxis": "x",
         "y": [
          14320,
          10750.3
         ],
         "yaxis": "y"
        },
        {
         "hovertemplate": "<b>%{hovertext}</b><br><br>Company=JPMorgan Chase<br>Sales=%{x}<br>Profits=%{y}<br>Market_Value=%{marker.size}<extra></extra>",
         "hovertext": [
          2014,
          2015,
          2016,
          2017,
          2018,
          2019,
          2020,
          2021,
          2022
         ],
         "legendgroup": "JPMorgan Chase",
         "marker": {
          "color": "#19d3f3",
          "size": [
           229747,
           225451,
           234247,
           306616,
           387668,
           368502,
           291737,
           464822,
           374446
          ],
          "sizemode": "area",
          "sizeref": 1853.69,
          "symbol": "circle"
         },
         "mode": "markers",
         "name": "JPMorgan Chase",
         "orientation": "v",
         "showlegend": true,
         "type": "scatter",
         "x": [
          105661,
          97817,
          99881,
          102494,
          118180,
          132912,
          142927,
          136187,
          124542
         ],
         "xaxis": "x",
         "y": [
          17324,
          21219,
          23548,
          24231,
          26496,
          32738,
          29954,
          40371,
          42115
         ],
         "yaxis": "y"
        },
        {
         "hovertemplate": "<b>%{hovertext}</b><br><br>Company=Bank of America<br>Sales=%{x}<br>Profits=%{y}<br>Market_Value=%{marker.size}<extra></extra>",
         "hovertext": [
          2017,
          2018,
          2019,
          2020,
          2021,
          2022
         ],
         "legendgroup": "Bank of America",
         "marker": {
          "color": "#FF6692",
          "size": [
           231876,
           313510,
           287339,
           208646,
           336288,
           303102
          ],
          "sizemode": "area",
          "sizeref": 1853.69,
          "symbol": "circle"
         },
         "mode": "markers",
         "name": "Bank of America",
         "orientation": "v",
         "showlegend": true,
         "type": "scatter",
         "x": [
          92214,
          102978,
          111904,
          112065,
          98841,
          96826
         ],
         "xaxis": "x",
         "y": [
          16563,
          20294,
          28540,
          24129,
          17894,
          30995
         ],
         "yaxis": "y"
        },
        {
         "hovertemplate": "<b>%{hovertext}</b><br><br>Company=Visa<br>Sales=%{x}<br>Profits=%{y}<br>Market_Value=%{marker.size}<extra></extra>",
         "hovertext": [
          2017,
          2018
         ],
         "legendgroup": "Visa",
         "marker": {
          "color": "#B6E880",
          "size": [
           206396,
           295124
          ],
          "sizemode": "area",
          "sizeref": 1853.69,
          "symbol": "circle"
         },
         "mode": "markers",
         "name": "Visa",
         "orientation": "v",
         "showlegend": true,
         "type": "scatter",
         "x": [
          15978,
          19355
         ],
         "xaxis": "x",
         "y": [
          5990,
          9002
         ],
         "yaxis": "y"
        },
        {
         "hovertemplate": "<b>%{hovertext}</b><br><br>Company=Mastercard<br>Sales=%{x}<br>Profits=%{y}<br>Market_Value=%{marker.size}<extra></extra>",
         "hovertext": [
          2018
         ],
         "legendgroup": "Mastercard",
         "marker": {
          "color": "#FF97FF",
          "size": [
           201894
          ],
          "sizemode": "area",
          "sizeref": 1853.69,
          "symbol": "circle"
         },
         "mode": "markers",
         "name": "Mastercard",
         "orientation": "v",
         "showlegend": true,
         "type": "scatter",
         "x": [
          13343
         ],
         "xaxis": "x",
         "y": [
          4326
         ],
         "yaxis": "y"
        }
       ],
       "layout": {
        "legend": {
         "itemsizing": "constant",
         "title": {
          "text": "Company"
         },
         "tracegroupgap": 0
        },
        "margin": {
         "t": 60
        },
        "template": {
         "data": {
          "bar": [
           {
            "error_x": {
             "color": "#2a3f5f"
            },
            "error_y": {
             "color": "#2a3f5f"
            },
            "marker": {
             "line": {
              "color": "#E5ECF6",
              "width": 0.5
             },
             "pattern": {
              "fillmode": "overlay",
              "size": 10,
              "solidity": 0.2
             }
            },
            "type": "bar"
           }
          ],
          "barpolar": [
           {
            "marker": {
             "line": {
              "color": "#E5ECF6",
              "width": 0.5
             },
             "pattern": {
              "fillmode": "overlay",
              "size": 10,
              "solidity": 0.2
             }
            },
            "type": "barpolar"
           }
          ],
          "carpet": [
           {
            "aaxis": {
             "endlinecolor": "#2a3f5f",
             "gridcolor": "white",
             "linecolor": "white",
             "minorgridcolor": "white",
             "startlinecolor": "#2a3f5f"
            },
            "baxis": {
             "endlinecolor": "#2a3f5f",
             "gridcolor": "white",
             "linecolor": "white",
             "minorgridcolor": "white",
             "startlinecolor": "#2a3f5f"
            },
            "type": "carpet"
           }
          ],
          "choropleth": [
           {
            "colorbar": {
             "outlinewidth": 0,
             "ticks": ""
            },
            "type": "choropleth"
           }
          ],
          "contour": [
           {
            "colorbar": {
             "outlinewidth": 0,
             "ticks": ""
            },
            "colorscale": [
             [
              0,
              "#0d0887"
             ],
             [
              0.1111111111111111,
              "#46039f"
             ],
             [
              0.2222222222222222,
              "#7201a8"
             ],
             [
              0.3333333333333333,
              "#9c179e"
             ],
             [
              0.4444444444444444,
              "#bd3786"
             ],
             [
              0.5555555555555556,
              "#d8576b"
             ],
             [
              0.6666666666666666,
              "#ed7953"
             ],
             [
              0.7777777777777778,
              "#fb9f3a"
             ],
             [
              0.8888888888888888,
              "#fdca26"
             ],
             [
              1,
              "#f0f921"
             ]
            ],
            "type": "contour"
           }
          ],
          "contourcarpet": [
           {
            "colorbar": {
             "outlinewidth": 0,
             "ticks": ""
            },
            "type": "contourcarpet"
           }
          ],
          "heatmap": [
           {
            "colorbar": {
             "outlinewidth": 0,
             "ticks": ""
            },
            "colorscale": [
             [
              0,
              "#0d0887"
             ],
             [
              0.1111111111111111,
              "#46039f"
             ],
             [
              0.2222222222222222,
              "#7201a8"
             ],
             [
              0.3333333333333333,
              "#9c179e"
             ],
             [
              0.4444444444444444,
              "#bd3786"
             ],
             [
              0.5555555555555556,
              "#d8576b"
             ],
             [
              0.6666666666666666,
              "#ed7953"
             ],
             [
              0.7777777777777778,
              "#fb9f3a"
             ],
             [
              0.8888888888888888,
              "#fdca26"
             ],
             [
              1,
              "#f0f921"
             ]
            ],
            "type": "heatmap"
           }
          ],
          "heatmapgl": [
           {
            "colorbar": {
             "outlinewidth": 0,
             "ticks": ""
            },
            "colorscale": [
             [
              0,
              "#0d0887"
             ],
             [
              0.1111111111111111,
              "#46039f"
             ],
             [
              0.2222222222222222,
              "#7201a8"
             ],
             [
              0.3333333333333333,
              "#9c179e"
             ],
             [
              0.4444444444444444,
              "#bd3786"
             ],
             [
              0.5555555555555556,
              "#d8576b"
             ],
             [
              0.6666666666666666,
              "#ed7953"
             ],
             [
              0.7777777777777778,
              "#fb9f3a"
             ],
             [
              0.8888888888888888,
              "#fdca26"
             ],
             [
              1,
              "#f0f921"
             ]
            ],
            "type": "heatmapgl"
           }
          ],
          "histogram": [
           {
            "marker": {
             "pattern": {
              "fillmode": "overlay",
              "size": 10,
              "solidity": 0.2
             }
            },
            "type": "histogram"
           }
          ],
          "histogram2d": [
           {
            "colorbar": {
             "outlinewidth": 0,
             "ticks": ""
            },
            "colorscale": [
             [
              0,
              "#0d0887"
             ],
             [
              0.1111111111111111,
              "#46039f"
             ],
             [
              0.2222222222222222,
              "#7201a8"
             ],
             [
              0.3333333333333333,
              "#9c179e"
             ],
             [
              0.4444444444444444,
              "#bd3786"
             ],
             [
              0.5555555555555556,
              "#d8576b"
             ],
             [
              0.6666666666666666,
              "#ed7953"
             ],
             [
              0.7777777777777778,
              "#fb9f3a"
             ],
             [
              0.8888888888888888,
              "#fdca26"
             ],
             [
              1,
              "#f0f921"
             ]
            ],
            "type": "histogram2d"
           }
          ],
          "histogram2dcontour": [
           {
            "colorbar": {
             "outlinewidth": 0,
             "ticks": ""
            },
            "colorscale": [
             [
              0,
              "#0d0887"
             ],
             [
              0.1111111111111111,
              "#46039f"
             ],
             [
              0.2222222222222222,
              "#7201a8"
             ],
             [
              0.3333333333333333,
              "#9c179e"
             ],
             [
              0.4444444444444444,
              "#bd3786"
             ],
             [
              0.5555555555555556,
              "#d8576b"
             ],
             [
              0.6666666666666666,
              "#ed7953"
             ],
             [
              0.7777777777777778,
              "#fb9f3a"
             ],
             [
              0.8888888888888888,
              "#fdca26"
             ],
             [
              1,
              "#f0f921"
             ]
            ],
            "type": "histogram2dcontour"
           }
          ],
          "mesh3d": [
           {
            "colorbar": {
             "outlinewidth": 0,
             "ticks": ""
            },
            "type": "mesh3d"
           }
          ],
          "parcoords": [
           {
            "line": {
             "colorbar": {
              "outlinewidth": 0,
              "ticks": ""
             }
            },
            "type": "parcoords"
           }
          ],
          "pie": [
           {
            "automargin": true,
            "type": "pie"
           }
          ],
          "scatter": [
           {
            "fillpattern": {
             "fillmode": "overlay",
             "size": 10,
             "solidity": 0.2
            },
            "type": "scatter"
           }
          ],
          "scatter3d": [
           {
            "line": {
             "colorbar": {
              "outlinewidth": 0,
              "ticks": ""
             }
            },
            "marker": {
             "colorbar": {
              "outlinewidth": 0,
              "ticks": ""
             }
            },
            "type": "scatter3d"
           }
          ],
          "scattercarpet": [
           {
            "marker": {
             "colorbar": {
              "outlinewidth": 0,
              "ticks": ""
             }
            },
            "type": "scattercarpet"
           }
          ],
          "scattergeo": [
           {
            "marker": {
             "colorbar": {
              "outlinewidth": 0,
              "ticks": ""
             }
            },
            "type": "scattergeo"
           }
          ],
          "scattergl": [
           {
            "marker": {
             "colorbar": {
              "outlinewidth": 0,
              "ticks": ""
             }
            },
            "type": "scattergl"
           }
          ],
          "scattermapbox": [
           {
            "marker": {
             "colorbar": {
              "outlinewidth": 0,
              "ticks": ""
             }
            },
            "type": "scattermapbox"
           }
          ],
          "scatterpolar": [
           {
            "marker": {
             "colorbar": {
              "outlinewidth": 0,
              "ticks": ""
             }
            },
            "type": "scatterpolar"
           }
          ],
          "scatterpolargl": [
           {
            "marker": {
             "colorbar": {
              "outlinewidth": 0,
              "ticks": ""
             }
            },
            "type": "scatterpolargl"
           }
          ],
          "scatterternary": [
           {
            "marker": {
             "colorbar": {
              "outlinewidth": 0,
              "ticks": ""
             }
            },
            "type": "scatterternary"
           }
          ],
          "surface": [
           {
            "colorbar": {
             "outlinewidth": 0,
             "ticks": ""
            },
            "colorscale": [
             [
              0,
              "#0d0887"
             ],
             [
              0.1111111111111111,
              "#46039f"
             ],
             [
              0.2222222222222222,
              "#7201a8"
             ],
             [
              0.3333333333333333,
              "#9c179e"
             ],
             [
              0.4444444444444444,
              "#bd3786"
             ],
             [
              0.5555555555555556,
              "#d8576b"
             ],
             [
              0.6666666666666666,
              "#ed7953"
             ],
             [
              0.7777777777777778,
              "#fb9f3a"
             ],
             [
              0.8888888888888888,
              "#fdca26"
             ],
             [
              1,
              "#f0f921"
             ]
            ],
            "type": "surface"
           }
          ],
          "table": [
           {
            "cells": {
             "fill": {
              "color": "#EBF0F8"
             },
             "line": {
              "color": "white"
             }
            },
            "header": {
             "fill": {
              "color": "#C8D4E3"
             },
             "line": {
              "color": "white"
             }
            },
            "type": "table"
           }
          ]
         },
         "layout": {
          "annotationdefaults": {
           "arrowcolor": "#2a3f5f",
           "arrowhead": 0,
           "arrowwidth": 1
          },
          "autotypenumbers": "strict",
          "coloraxis": {
           "colorbar": {
            "outlinewidth": 0,
            "ticks": ""
           }
          },
          "colorscale": {
           "diverging": [
            [
             0,
             "#8e0152"
            ],
            [
             0.1,
             "#c51b7d"
            ],
            [
             0.2,
             "#de77ae"
            ],
            [
             0.3,
             "#f1b6da"
            ],
            [
             0.4,
             "#fde0ef"
            ],
            [
             0.5,
             "#f7f7f7"
            ],
            [
             0.6,
             "#e6f5d0"
            ],
            [
             0.7,
             "#b8e186"
            ],
            [
             0.8,
             "#7fbc41"
            ],
            [
             0.9,
             "#4d9221"
            ],
            [
             1,
             "#276419"
            ]
           ],
           "sequential": [
            [
             0,
             "#0d0887"
            ],
            [
             0.1111111111111111,
             "#46039f"
            ],
            [
             0.2222222222222222,
             "#7201a8"
            ],
            [
             0.3333333333333333,
             "#9c179e"
            ],
            [
             0.4444444444444444,
             "#bd3786"
            ],
            [
             0.5555555555555556,
             "#d8576b"
            ],
            [
             0.6666666666666666,
             "#ed7953"
            ],
            [
             0.7777777777777778,
             "#fb9f3a"
            ],
            [
             0.8888888888888888,
             "#fdca26"
            ],
            [
             1,
             "#f0f921"
            ]
           ],
           "sequentialminus": [
            [
             0,
             "#0d0887"
            ],
            [
             0.1111111111111111,
             "#46039f"
            ],
            [
             0.2222222222222222,
             "#7201a8"
            ],
            [
             0.3333333333333333,
             "#9c179e"
            ],
            [
             0.4444444444444444,
             "#bd3786"
            ],
            [
             0.5555555555555556,
             "#d8576b"
            ],
            [
             0.6666666666666666,
             "#ed7953"
            ],
            [
             0.7777777777777778,
             "#fb9f3a"
            ],
            [
             0.8888888888888888,
             "#fdca26"
            ],
            [
             1,
             "#f0f921"
            ]
           ]
          },
          "colorway": [
           "#636efa",
           "#EF553B",
           "#00cc96",
           "#ab63fa",
           "#FFA15A",
           "#19d3f3",
           "#FF6692",
           "#B6E880",
           "#FF97FF",
           "#FECB52"
          ],
          "font": {
           "color": "#2a3f5f"
          },
          "geo": {
           "bgcolor": "white",
           "lakecolor": "white",
           "landcolor": "#E5ECF6",
           "showlakes": true,
           "showland": true,
           "subunitcolor": "white"
          },
          "hoverlabel": {
           "align": "left"
          },
          "hovermode": "closest",
          "mapbox": {
           "style": "light"
          },
          "paper_bgcolor": "white",
          "plot_bgcolor": "#E5ECF6",
          "polar": {
           "angularaxis": {
            "gridcolor": "white",
            "linecolor": "white",
            "ticks": ""
           },
           "bgcolor": "#E5ECF6",
           "radialaxis": {
            "gridcolor": "white",
            "linecolor": "white",
            "ticks": ""
           }
          },
          "scene": {
           "xaxis": {
            "backgroundcolor": "#E5ECF6",
            "gridcolor": "white",
            "gridwidth": 2,
            "linecolor": "white",
            "showbackground": true,
            "ticks": "",
            "zerolinecolor": "white"
           },
           "yaxis": {
            "backgroundcolor": "#E5ECF6",
            "gridcolor": "white",
            "gridwidth": 2,
            "linecolor": "white",
            "showbackground": true,
            "ticks": "",
            "zerolinecolor": "white"
           },
           "zaxis": {
            "backgroundcolor": "#E5ECF6",
            "gridcolor": "white",
            "gridwidth": 2,
            "linecolor": "white",
            "showbackground": true,
            "ticks": "",
            "zerolinecolor": "white"
           }
          },
          "shapedefaults": {
           "line": {
            "color": "#2a3f5f"
           }
          },
          "ternary": {
           "aaxis": {
            "gridcolor": "white",
            "linecolor": "white",
            "ticks": ""
           },
           "baxis": {
            "gridcolor": "white",
            "linecolor": "white",
            "ticks": ""
           },
           "bgcolor": "#E5ECF6",
           "caxis": {
            "gridcolor": "white",
            "linecolor": "white",
            "ticks": ""
           }
          },
          "title": {
           "x": 0.05
          },
          "xaxis": {
           "automargin": true,
           "gridcolor": "white",
           "linecolor": "white",
           "ticks": "",
           "title": {
            "standoff": 15
           },
           "zerolinecolor": "white",
           "zerolinewidth": 2
          },
          "yaxis": {
           "automargin": true,
           "gridcolor": "white",
           "linecolor": "white",
           "ticks": "",
           "title": {
            "standoff": 15
           },
           "zerolinecolor": "white",
           "zerolinewidth": 2
          }
         }
        },
        "xaxis": {
         "anchor": "y",
         "domain": [
          0,
          1
         ],
         "title": {
          "text": "Sales"
         }
        },
        "yaxis": {
         "anchor": "x",
         "domain": [
          0,
          1
         ],
         "title": {
          "text": "Profits"
         }
        }
       }
      }
     },
     "metadata": {},
     "output_type": "display_data"
    }
   ],
   "source": [
    "fin_sek = ['Banking', 'Diversified Financials']\n",
    "m_v = ['Matercard', 'Visa']\n",
    "fin_ds = data_set[data_set['Industry'].isin(fin_sek) | data_set['Country'].isin(m_v)]\n",
    "fin_ds = fin_ds[fin_ds['Market_Value'] > 200000]\n",
    "\n",
    "fig_satis_kar_fin = px.scatter(fin_ds, x='Sales', y='Profits', color='Company', size='Market_Value', hover_name='Year')\n",
    "\n",
    "fig_satis_kar_fin.show()"
   ]
  },
  {
   "cell_type": "code",
   "execution_count": 46,
   "metadata": {},
   "outputs": [
    {
     "data": {
      "application/vnd.plotly.v1+json": {
       "config": {
        "plotlyServerURL": "https://plot.ly"
       },
       "data": [
        {
         "mode": "lines",
         "name": "ICBC",
         "type": "scatter",
         "x": [
          2008,
          2009,
          2010,
          2011,
          2012,
          2013,
          2014,
          2015,
          2016,
          2017,
          2018,
          2019,
          2020,
          2021,
          2022
         ],
         "y": [
          961650,
          1188080,
          1428460,
          1723500,
          2039078,
          2813507,
          3124887,
          3322043,
          3420257,
          3473238,
          4210927,
          4034482,
          4322528,
          4914670,
          5518508
         ]
        },
        {
         "mode": "lines",
         "name": "Berkshire Hathaway",
         "type": "scatter",
         "x": [
          2008,
          2009,
          2010,
          2011,
          2012,
          2013,
          2014,
          2015,
          2016,
          2017,
          2018,
          2019,
          2020,
          2021,
          2022
         ],
         "y": [
          273160,
          267400,
          297120,
          372229,
          392647,
          427452,
          493362,
          534618,
          561068,
          620854,
          702651,
          707794,
          817729,
          873729,
          958784
         ]
        },
        {
         "mode": "lines",
         "name": "China Construction Bank",
         "type": "scatter",
         "x": [
          2010,
          2011,
          2012,
          2013,
          2014,
          2015,
          2016,
          2017,
          2018,
          2019,
          2020,
          2021,
          2022
         ],
         "y": [
          1106200,
          1408020,
          1637782,
          2241031,
          2449488,
          2698925,
          2825983,
          3016578,
          3631583,
          3382422,
          3822048,
          4301700,
          4746951
         ]
        },
        {
         "mode": "lines",
         "name": "Wells Fargo",
         "type": "scatter",
         "x": [
          2008,
          2009,
          2010,
          2011,
          2012,
          2013,
          2014,
          2015,
          2016,
          2017,
          2018,
          2019,
          2020,
          2021,
          2022
         ],
         "y": [
          575440,
          1309640,
          1243650,
          1258130,
          1313867,
          1422968,
          1543042,
          1701408,
          1849182,
          1943443,
          1915388,
          1887792,
          1981349,
          1959543,
          1939709
         ]
        },
        {
         "mode": "lines",
         "name": "HSBC Holdings",
         "type": "scatter",
         "x": [
          2008,
          2009,
          2010,
          2011,
          2012,
          2013,
          2014,
          2015,
          2016,
          2017,
          2018,
          2019,
          2020,
          2021,
          2022
         ],
         "y": [
          2348980,
          2520450,
          2355830,
          2467940,
          2549994,
          2684116,
          2671318,
          2634139,
          2409656,
          2374986,
          2652123,
          2558124,
          2917810,
          2984164,
          2957939
         ]
        },
        {
         "mode": "lines",
         "name": "JPMorgan Chase",
         "type": "scatter",
         "x": [
          2008,
          2009,
          2010,
          2011,
          2012,
          2013,
          2014,
          2015,
          2016,
          2017,
          2018,
          2019,
          2020,
          2021,
          2022
         ],
         "y": [
          1562150,
          2175050,
          2031990,
          2117600,
          2265792,
          2359141,
          2435283,
          2593562,
          2423808,
          2512986,
          2609785,
          2737188,
          3139431,
          3689336,
          3954687
         ]
        },
        {
         "mode": "lines",
         "name": "Bank of America",
         "type": "scatter",
         "x": [
          2008,
          2009,
          2010,
          2011,
          2012,
          2013,
          2014,
          2015,
          2016,
          2017,
          2018,
          2019,
          2020,
          2021,
          2022
         ],
         "y": [
          1715750,
          1817940,
          2223300,
          2264910,
          2129046,
          2209974,
          2113758,
          2114110,
          2185498,
          2196847,
          2328478,
          2377164,
          2619954,
          2832182,
          3238223
         ]
        }
       ],
       "layout": {
        "template": {
         "data": {
          "bar": [
           {
            "error_x": {
             "color": "#2a3f5f"
            },
            "error_y": {
             "color": "#2a3f5f"
            },
            "marker": {
             "line": {
              "color": "#E5ECF6",
              "width": 0.5
             },
             "pattern": {
              "fillmode": "overlay",
              "size": 10,
              "solidity": 0.2
             }
            },
            "type": "bar"
           }
          ],
          "barpolar": [
           {
            "marker": {
             "line": {
              "color": "#E5ECF6",
              "width": 0.5
             },
             "pattern": {
              "fillmode": "overlay",
              "size": 10,
              "solidity": 0.2
             }
            },
            "type": "barpolar"
           }
          ],
          "carpet": [
           {
            "aaxis": {
             "endlinecolor": "#2a3f5f",
             "gridcolor": "white",
             "linecolor": "white",
             "minorgridcolor": "white",
             "startlinecolor": "#2a3f5f"
            },
            "baxis": {
             "endlinecolor": "#2a3f5f",
             "gridcolor": "white",
             "linecolor": "white",
             "minorgridcolor": "white",
             "startlinecolor": "#2a3f5f"
            },
            "type": "carpet"
           }
          ],
          "choropleth": [
           {
            "colorbar": {
             "outlinewidth": 0,
             "ticks": ""
            },
            "type": "choropleth"
           }
          ],
          "contour": [
           {
            "colorbar": {
             "outlinewidth": 0,
             "ticks": ""
            },
            "colorscale": [
             [
              0,
              "#0d0887"
             ],
             [
              0.1111111111111111,
              "#46039f"
             ],
             [
              0.2222222222222222,
              "#7201a8"
             ],
             [
              0.3333333333333333,
              "#9c179e"
             ],
             [
              0.4444444444444444,
              "#bd3786"
             ],
             [
              0.5555555555555556,
              "#d8576b"
             ],
             [
              0.6666666666666666,
              "#ed7953"
             ],
             [
              0.7777777777777778,
              "#fb9f3a"
             ],
             [
              0.8888888888888888,
              "#fdca26"
             ],
             [
              1,
              "#f0f921"
             ]
            ],
            "type": "contour"
           }
          ],
          "contourcarpet": [
           {
            "colorbar": {
             "outlinewidth": 0,
             "ticks": ""
            },
            "type": "contourcarpet"
           }
          ],
          "heatmap": [
           {
            "colorbar": {
             "outlinewidth": 0,
             "ticks": ""
            },
            "colorscale": [
             [
              0,
              "#0d0887"
             ],
             [
              0.1111111111111111,
              "#46039f"
             ],
             [
              0.2222222222222222,
              "#7201a8"
             ],
             [
              0.3333333333333333,
              "#9c179e"
             ],
             [
              0.4444444444444444,
              "#bd3786"
             ],
             [
              0.5555555555555556,
              "#d8576b"
             ],
             [
              0.6666666666666666,
              "#ed7953"
             ],
             [
              0.7777777777777778,
              "#fb9f3a"
             ],
             [
              0.8888888888888888,
              "#fdca26"
             ],
             [
              1,
              "#f0f921"
             ]
            ],
            "type": "heatmap"
           }
          ],
          "heatmapgl": [
           {
            "colorbar": {
             "outlinewidth": 0,
             "ticks": ""
            },
            "colorscale": [
             [
              0,
              "#0d0887"
             ],
             [
              0.1111111111111111,
              "#46039f"
             ],
             [
              0.2222222222222222,
              "#7201a8"
             ],
             [
              0.3333333333333333,
              "#9c179e"
             ],
             [
              0.4444444444444444,
              "#bd3786"
             ],
             [
              0.5555555555555556,
              "#d8576b"
             ],
             [
              0.6666666666666666,
              "#ed7953"
             ],
             [
              0.7777777777777778,
              "#fb9f3a"
             ],
             [
              0.8888888888888888,
              "#fdca26"
             ],
             [
              1,
              "#f0f921"
             ]
            ],
            "type": "heatmapgl"
           }
          ],
          "histogram": [
           {
            "marker": {
             "pattern": {
              "fillmode": "overlay",
              "size": 10,
              "solidity": 0.2
             }
            },
            "type": "histogram"
           }
          ],
          "histogram2d": [
           {
            "colorbar": {
             "outlinewidth": 0,
             "ticks": ""
            },
            "colorscale": [
             [
              0,
              "#0d0887"
             ],
             [
              0.1111111111111111,
              "#46039f"
             ],
             [
              0.2222222222222222,
              "#7201a8"
             ],
             [
              0.3333333333333333,
              "#9c179e"
             ],
             [
              0.4444444444444444,
              "#bd3786"
             ],
             [
              0.5555555555555556,
              "#d8576b"
             ],
             [
              0.6666666666666666,
              "#ed7953"
             ],
             [
              0.7777777777777778,
              "#fb9f3a"
             ],
             [
              0.8888888888888888,
              "#fdca26"
             ],
             [
              1,
              "#f0f921"
             ]
            ],
            "type": "histogram2d"
           }
          ],
          "histogram2dcontour": [
           {
            "colorbar": {
             "outlinewidth": 0,
             "ticks": ""
            },
            "colorscale": [
             [
              0,
              "#0d0887"
             ],
             [
              0.1111111111111111,
              "#46039f"
             ],
             [
              0.2222222222222222,
              "#7201a8"
             ],
             [
              0.3333333333333333,
              "#9c179e"
             ],
             [
              0.4444444444444444,
              "#bd3786"
             ],
             [
              0.5555555555555556,
              "#d8576b"
             ],
             [
              0.6666666666666666,
              "#ed7953"
             ],
             [
              0.7777777777777778,
              "#fb9f3a"
             ],
             [
              0.8888888888888888,
              "#fdca26"
             ],
             [
              1,
              "#f0f921"
             ]
            ],
            "type": "histogram2dcontour"
           }
          ],
          "mesh3d": [
           {
            "colorbar": {
             "outlinewidth": 0,
             "ticks": ""
            },
            "type": "mesh3d"
           }
          ],
          "parcoords": [
           {
            "line": {
             "colorbar": {
              "outlinewidth": 0,
              "ticks": ""
             }
            },
            "type": "parcoords"
           }
          ],
          "pie": [
           {
            "automargin": true,
            "type": "pie"
           }
          ],
          "scatter": [
           {
            "fillpattern": {
             "fillmode": "overlay",
             "size": 10,
             "solidity": 0.2
            },
            "type": "scatter"
           }
          ],
          "scatter3d": [
           {
            "line": {
             "colorbar": {
              "outlinewidth": 0,
              "ticks": ""
             }
            },
            "marker": {
             "colorbar": {
              "outlinewidth": 0,
              "ticks": ""
             }
            },
            "type": "scatter3d"
           }
          ],
          "scattercarpet": [
           {
            "marker": {
             "colorbar": {
              "outlinewidth": 0,
              "ticks": ""
             }
            },
            "type": "scattercarpet"
           }
          ],
          "scattergeo": [
           {
            "marker": {
             "colorbar": {
              "outlinewidth": 0,
              "ticks": ""
             }
            },
            "type": "scattergeo"
           }
          ],
          "scattergl": [
           {
            "marker": {
             "colorbar": {
              "outlinewidth": 0,
              "ticks": ""
             }
            },
            "type": "scattergl"
           }
          ],
          "scattermapbox": [
           {
            "marker": {
             "colorbar": {
              "outlinewidth": 0,
              "ticks": ""
             }
            },
            "type": "scattermapbox"
           }
          ],
          "scatterpolar": [
           {
            "marker": {
             "colorbar": {
              "outlinewidth": 0,
              "ticks": ""
             }
            },
            "type": "scatterpolar"
           }
          ],
          "scatterpolargl": [
           {
            "marker": {
             "colorbar": {
              "outlinewidth": 0,
              "ticks": ""
             }
            },
            "type": "scatterpolargl"
           }
          ],
          "scatterternary": [
           {
            "marker": {
             "colorbar": {
              "outlinewidth": 0,
              "ticks": ""
             }
            },
            "type": "scatterternary"
           }
          ],
          "surface": [
           {
            "colorbar": {
             "outlinewidth": 0,
             "ticks": ""
            },
            "colorscale": [
             [
              0,
              "#0d0887"
             ],
             [
              0.1111111111111111,
              "#46039f"
             ],
             [
              0.2222222222222222,
              "#7201a8"
             ],
             [
              0.3333333333333333,
              "#9c179e"
             ],
             [
              0.4444444444444444,
              "#bd3786"
             ],
             [
              0.5555555555555556,
              "#d8576b"
             ],
             [
              0.6666666666666666,
              "#ed7953"
             ],
             [
              0.7777777777777778,
              "#fb9f3a"
             ],
             [
              0.8888888888888888,
              "#fdca26"
             ],
             [
              1,
              "#f0f921"
             ]
            ],
            "type": "surface"
           }
          ],
          "table": [
           {
            "cells": {
             "fill": {
              "color": "#EBF0F8"
             },
             "line": {
              "color": "white"
             }
            },
            "header": {
             "fill": {
              "color": "#C8D4E3"
             },
             "line": {
              "color": "white"
             }
            },
            "type": "table"
           }
          ]
         },
         "layout": {
          "annotationdefaults": {
           "arrowcolor": "#2a3f5f",
           "arrowhead": 0,
           "arrowwidth": 1
          },
          "autotypenumbers": "strict",
          "coloraxis": {
           "colorbar": {
            "outlinewidth": 0,
            "ticks": ""
           }
          },
          "colorscale": {
           "diverging": [
            [
             0,
             "#8e0152"
            ],
            [
             0.1,
             "#c51b7d"
            ],
            [
             0.2,
             "#de77ae"
            ],
            [
             0.3,
             "#f1b6da"
            ],
            [
             0.4,
             "#fde0ef"
            ],
            [
             0.5,
             "#f7f7f7"
            ],
            [
             0.6,
             "#e6f5d0"
            ],
            [
             0.7,
             "#b8e186"
            ],
            [
             0.8,
             "#7fbc41"
            ],
            [
             0.9,
             "#4d9221"
            ],
            [
             1,
             "#276419"
            ]
           ],
           "sequential": [
            [
             0,
             "#0d0887"
            ],
            [
             0.1111111111111111,
             "#46039f"
            ],
            [
             0.2222222222222222,
             "#7201a8"
            ],
            [
             0.3333333333333333,
             "#9c179e"
            ],
            [
             0.4444444444444444,
             "#bd3786"
            ],
            [
             0.5555555555555556,
             "#d8576b"
            ],
            [
             0.6666666666666666,
             "#ed7953"
            ],
            [
             0.7777777777777778,
             "#fb9f3a"
            ],
            [
             0.8888888888888888,
             "#fdca26"
            ],
            [
             1,
             "#f0f921"
            ]
           ],
           "sequentialminus": [
            [
             0,
             "#0d0887"
            ],
            [
             0.1111111111111111,
             "#46039f"
            ],
            [
             0.2222222222222222,
             "#7201a8"
            ],
            [
             0.3333333333333333,
             "#9c179e"
            ],
            [
             0.4444444444444444,
             "#bd3786"
            ],
            [
             0.5555555555555556,
             "#d8576b"
            ],
            [
             0.6666666666666666,
             "#ed7953"
            ],
            [
             0.7777777777777778,
             "#fb9f3a"
            ],
            [
             0.8888888888888888,
             "#fdca26"
            ],
            [
             1,
             "#f0f921"
            ]
           ]
          },
          "colorway": [
           "#636efa",
           "#EF553B",
           "#00cc96",
           "#ab63fa",
           "#FFA15A",
           "#19d3f3",
           "#FF6692",
           "#B6E880",
           "#FF97FF",
           "#FECB52"
          ],
          "font": {
           "color": "#2a3f5f"
          },
          "geo": {
           "bgcolor": "white",
           "lakecolor": "white",
           "landcolor": "#E5ECF6",
           "showlakes": true,
           "showland": true,
           "subunitcolor": "white"
          },
          "hoverlabel": {
           "align": "left"
          },
          "hovermode": "closest",
          "mapbox": {
           "style": "light"
          },
          "paper_bgcolor": "white",
          "plot_bgcolor": "#E5ECF6",
          "polar": {
           "angularaxis": {
            "gridcolor": "white",
            "linecolor": "white",
            "ticks": ""
           },
           "bgcolor": "#E5ECF6",
           "radialaxis": {
            "gridcolor": "white",
            "linecolor": "white",
            "ticks": ""
           }
          },
          "scene": {
           "xaxis": {
            "backgroundcolor": "#E5ECF6",
            "gridcolor": "white",
            "gridwidth": 2,
            "linecolor": "white",
            "showbackground": true,
            "ticks": "",
            "zerolinecolor": "white"
           },
           "yaxis": {
            "backgroundcolor": "#E5ECF6",
            "gridcolor": "white",
            "gridwidth": 2,
            "linecolor": "white",
            "showbackground": true,
            "ticks": "",
            "zerolinecolor": "white"
           },
           "zaxis": {
            "backgroundcolor": "#E5ECF6",
            "gridcolor": "white",
            "gridwidth": 2,
            "linecolor": "white",
            "showbackground": true,
            "ticks": "",
            "zerolinecolor": "white"
           }
          },
          "shapedefaults": {
           "line": {
            "color": "#2a3f5f"
           }
          },
          "ternary": {
           "aaxis": {
            "gridcolor": "white",
            "linecolor": "white",
            "ticks": ""
           },
           "baxis": {
            "gridcolor": "white",
            "linecolor": "white",
            "ticks": ""
           },
           "bgcolor": "#E5ECF6",
           "caxis": {
            "gridcolor": "white",
            "linecolor": "white",
            "ticks": ""
           }
          },
          "title": {
           "x": 0.05
          },
          "xaxis": {
           "automargin": true,
           "gridcolor": "white",
           "linecolor": "white",
           "ticks": "",
           "title": {
            "standoff": 15
           },
           "zerolinecolor": "white",
           "zerolinewidth": 2
          },
          "yaxis": {
           "automargin": true,
           "gridcolor": "white",
           "linecolor": "white",
           "ticks": "",
           "title": {
            "standoff": 15
           },
           "zerolinecolor": "white",
           "zerolinewidth": 2
          }
         }
        },
        "title": {
         "text": "Bankaların Sahip Olduğu Varlıklar"
        },
        "xaxis": {
         "title": {
          "text": "Yıl"
         }
        },
        "yaxis": {
         "title": {
          "text": "Toplam Varlık Değeri (Milyon Dolar)"
         }
        }
       }
      }
     },
     "metadata": {},
     "output_type": "display_data"
    }
   ],
   "source": [
    "bankas = ['ICBC', 'Berkshire Hathaway', 'China Construction Bank', 'Wells Fargo', 'HSBC Holdings', 'JPMorgan Chase', 'Bank of America' ]\n",
    "bankas_ds = data_set[data_set['Company'].isin(bankas)]\n",
    "\n",
    "\n",
    "traces = []\n",
    "for company in bankas:\n",
    "    company_df = bankas_ds[bankas_ds['Company'] == company]\n",
    "    traces.append(go.Scatter(x=company_df['Year'], y=company_df['Assets'], mode='lines', name=company))\n",
    "\n",
    "\n",
    "fig = go.Figure(traces)\n",
    "\n",
    "\n",
    "fig.update_layout(\n",
    "    title='Bankaların Sahip Olduğu Varlıklar',\n",
    "    xaxis_title='Yıl',\n",
    "    yaxis_title='Toplam Varlık Değeri (Milyon Dolar)',\n",
    ")\n",
    "\n",
    "\n",
    "fig.show()"
   ]
  },
  {
   "cell_type": "code",
   "execution_count": 52,
   "metadata": {},
   "outputs": [
    {
     "data": {
      "application/vnd.plotly.v1+json": {
       "config": {
        "plotlyServerURL": "https://plot.ly"
       },
       "data": [
        {
         "mode": "lines",
         "name": "Mastercard",
         "type": "scatter",
         "x": [
          2017,
          2018,
          2019,
          2020,
          2021,
          2022
         ],
         "y": [
          121331,
          201894,
          247132,
          276081,
          383607,
          343270
         ]
        },
        {
         "mode": "lines",
         "name": "Visa",
         "type": "scatter",
         "x": [
          2009,
          2010,
          2011,
          2012,
          2013,
          2014,
          2015,
          2016,
          2017,
          2018,
          2019,
          2020,
          2021,
          2022
         ],
         "y": [
          47980,
          73120,
          60396,
          94896,
          104827,
          135971,
          160105,
          189782,
          206396,
          295124,
          351882,
          383947,
          483900,
          436494
         ]
        },
        {
         "mode": "lines",
         "name": "PayPal",
         "type": "scatter",
         "x": [
          2016,
          2017,
          2018,
          2019,
          2020,
          2021,
          2022
         ],
         "y": [
          48853,
          51673,
          94041,
          125846,
          144266,
          316898,
          100225
         ]
        }
       ],
       "layout": {
        "template": {
         "data": {
          "bar": [
           {
            "error_x": {
             "color": "#2a3f5f"
            },
            "error_y": {
             "color": "#2a3f5f"
            },
            "marker": {
             "line": {
              "color": "#E5ECF6",
              "width": 0.5
             },
             "pattern": {
              "fillmode": "overlay",
              "size": 10,
              "solidity": 0.2
             }
            },
            "type": "bar"
           }
          ],
          "barpolar": [
           {
            "marker": {
             "line": {
              "color": "#E5ECF6",
              "width": 0.5
             },
             "pattern": {
              "fillmode": "overlay",
              "size": 10,
              "solidity": 0.2
             }
            },
            "type": "barpolar"
           }
          ],
          "carpet": [
           {
            "aaxis": {
             "endlinecolor": "#2a3f5f",
             "gridcolor": "white",
             "linecolor": "white",
             "minorgridcolor": "white",
             "startlinecolor": "#2a3f5f"
            },
            "baxis": {
             "endlinecolor": "#2a3f5f",
             "gridcolor": "white",
             "linecolor": "white",
             "minorgridcolor": "white",
             "startlinecolor": "#2a3f5f"
            },
            "type": "carpet"
           }
          ],
          "choropleth": [
           {
            "colorbar": {
             "outlinewidth": 0,
             "ticks": ""
            },
            "type": "choropleth"
           }
          ],
          "contour": [
           {
            "colorbar": {
             "outlinewidth": 0,
             "ticks": ""
            },
            "colorscale": [
             [
              0,
              "#0d0887"
             ],
             [
              0.1111111111111111,
              "#46039f"
             ],
             [
              0.2222222222222222,
              "#7201a8"
             ],
             [
              0.3333333333333333,
              "#9c179e"
             ],
             [
              0.4444444444444444,
              "#bd3786"
             ],
             [
              0.5555555555555556,
              "#d8576b"
             ],
             [
              0.6666666666666666,
              "#ed7953"
             ],
             [
              0.7777777777777778,
              "#fb9f3a"
             ],
             [
              0.8888888888888888,
              "#fdca26"
             ],
             [
              1,
              "#f0f921"
             ]
            ],
            "type": "contour"
           }
          ],
          "contourcarpet": [
           {
            "colorbar": {
             "outlinewidth": 0,
             "ticks": ""
            },
            "type": "contourcarpet"
           }
          ],
          "heatmap": [
           {
            "colorbar": {
             "outlinewidth": 0,
             "ticks": ""
            },
            "colorscale": [
             [
              0,
              "#0d0887"
             ],
             [
              0.1111111111111111,
              "#46039f"
             ],
             [
              0.2222222222222222,
              "#7201a8"
             ],
             [
              0.3333333333333333,
              "#9c179e"
             ],
             [
              0.4444444444444444,
              "#bd3786"
             ],
             [
              0.5555555555555556,
              "#d8576b"
             ],
             [
              0.6666666666666666,
              "#ed7953"
             ],
             [
              0.7777777777777778,
              "#fb9f3a"
             ],
             [
              0.8888888888888888,
              "#fdca26"
             ],
             [
              1,
              "#f0f921"
             ]
            ],
            "type": "heatmap"
           }
          ],
          "heatmapgl": [
           {
            "colorbar": {
             "outlinewidth": 0,
             "ticks": ""
            },
            "colorscale": [
             [
              0,
              "#0d0887"
             ],
             [
              0.1111111111111111,
              "#46039f"
             ],
             [
              0.2222222222222222,
              "#7201a8"
             ],
             [
              0.3333333333333333,
              "#9c179e"
             ],
             [
              0.4444444444444444,
              "#bd3786"
             ],
             [
              0.5555555555555556,
              "#d8576b"
             ],
             [
              0.6666666666666666,
              "#ed7953"
             ],
             [
              0.7777777777777778,
              "#fb9f3a"
             ],
             [
              0.8888888888888888,
              "#fdca26"
             ],
             [
              1,
              "#f0f921"
             ]
            ],
            "type": "heatmapgl"
           }
          ],
          "histogram": [
           {
            "marker": {
             "pattern": {
              "fillmode": "overlay",
              "size": 10,
              "solidity": 0.2
             }
            },
            "type": "histogram"
           }
          ],
          "histogram2d": [
           {
            "colorbar": {
             "outlinewidth": 0,
             "ticks": ""
            },
            "colorscale": [
             [
              0,
              "#0d0887"
             ],
             [
              0.1111111111111111,
              "#46039f"
             ],
             [
              0.2222222222222222,
              "#7201a8"
             ],
             [
              0.3333333333333333,
              "#9c179e"
             ],
             [
              0.4444444444444444,
              "#bd3786"
             ],
             [
              0.5555555555555556,
              "#d8576b"
             ],
             [
              0.6666666666666666,
              "#ed7953"
             ],
             [
              0.7777777777777778,
              "#fb9f3a"
             ],
             [
              0.8888888888888888,
              "#fdca26"
             ],
             [
              1,
              "#f0f921"
             ]
            ],
            "type": "histogram2d"
           }
          ],
          "histogram2dcontour": [
           {
            "colorbar": {
             "outlinewidth": 0,
             "ticks": ""
            },
            "colorscale": [
             [
              0,
              "#0d0887"
             ],
             [
              0.1111111111111111,
              "#46039f"
             ],
             [
              0.2222222222222222,
              "#7201a8"
             ],
             [
              0.3333333333333333,
              "#9c179e"
             ],
             [
              0.4444444444444444,
              "#bd3786"
             ],
             [
              0.5555555555555556,
              "#d8576b"
             ],
             [
              0.6666666666666666,
              "#ed7953"
             ],
             [
              0.7777777777777778,
              "#fb9f3a"
             ],
             [
              0.8888888888888888,
              "#fdca26"
             ],
             [
              1,
              "#f0f921"
             ]
            ],
            "type": "histogram2dcontour"
           }
          ],
          "mesh3d": [
           {
            "colorbar": {
             "outlinewidth": 0,
             "ticks": ""
            },
            "type": "mesh3d"
           }
          ],
          "parcoords": [
           {
            "line": {
             "colorbar": {
              "outlinewidth": 0,
              "ticks": ""
             }
            },
            "type": "parcoords"
           }
          ],
          "pie": [
           {
            "automargin": true,
            "type": "pie"
           }
          ],
          "scatter": [
           {
            "fillpattern": {
             "fillmode": "overlay",
             "size": 10,
             "solidity": 0.2
            },
            "type": "scatter"
           }
          ],
          "scatter3d": [
           {
            "line": {
             "colorbar": {
              "outlinewidth": 0,
              "ticks": ""
             }
            },
            "marker": {
             "colorbar": {
              "outlinewidth": 0,
              "ticks": ""
             }
            },
            "type": "scatter3d"
           }
          ],
          "scattercarpet": [
           {
            "marker": {
             "colorbar": {
              "outlinewidth": 0,
              "ticks": ""
             }
            },
            "type": "scattercarpet"
           }
          ],
          "scattergeo": [
           {
            "marker": {
             "colorbar": {
              "outlinewidth": 0,
              "ticks": ""
             }
            },
            "type": "scattergeo"
           }
          ],
          "scattergl": [
           {
            "marker": {
             "colorbar": {
              "outlinewidth": 0,
              "ticks": ""
             }
            },
            "type": "scattergl"
           }
          ],
          "scattermapbox": [
           {
            "marker": {
             "colorbar": {
              "outlinewidth": 0,
              "ticks": ""
             }
            },
            "type": "scattermapbox"
           }
          ],
          "scatterpolar": [
           {
            "marker": {
             "colorbar": {
              "outlinewidth": 0,
              "ticks": ""
             }
            },
            "type": "scatterpolar"
           }
          ],
          "scatterpolargl": [
           {
            "marker": {
             "colorbar": {
              "outlinewidth": 0,
              "ticks": ""
             }
            },
            "type": "scatterpolargl"
           }
          ],
          "scatterternary": [
           {
            "marker": {
             "colorbar": {
              "outlinewidth": 0,
              "ticks": ""
             }
            },
            "type": "scatterternary"
           }
          ],
          "surface": [
           {
            "colorbar": {
             "outlinewidth": 0,
             "ticks": ""
            },
            "colorscale": [
             [
              0,
              "#0d0887"
             ],
             [
              0.1111111111111111,
              "#46039f"
             ],
             [
              0.2222222222222222,
              "#7201a8"
             ],
             [
              0.3333333333333333,
              "#9c179e"
             ],
             [
              0.4444444444444444,
              "#bd3786"
             ],
             [
              0.5555555555555556,
              "#d8576b"
             ],
             [
              0.6666666666666666,
              "#ed7953"
             ],
             [
              0.7777777777777778,
              "#fb9f3a"
             ],
             [
              0.8888888888888888,
              "#fdca26"
             ],
             [
              1,
              "#f0f921"
             ]
            ],
            "type": "surface"
           }
          ],
          "table": [
           {
            "cells": {
             "fill": {
              "color": "#EBF0F8"
             },
             "line": {
              "color": "white"
             }
            },
            "header": {
             "fill": {
              "color": "#C8D4E3"
             },
             "line": {
              "color": "white"
             }
            },
            "type": "table"
           }
          ]
         },
         "layout": {
          "annotationdefaults": {
           "arrowcolor": "#2a3f5f",
           "arrowhead": 0,
           "arrowwidth": 1
          },
          "autotypenumbers": "strict",
          "coloraxis": {
           "colorbar": {
            "outlinewidth": 0,
            "ticks": ""
           }
          },
          "colorscale": {
           "diverging": [
            [
             0,
             "#8e0152"
            ],
            [
             0.1,
             "#c51b7d"
            ],
            [
             0.2,
             "#de77ae"
            ],
            [
             0.3,
             "#f1b6da"
            ],
            [
             0.4,
             "#fde0ef"
            ],
            [
             0.5,
             "#f7f7f7"
            ],
            [
             0.6,
             "#e6f5d0"
            ],
            [
             0.7,
             "#b8e186"
            ],
            [
             0.8,
             "#7fbc41"
            ],
            [
             0.9,
             "#4d9221"
            ],
            [
             1,
             "#276419"
            ]
           ],
           "sequential": [
            [
             0,
             "#0d0887"
            ],
            [
             0.1111111111111111,
             "#46039f"
            ],
            [
             0.2222222222222222,
             "#7201a8"
            ],
            [
             0.3333333333333333,
             "#9c179e"
            ],
            [
             0.4444444444444444,
             "#bd3786"
            ],
            [
             0.5555555555555556,
             "#d8576b"
            ],
            [
             0.6666666666666666,
             "#ed7953"
            ],
            [
             0.7777777777777778,
             "#fb9f3a"
            ],
            [
             0.8888888888888888,
             "#fdca26"
            ],
            [
             1,
             "#f0f921"
            ]
           ],
           "sequentialminus": [
            [
             0,
             "#0d0887"
            ],
            [
             0.1111111111111111,
             "#46039f"
            ],
            [
             0.2222222222222222,
             "#7201a8"
            ],
            [
             0.3333333333333333,
             "#9c179e"
            ],
            [
             0.4444444444444444,
             "#bd3786"
            ],
            [
             0.5555555555555556,
             "#d8576b"
            ],
            [
             0.6666666666666666,
             "#ed7953"
            ],
            [
             0.7777777777777778,
             "#fb9f3a"
            ],
            [
             0.8888888888888888,
             "#fdca26"
            ],
            [
             1,
             "#f0f921"
            ]
           ]
          },
          "colorway": [
           "#636efa",
           "#EF553B",
           "#00cc96",
           "#ab63fa",
           "#FFA15A",
           "#19d3f3",
           "#FF6692",
           "#B6E880",
           "#FF97FF",
           "#FECB52"
          ],
          "font": {
           "color": "#2a3f5f"
          },
          "geo": {
           "bgcolor": "white",
           "lakecolor": "white",
           "landcolor": "#E5ECF6",
           "showlakes": true,
           "showland": true,
           "subunitcolor": "white"
          },
          "hoverlabel": {
           "align": "left"
          },
          "hovermode": "closest",
          "mapbox": {
           "style": "light"
          },
          "paper_bgcolor": "white",
          "plot_bgcolor": "#E5ECF6",
          "polar": {
           "angularaxis": {
            "gridcolor": "white",
            "linecolor": "white",
            "ticks": ""
           },
           "bgcolor": "#E5ECF6",
           "radialaxis": {
            "gridcolor": "white",
            "linecolor": "white",
            "ticks": ""
           }
          },
          "scene": {
           "xaxis": {
            "backgroundcolor": "#E5ECF6",
            "gridcolor": "white",
            "gridwidth": 2,
            "linecolor": "white",
            "showbackground": true,
            "ticks": "",
            "zerolinecolor": "white"
           },
           "yaxis": {
            "backgroundcolor": "#E5ECF6",
            "gridcolor": "white",
            "gridwidth": 2,
            "linecolor": "white",
            "showbackground": true,
            "ticks": "",
            "zerolinecolor": "white"
           },
           "zaxis": {
            "backgroundcolor": "#E5ECF6",
            "gridcolor": "white",
            "gridwidth": 2,
            "linecolor": "white",
            "showbackground": true,
            "ticks": "",
            "zerolinecolor": "white"
           }
          },
          "shapedefaults": {
           "line": {
            "color": "#2a3f5f"
           }
          },
          "ternary": {
           "aaxis": {
            "gridcolor": "white",
            "linecolor": "white",
            "ticks": ""
           },
           "baxis": {
            "gridcolor": "white",
            "linecolor": "white",
            "ticks": ""
           },
           "bgcolor": "#E5ECF6",
           "caxis": {
            "gridcolor": "white",
            "linecolor": "white",
            "ticks": ""
           }
          },
          "title": {
           "x": 0.05
          },
          "xaxis": {
           "automargin": true,
           "gridcolor": "white",
           "linecolor": "white",
           "ticks": "",
           "title": {
            "standoff": 15
           },
           "zerolinecolor": "white",
           "zerolinewidth": 2
          },
          "yaxis": {
           "automargin": true,
           "gridcolor": "white",
           "linecolor": "white",
           "ticks": "",
           "title": {
            "standoff": 15
           },
           "zerolinecolor": "white",
           "zerolinewidth": 2
          }
         }
        },
        "title": {
         "text": "Bitmeyen Rekabet Visa vs Matercard"
        },
        "xaxis": {
         "title": {
          "text": "Yıl"
         }
        },
        "yaxis": {
         "title": {
          "text": "Piyasa Değeri (Milyon Dolar)"
         }
        }
       }
      }
     },
     "metadata": {},
     "output_type": "display_data"
    }
   ],
   "source": [
    "m_v = ['Mastercard', 'Visa', 'PayPal']\n",
    "mv_ds = data_set[data_set['Company'].isin(m_v)]\n",
    "\n",
    "traces = []\n",
    "for company in m_v:\n",
    "    company_df = mv_ds[mv_ds['Company'] == company]\n",
    "    traces.append(go.Scatter(x=company_df['Year'], y=company_df['Market_Value'], mode='lines', name=company))\n",
    "\n",
    "fig = go.Figure(traces)\n",
    "\n",
    "\n",
    "fig.update_layout(\n",
    "    title='Bitmeyen Rekabet Visa vs Matercard',\n",
    "    xaxis_title='Yıl',\n",
    "    yaxis_title='Piyasa Değeri (Milyon Dolar)',\n",
    ")\n",
    "\n",
    "\n",
    "fig.show()\n"
   ]
  }
 ],
 "metadata": {
  "kernelspec": {
   "display_name": "isar",
   "language": "python",
   "name": "python3"
  },
  "language_info": {
   "codemirror_mode": {
    "name": "ipython",
    "version": 3
   },
   "file_extension": ".py",
   "mimetype": "text/x-python",
   "name": "python",
   "nbconvert_exporter": "python",
   "pygments_lexer": "ipython3",
   "version": "3.9.16"
  },
  "orig_nbformat": 4
 },
 "nbformat": 4,
 "nbformat_minor": 2
}
